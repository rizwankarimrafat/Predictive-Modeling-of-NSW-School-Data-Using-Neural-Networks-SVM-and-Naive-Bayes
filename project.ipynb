{
 "cells": [
  {
   "cell_type": "markdown",
   "id": "53dfbeb1",
   "metadata": {},
   "source": [
    "# Data Preprocessing"
   ]
  },
  {
   "cell_type": "code",
   "execution_count": 1,
   "id": "59857b92",
   "metadata": {},
   "outputs": [],
   "source": [
    "import pandas as pd\n",
    "import numpy as np\n",
    "from sklearn.model_selection import train_test_split, cross_val_score\n",
    "from sklearn.preprocessing import StandardScaler, LabelEncoder\n",
    "from sklearn.metrics import confusion_matrix, accuracy_score, precision_score, recall_score, f1_score, ConfusionMatrixDisplay, classification_report, roc_curve, roc_auc_score\n",
    "from tensorflow import keras\n",
    "import matplotlib.pyplot as plt\n",
    "import matplotlib as mpl\n",
    "mpl.rc('axes', labelsize=14)\n",
    "mpl.rc('xtick', labelsize=12)\n",
    "mpl.rc('ytick', labelsize=12)\n",
    "import os\n",
    "from sklearn.svm import LinearSVC\n",
    "from sklearn.svm import SVC\n",
    "from sklearn.naive_bayes import GaussianNB"
   ]
  },
  {
   "cell_type": "code",
   "execution_count": 2,
   "id": "d5e06cd9",
   "metadata": {},
   "outputs": [],
   "source": [
    "data = pd.read_csv('master_dataset.csv')"
   ]
  },
  {
   "cell_type": "code",
   "execution_count": 3,
   "id": "ab4edfca",
   "metadata": {},
   "outputs": [
    {
     "data": {
      "text/html": [
       "<div>\n",
       "<style scoped>\n",
       "    .dataframe tbody tr th:only-of-type {\n",
       "        vertical-align: middle;\n",
       "    }\n",
       "\n",
       "    .dataframe tbody tr th {\n",
       "        vertical-align: top;\n",
       "    }\n",
       "\n",
       "    .dataframe thead th {\n",
       "        text-align: right;\n",
       "    }\n",
       "</style>\n",
       "<table border=\"1\" class=\"dataframe\">\n",
       "  <thead>\n",
       "    <tr style=\"text-align: right;\">\n",
       "      <th></th>\n",
       "      <th>School_code</th>\n",
       "      <th>AgeID</th>\n",
       "      <th>School_name</th>\n",
       "      <th>Street</th>\n",
       "      <th>Town_suburb</th>\n",
       "      <th>Postcode</th>\n",
       "      <th>Phone</th>\n",
       "      <th>School_Email</th>\n",
       "      <th>Website</th>\n",
       "      <th>Fax</th>\n",
       "      <th>...</th>\n",
       "      <th>Operational_directorate_office_address</th>\n",
       "      <th>FACS_district</th>\n",
       "      <th>Local_health_district</th>\n",
       "      <th>AECG_region</th>\n",
       "      <th>ASGS_remoteness</th>\n",
       "      <th>Latitude</th>\n",
       "      <th>Longitude</th>\n",
       "      <th>Assets unit</th>\n",
       "      <th>SA4</th>\n",
       "      <th>Date_extracted</th>\n",
       "    </tr>\n",
       "  </thead>\n",
       "  <tbody>\n",
       "    <tr>\n",
       "      <th>0</th>\n",
       "      <td>1138</td>\n",
       "      <td>49127.0</td>\n",
       "      <td>Barnsley Public School</td>\n",
       "      <td>Cliffbrook St</td>\n",
       "      <td>Barnsley</td>\n",
       "      <td>2278.0</td>\n",
       "      <td>4953 2976</td>\n",
       "      <td>barnsley-p.school@det.nsw.edu.au</td>\n",
       "      <td>https://barnsley-p.schools.nsw.gov.au</td>\n",
       "      <td>4953 3094</td>\n",
       "      <td>...</td>\n",
       "      <td>40-44 Coral Cr, Gateshead West 2290</td>\n",
       "      <td>Hunter New England &amp; Central Coast</td>\n",
       "      <td>Hunter New England</td>\n",
       "      <td>Hunter</td>\n",
       "      <td>Major Cities of Australia</td>\n",
       "      <td>-32.933094</td>\n",
       "      <td>151.594552</td>\n",
       "      <td>Hunter/Central Coast</td>\n",
       "      <td>Newcastle and Lake Macquarie</td>\n",
       "      <td>2023-10-05</td>\n",
       "    </tr>\n",
       "    <tr>\n",
       "      <th>1</th>\n",
       "      <td>1139</td>\n",
       "      <td>50460.0</td>\n",
       "      <td>Barooga Public School</td>\n",
       "      <td>Hughes St</td>\n",
       "      <td>Barooga</td>\n",
       "      <td>3644.0</td>\n",
       "      <td>03 5873 4242</td>\n",
       "      <td>barooga-p.school@det.nsw.edu.au</td>\n",
       "      <td>https://barooga-p.schools.nsw.gov.au</td>\n",
       "      <td>03 5873 4700</td>\n",
       "      <td>...</td>\n",
       "      <td>521 Macauley St, Albury 2640</td>\n",
       "      <td>Murrumbidgee, Far West &amp; Western NSW</td>\n",
       "      <td>Murrumbidgee</td>\n",
       "      <td>Riverina 2</td>\n",
       "      <td>Inner Regional Australia</td>\n",
       "      <td>-35.912963</td>\n",
       "      <td>145.695985</td>\n",
       "      <td>Southern NSW</td>\n",
       "      <td>Murray</td>\n",
       "      <td>2023-10-05</td>\n",
       "    </tr>\n",
       "    <tr>\n",
       "      <th>2</th>\n",
       "      <td>1140</td>\n",
       "      <td>49371.0</td>\n",
       "      <td>Barraba Central School</td>\n",
       "      <td>29 Gotha Street</td>\n",
       "      <td>BARRABA</td>\n",
       "      <td>2347.0</td>\n",
       "      <td>6782 1104</td>\n",
       "      <td>barraba-c.school@det.nsw.edu.au</td>\n",
       "      <td>https://barraba-c.schools.nsw.gov.au</td>\n",
       "      <td>6782 1231</td>\n",
       "      <td>...</td>\n",
       "      <td>66-68 Frome St, Moree 2400</td>\n",
       "      <td>Hunter New England &amp; Central Coast</td>\n",
       "      <td>Hunter New England</td>\n",
       "      <td>North Western 2</td>\n",
       "      <td>Outer Regional Australia</td>\n",
       "      <td>-30.382390</td>\n",
       "      <td>150.599478</td>\n",
       "      <td>North Western NSW</td>\n",
       "      <td>New England and North West</td>\n",
       "      <td>2023-10-05</td>\n",
       "    </tr>\n",
       "    <tr>\n",
       "      <th>3</th>\n",
       "      <td>1143</td>\n",
       "      <td>49523.0</td>\n",
       "      <td>Barrington Public School</td>\n",
       "      <td>1 Kenmore St</td>\n",
       "      <td>Barrington</td>\n",
       "      <td>2422.0</td>\n",
       "      <td>6558 4258</td>\n",
       "      <td>barrington-p.school@det.nsw.edu.au</td>\n",
       "      <td>https://barrington-p.schools.nsw.gov.au</td>\n",
       "      <td>6558 4216</td>\n",
       "      <td>...</td>\n",
       "      <td>Middle St, Forster 2428</td>\n",
       "      <td>Hunter New England &amp; Central Coast</td>\n",
       "      <td>Hunter New England</td>\n",
       "      <td>Manning</td>\n",
       "      <td>Outer Regional Australia</td>\n",
       "      <td>-31.971159</td>\n",
       "      <td>151.911058</td>\n",
       "      <td>North Coast</td>\n",
       "      <td>Mid North Coast</td>\n",
       "      <td>2023-10-05</td>\n",
       "    </tr>\n",
       "    <tr>\n",
       "      <th>4</th>\n",
       "      <td>1146</td>\n",
       "      <td>49683.0</td>\n",
       "      <td>Baryulgil Public School</td>\n",
       "      <td>7135 Clarence Way</td>\n",
       "      <td>Baryulgil</td>\n",
       "      <td>2460.0</td>\n",
       "      <td>6647 2124</td>\n",
       "      <td>baryulgil-p.school@det.nsw.edu.au</td>\n",
       "      <td>https://baryulgil-p.schools.nsw.gov.au</td>\n",
       "      <td>6647 2151</td>\n",
       "      <td>...</td>\n",
       "      <td>97 Mary St, Grafton 2460</td>\n",
       "      <td>Mid North Coast &amp; Northern NSW</td>\n",
       "      <td>Northern NSW</td>\n",
       "      <td>Upper North Coast</td>\n",
       "      <td>Outer Regional Australia</td>\n",
       "      <td>-29.223500</td>\n",
       "      <td>152.605615</td>\n",
       "      <td>North Coast</td>\n",
       "      <td>Coffs Harbour - Grafton</td>\n",
       "      <td>2023-10-05</td>\n",
       "    </tr>\n",
       "  </tbody>\n",
       "</table>\n",
       "<p>5 rows × 44 columns</p>\n",
       "</div>"
      ],
      "text/plain": [
       "   School_code    AgeID               School_name             Street  \\\n",
       "0         1138  49127.0    Barnsley Public School      Cliffbrook St   \n",
       "1         1139  50460.0     Barooga Public School          Hughes St   \n",
       "2         1140  49371.0    Barraba Central School    29 Gotha Street   \n",
       "3         1143  49523.0  Barrington Public School       1 Kenmore St   \n",
       "4         1146  49683.0   Baryulgil Public School  7135 Clarence Way   \n",
       "\n",
       "   Town_suburb  Postcode         Phone                        School_Email  \\\n",
       "0    Barnsley     2278.0     4953 2976    barnsley-p.school@det.nsw.edu.au   \n",
       "1     Barooga     3644.0  03 5873 4242     barooga-p.school@det.nsw.edu.au   \n",
       "2      BARRABA    2347.0     6782 1104     barraba-c.school@det.nsw.edu.au   \n",
       "3  Barrington     2422.0     6558 4258  barrington-p.school@det.nsw.edu.au   \n",
       "4   Baryulgil     2460.0     6647 2124   baryulgil-p.school@det.nsw.edu.au   \n",
       "\n",
       "                                   Website           Fax  ...  \\\n",
       "0    https://barnsley-p.schools.nsw.gov.au     4953 3094  ...   \n",
       "1     https://barooga-p.schools.nsw.gov.au  03 5873 4700  ...   \n",
       "2     https://barraba-c.schools.nsw.gov.au     6782 1231  ...   \n",
       "3  https://barrington-p.schools.nsw.gov.au     6558 4216  ...   \n",
       "4   https://baryulgil-p.schools.nsw.gov.au     6647 2151  ...   \n",
       "\n",
       "   Operational_directorate_office_address  \\\n",
       "0     40-44 Coral Cr, Gateshead West 2290   \n",
       "1            521 Macauley St, Albury 2640   \n",
       "2              66-68 Frome St, Moree 2400   \n",
       "3                 Middle St, Forster 2428   \n",
       "4                97 Mary St, Grafton 2460   \n",
       "\n",
       "                          FACS_district Local_health_district  \\\n",
       "0    Hunter New England & Central Coast    Hunter New England   \n",
       "1  Murrumbidgee, Far West & Western NSW          Murrumbidgee   \n",
       "2    Hunter New England & Central Coast    Hunter New England   \n",
       "3    Hunter New England & Central Coast    Hunter New England   \n",
       "4        Mid North Coast & Northern NSW          Northern NSW   \n",
       "\n",
       "         AECG_region            ASGS_remoteness   Latitude   Longitude  \\\n",
       "0             Hunter  Major Cities of Australia -32.933094  151.594552   \n",
       "1         Riverina 2   Inner Regional Australia -35.912963  145.695985   \n",
       "2    North Western 2   Outer Regional Australia -30.382390  150.599478   \n",
       "3            Manning   Outer Regional Australia -31.971159  151.911058   \n",
       "4  Upper North Coast   Outer Regional Australia -29.223500  152.605615   \n",
       "\n",
       "            Assets unit                           SA4  Date_extracted  \n",
       "0  Hunter/Central Coast  Newcastle and Lake Macquarie      2023-10-05  \n",
       "1          Southern NSW                        Murray      2023-10-05  \n",
       "2     North Western NSW    New England and North West      2023-10-05  \n",
       "3           North Coast               Mid North Coast      2023-10-05  \n",
       "4           North Coast       Coffs Harbour - Grafton      2023-10-05  \n",
       "\n",
       "[5 rows x 44 columns]"
      ]
     },
     "execution_count": 3,
     "metadata": {},
     "output_type": "execute_result"
    }
   ],
   "source": [
    "data.head()"
   ]
  },
  {
   "cell_type": "code",
   "execution_count": 4,
   "id": "fed3dc7c",
   "metadata": {},
   "outputs": [
    {
     "name": "stdout",
     "output_type": "stream",
     "text": [
      "<class 'pandas.core.frame.DataFrame'>\n",
      "RangeIndex: 2216 entries, 0 to 2215\n",
      "Data columns (total 44 columns):\n",
      " #   Column                                  Non-Null Count  Dtype  \n",
      "---  ------                                  --------------  -----  \n",
      " 0   School_code                             2216 non-null   int64  \n",
      " 1   AgeID                                   2214 non-null   float64\n",
      " 2   School_name                             2216 non-null   object \n",
      " 3   Street                                  2216 non-null   object \n",
      " 4   Town_suburb                             2209 non-null   object \n",
      " 5   Postcode                                2215 non-null   float64\n",
      " 6   Phone                                   2216 non-null   object \n",
      " 7   School_Email                            2215 non-null   object \n",
      " 8   Website                                 2216 non-null   object \n",
      " 9   Fax                                     2113 non-null   object \n",
      " 10  latest_year_enrolment_FTE               2166 non-null   float64\n",
      " 11  Indigenous_pct                          2166 non-null   object \n",
      " 12  LBOTE_pct                               2154 non-null   object \n",
      " 13  ICSEA_value                             2157 non-null   float64\n",
      " 14  Level_of_schooling                      2216 non-null   object \n",
      " 15  Selective_school                        2216 non-null   object \n",
      " 16  Opportunity_class                       2216 non-null   object \n",
      " 17  School_specialty_type                   2216 non-null   object \n",
      " 18  School_subtype                          2216 non-null   object \n",
      " 19  Support_classes                         0 non-null      float64\n",
      " 20  Preschool_ind                           2216 non-null   object \n",
      " 21  Distance_education                      2216 non-null   object \n",
      " 22  Intensive_english_centre                2216 non-null   object \n",
      " 23  School_gender                           2216 non-null   object \n",
      " 24  Late_opening_school                     2216 non-null   object \n",
      " 25  Date_1st_teacher                        2215 non-null   object \n",
      " 26  LGA                                     2216 non-null   object \n",
      " 27  electorate_from_2023                    2216 non-null   object \n",
      " 28  electorate_2015_2022                    2208 non-null   object \n",
      " 29  Fed_electorate                          2208 non-null   object \n",
      " 30  Operational_directorate                 2216 non-null   object \n",
      " 31  Principal_network                       2216 non-null   object \n",
      " 32  Operational_directorate_office          2215 non-null   object \n",
      " 33  Operational_directorate_office_phone    2215 non-null   object \n",
      " 34  Operational_directorate_office_address  2215 non-null   object \n",
      " 35  FACS_district                           2206 non-null   object \n",
      " 36  Local_health_district                   2206 non-null   object \n",
      " 37  AECG_region                             2192 non-null   object \n",
      " 38  ASGS_remoteness                         2216 non-null   object \n",
      " 39  Latitude                                2216 non-null   float64\n",
      " 40  Longitude                               2216 non-null   float64\n",
      " 41  Assets unit                             2178 non-null   object \n",
      " 42  SA4                                     2215 non-null   object \n",
      " 43  Date_extracted                          2216 non-null   object \n",
      "dtypes: float64(7), int64(1), object(36)\n",
      "memory usage: 761.9+ KB\n"
     ]
    }
   ],
   "source": [
    "data.info()"
   ]
  },
  {
   "cell_type": "code",
   "execution_count": 5,
   "id": "22d21030",
   "metadata": {
    "scrolled": false
   },
   "outputs": [
    {
     "data": {
      "text/html": [
       "<div>\n",
       "<style scoped>\n",
       "    .dataframe tbody tr th:only-of-type {\n",
       "        vertical-align: middle;\n",
       "    }\n",
       "\n",
       "    .dataframe tbody tr th {\n",
       "        vertical-align: top;\n",
       "    }\n",
       "\n",
       "    .dataframe thead th {\n",
       "        text-align: right;\n",
       "    }\n",
       "</style>\n",
       "<table border=\"1\" class=\"dataframe\">\n",
       "  <thead>\n",
       "    <tr style=\"text-align: right;\">\n",
       "      <th></th>\n",
       "      <th>School_code</th>\n",
       "      <th>AgeID</th>\n",
       "      <th>Postcode</th>\n",
       "      <th>latest_year_enrolment_FTE</th>\n",
       "      <th>ICSEA_value</th>\n",
       "      <th>Support_classes</th>\n",
       "      <th>Latitude</th>\n",
       "      <th>Longitude</th>\n",
       "    </tr>\n",
       "  </thead>\n",
       "  <tbody>\n",
       "    <tr>\n",
       "      <th>count</th>\n",
       "      <td>2216.000000</td>\n",
       "      <td>2214.000000</td>\n",
       "      <td>2215.000000</td>\n",
       "      <td>2166.000000</td>\n",
       "      <td>2157.000000</td>\n",
       "      <td>0.0</td>\n",
       "      <td>2216.000000</td>\n",
       "      <td>2216.000000</td>\n",
       "    </tr>\n",
       "    <tr>\n",
       "      <th>mean</th>\n",
       "      <td>4290.359206</td>\n",
       "      <td>50556.756549</td>\n",
       "      <td>2416.827088</td>\n",
       "      <td>365.111588</td>\n",
       "      <td>979.490032</td>\n",
       "      <td>NaN</td>\n",
       "      <td>-33.185428</td>\n",
       "      <td>150.620679</td>\n",
       "    </tr>\n",
       "    <tr>\n",
       "      <th>std</th>\n",
       "      <td>2349.901554</td>\n",
       "      <td>7825.343475</td>\n",
       "      <td>247.514983</td>\n",
       "      <td>323.158491</td>\n",
       "      <td>95.388613</td>\n",
       "      <td>NaN</td>\n",
       "      <td>1.733418</td>\n",
       "      <td>1.837396</td>\n",
       "    </tr>\n",
       "    <tr>\n",
       "      <th>min</th>\n",
       "      <td>1001.000000</td>\n",
       "      <td>6354.000000</td>\n",
       "      <td>2000.000000</td>\n",
       "      <td>2.000000</td>\n",
       "      <td>586.000000</td>\n",
       "      <td>NaN</td>\n",
       "      <td>-37.084209</td>\n",
       "      <td>141.439970</td>\n",
       "    </tr>\n",
       "    <tr>\n",
       "      <th>25%</th>\n",
       "      <td>2409.750000</td>\n",
       "      <td>48156.250000</td>\n",
       "      <td>2204.000000</td>\n",
       "      <td>101.250000</td>\n",
       "      <td>922.000000</td>\n",
       "      <td>NaN</td>\n",
       "      <td>-33.979356</td>\n",
       "      <td>150.589743</td>\n",
       "    </tr>\n",
       "    <tr>\n",
       "      <th>50%</th>\n",
       "      <td>3956.500000</td>\n",
       "      <td>49675.500000</td>\n",
       "      <td>2420.000000</td>\n",
       "      <td>293.000000</td>\n",
       "      <td>974.000000</td>\n",
       "      <td>NaN</td>\n",
       "      <td>-33.766117</td>\n",
       "      <td>150.992114</td>\n",
       "    </tr>\n",
       "    <tr>\n",
       "      <th>75%</th>\n",
       "      <td>5558.250000</td>\n",
       "      <td>50810.250000</td>\n",
       "      <td>2590.000000</td>\n",
       "      <td>532.000000</td>\n",
       "      <td>1043.000000</td>\n",
       "      <td>NaN</td>\n",
       "      <td>-32.810491</td>\n",
       "      <td>151.312040</td>\n",
       "    </tr>\n",
       "    <tr>\n",
       "      <th>max</th>\n",
       "      <td>8924.000000</td>\n",
       "      <td>88561.000000</td>\n",
       "      <td>4383.000000</td>\n",
       "      <td>2079.000000</td>\n",
       "      <td>1225.000000</td>\n",
       "      <td>NaN</td>\n",
       "      <td>-28.169510</td>\n",
       "      <td>159.069032</td>\n",
       "    </tr>\n",
       "  </tbody>\n",
       "</table>\n",
       "</div>"
      ],
      "text/plain": [
       "       School_code         AgeID     Postcode  latest_year_enrolment_FTE  \\\n",
       "count  2216.000000   2214.000000  2215.000000                2166.000000   \n",
       "mean   4290.359206  50556.756549  2416.827088                 365.111588   \n",
       "std    2349.901554   7825.343475   247.514983                 323.158491   \n",
       "min    1001.000000   6354.000000  2000.000000                   2.000000   \n",
       "25%    2409.750000  48156.250000  2204.000000                 101.250000   \n",
       "50%    3956.500000  49675.500000  2420.000000                 293.000000   \n",
       "75%    5558.250000  50810.250000  2590.000000                 532.000000   \n",
       "max    8924.000000  88561.000000  4383.000000                2079.000000   \n",
       "\n",
       "       ICSEA_value  Support_classes     Latitude    Longitude  \n",
       "count  2157.000000              0.0  2216.000000  2216.000000  \n",
       "mean    979.490032              NaN   -33.185428   150.620679  \n",
       "std      95.388613              NaN     1.733418     1.837396  \n",
       "min     586.000000              NaN   -37.084209   141.439970  \n",
       "25%     922.000000              NaN   -33.979356   150.589743  \n",
       "50%     974.000000              NaN   -33.766117   150.992114  \n",
       "75%    1043.000000              NaN   -32.810491   151.312040  \n",
       "max    1225.000000              NaN   -28.169510   159.069032  "
      ]
     },
     "execution_count": 5,
     "metadata": {},
     "output_type": "execute_result"
    }
   ],
   "source": [
    "data.describe()"
   ]
  },
  {
   "cell_type": "code",
   "execution_count": 6,
   "id": "1abc6056",
   "metadata": {},
   "outputs": [],
   "source": [
    "data = data.drop('Support_classes', axis=1) # it has no value in this column"
   ]
  },
  {
   "cell_type": "code",
   "execution_count": 7,
   "id": "0b1460c7",
   "metadata": {},
   "outputs": [],
   "source": [
    "data = data[~data.isin([\"np\"]).any(axis=1)] # remove all rows that contain np"
   ]
  },
  {
   "cell_type": "code",
   "execution_count": 8,
   "id": "87c218a9",
   "metadata": {},
   "outputs": [],
   "source": [
    "new_data = data.dropna() # drop all rows with na"
   ]
  },
  {
   "cell_type": "code",
   "execution_count": 9,
   "id": "e7510749",
   "metadata": {},
   "outputs": [
    {
     "name": "stdout",
     "output_type": "stream",
     "text": [
      "<class 'pandas.core.frame.DataFrame'>\n",
      "Int64Index: 1385 entries, 0 to 2206\n",
      "Data columns (total 43 columns):\n",
      " #   Column                                  Non-Null Count  Dtype  \n",
      "---  ------                                  --------------  -----  \n",
      " 0   School_code                             1385 non-null   int64  \n",
      " 1   AgeID                                   1385 non-null   float64\n",
      " 2   School_name                             1385 non-null   object \n",
      " 3   Street                                  1385 non-null   object \n",
      " 4   Town_suburb                             1385 non-null   object \n",
      " 5   Postcode                                1385 non-null   float64\n",
      " 6   Phone                                   1385 non-null   object \n",
      " 7   School_Email                            1385 non-null   object \n",
      " 8   Website                                 1385 non-null   object \n",
      " 9   Fax                                     1385 non-null   object \n",
      " 10  latest_year_enrolment_FTE               1385 non-null   float64\n",
      " 11  Indigenous_pct                          1385 non-null   object \n",
      " 12  LBOTE_pct                               1385 non-null   object \n",
      " 13  ICSEA_value                             1385 non-null   float64\n",
      " 14  Level_of_schooling                      1385 non-null   object \n",
      " 15  Selective_school                        1385 non-null   object \n",
      " 16  Opportunity_class                       1385 non-null   object \n",
      " 17  School_specialty_type                   1385 non-null   object \n",
      " 18  School_subtype                          1385 non-null   object \n",
      " 19  Preschool_ind                           1385 non-null   object \n",
      " 20  Distance_education                      1385 non-null   object \n",
      " 21  Intensive_english_centre                1385 non-null   object \n",
      " 22  School_gender                           1385 non-null   object \n",
      " 23  Late_opening_school                     1385 non-null   object \n",
      " 24  Date_1st_teacher                        1385 non-null   object \n",
      " 25  LGA                                     1385 non-null   object \n",
      " 26  electorate_from_2023                    1385 non-null   object \n",
      " 27  electorate_2015_2022                    1385 non-null   object \n",
      " 28  Fed_electorate                          1385 non-null   object \n",
      " 29  Operational_directorate                 1385 non-null   object \n",
      " 30  Principal_network                       1385 non-null   object \n",
      " 31  Operational_directorate_office          1385 non-null   object \n",
      " 32  Operational_directorate_office_phone    1385 non-null   object \n",
      " 33  Operational_directorate_office_address  1385 non-null   object \n",
      " 34  FACS_district                           1385 non-null   object \n",
      " 35  Local_health_district                   1385 non-null   object \n",
      " 36  AECG_region                             1385 non-null   object \n",
      " 37  ASGS_remoteness                         1385 non-null   object \n",
      " 38  Latitude                                1385 non-null   float64\n",
      " 39  Longitude                               1385 non-null   float64\n",
      " 40  Assets unit                             1385 non-null   object \n",
      " 41  SA4                                     1385 non-null   object \n",
      " 42  Date_extracted                          1385 non-null   object \n",
      "dtypes: float64(6), int64(1), object(36)\n",
      "memory usage: 476.1+ KB\n"
     ]
    }
   ],
   "source": [
    "new_data.info()"
   ]
  },
  {
   "cell_type": "code",
   "execution_count": 10,
   "id": "8f930c58",
   "metadata": {
    "scrolled": false
   },
   "outputs": [
    {
     "data": {
      "text/html": [
       "<div>\n",
       "<style scoped>\n",
       "    .dataframe tbody tr th:only-of-type {\n",
       "        vertical-align: middle;\n",
       "    }\n",
       "\n",
       "    .dataframe tbody tr th {\n",
       "        vertical-align: top;\n",
       "    }\n",
       "\n",
       "    .dataframe thead th {\n",
       "        text-align: right;\n",
       "    }\n",
       "</style>\n",
       "<table border=\"1\" class=\"dataframe\">\n",
       "  <thead>\n",
       "    <tr style=\"text-align: right;\">\n",
       "      <th></th>\n",
       "      <th>School_code</th>\n",
       "      <th>AgeID</th>\n",
       "      <th>School_name</th>\n",
       "      <th>Street</th>\n",
       "      <th>Town_suburb</th>\n",
       "      <th>Postcode</th>\n",
       "      <th>Phone</th>\n",
       "      <th>School_Email</th>\n",
       "      <th>Website</th>\n",
       "      <th>Fax</th>\n",
       "      <th>...</th>\n",
       "      <th>Operational_directorate_office_address</th>\n",
       "      <th>FACS_district</th>\n",
       "      <th>Local_health_district</th>\n",
       "      <th>AECG_region</th>\n",
       "      <th>ASGS_remoteness</th>\n",
       "      <th>Latitude</th>\n",
       "      <th>Longitude</th>\n",
       "      <th>Assets unit</th>\n",
       "      <th>SA4</th>\n",
       "      <th>Date_extracted</th>\n",
       "    </tr>\n",
       "  </thead>\n",
       "  <tbody>\n",
       "    <tr>\n",
       "      <th>0</th>\n",
       "      <td>1138</td>\n",
       "      <td>49127.0</td>\n",
       "      <td>Barnsley Public School</td>\n",
       "      <td>Cliffbrook St</td>\n",
       "      <td>Barnsley</td>\n",
       "      <td>2278.0</td>\n",
       "      <td>4953 2976</td>\n",
       "      <td>barnsley-p.school@det.nsw.edu.au</td>\n",
       "      <td>https://barnsley-p.schools.nsw.gov.au</td>\n",
       "      <td>4953 3094</td>\n",
       "      <td>...</td>\n",
       "      <td>40-44 Coral Cr, Gateshead West 2290</td>\n",
       "      <td>Hunter New England &amp; Central Coast</td>\n",
       "      <td>Hunter New England</td>\n",
       "      <td>Hunter</td>\n",
       "      <td>Major Cities of Australia</td>\n",
       "      <td>-32.933094</td>\n",
       "      <td>151.594552</td>\n",
       "      <td>Hunter/Central Coast</td>\n",
       "      <td>Newcastle and Lake Macquarie</td>\n",
       "      <td>2023-10-05</td>\n",
       "    </tr>\n",
       "    <tr>\n",
       "      <th>3</th>\n",
       "      <td>1143</td>\n",
       "      <td>49523.0</td>\n",
       "      <td>Barrington Public School</td>\n",
       "      <td>1 Kenmore St</td>\n",
       "      <td>Barrington</td>\n",
       "      <td>2422.0</td>\n",
       "      <td>6558 4258</td>\n",
       "      <td>barrington-p.school@det.nsw.edu.au</td>\n",
       "      <td>https://barrington-p.schools.nsw.gov.au</td>\n",
       "      <td>6558 4216</td>\n",
       "      <td>...</td>\n",
       "      <td>Middle St, Forster 2428</td>\n",
       "      <td>Hunter New England &amp; Central Coast</td>\n",
       "      <td>Hunter New England</td>\n",
       "      <td>Manning</td>\n",
       "      <td>Outer Regional Australia</td>\n",
       "      <td>-31.971159</td>\n",
       "      <td>151.911058</td>\n",
       "      <td>North Coast</td>\n",
       "      <td>Mid North Coast</td>\n",
       "      <td>2023-10-05</td>\n",
       "    </tr>\n",
       "    <tr>\n",
       "      <th>6</th>\n",
       "      <td>1149</td>\n",
       "      <td>50056.0</td>\n",
       "      <td>Batemans Bay Public School</td>\n",
       "      <td>Mundarra Way</td>\n",
       "      <td>Surfside</td>\n",
       "      <td>2536.0</td>\n",
       "      <td>4472 4059</td>\n",
       "      <td>batemansba-p.school@det.nsw.edu.au</td>\n",
       "      <td>https://batemansba-p.schools.nsw.gov.au</td>\n",
       "      <td>4472 8457</td>\n",
       "      <td>...</td>\n",
       "      <td>15A Citi Centre, Orient St, Batemans Bay</td>\n",
       "      <td>Illawarra Shoalhaven &amp; Southern NSW</td>\n",
       "      <td>Southern NSW</td>\n",
       "      <td>Lower South Coast</td>\n",
       "      <td>Inner Regional Australia</td>\n",
       "      <td>-35.700051</td>\n",
       "      <td>150.188373</td>\n",
       "      <td>Southern NSW</td>\n",
       "      <td>Capital Region</td>\n",
       "      <td>2023-10-05</td>\n",
       "    </tr>\n",
       "    <tr>\n",
       "      <th>7</th>\n",
       "      <td>1150</td>\n",
       "      <td>50975.0</td>\n",
       "      <td>Bathurst Public School</td>\n",
       "      <td>George St</td>\n",
       "      <td>Bathurst</td>\n",
       "      <td>2795.0</td>\n",
       "      <td>6331 3923</td>\n",
       "      <td>bathurst-p.school@det.nsw.edu.au</td>\n",
       "      <td>https://bathurst-p.schools.nsw.gov.au</td>\n",
       "      <td>6332 2305</td>\n",
       "      <td>...</td>\n",
       "      <td>Cnr George and Rocket St, Bathurst 2795</td>\n",
       "      <td>Murrumbidgee, Far West &amp; Western NSW</td>\n",
       "      <td>Western NSW</td>\n",
       "      <td>Western 1</td>\n",
       "      <td>Inner Regional Australia</td>\n",
       "      <td>-33.420942</td>\n",
       "      <td>149.570615</td>\n",
       "      <td>North Western NSW</td>\n",
       "      <td>Central West</td>\n",
       "      <td>2023-10-05</td>\n",
       "    </tr>\n",
       "    <tr>\n",
       "      <th>12</th>\n",
       "      <td>1167</td>\n",
       "      <td>50539.0</td>\n",
       "      <td>Beelbangera Public School</td>\n",
       "      <td>Rankins Springs Rd</td>\n",
       "      <td>Beelbangera</td>\n",
       "      <td>2680.0</td>\n",
       "      <td>6963 5368</td>\n",
       "      <td>beelbanger-p.school@det.nsw.edu.au</td>\n",
       "      <td>https://beelbanger-p.schools.nsw.gov.au</td>\n",
       "      <td>6963 5506</td>\n",
       "      <td>...</td>\n",
       "      <td>Government Offices, 104-110 Banna Ave, Griffit...</td>\n",
       "      <td>Murrumbidgee, Far West &amp; Western NSW</td>\n",
       "      <td>Murrumbidgee</td>\n",
       "      <td>Riverina 1</td>\n",
       "      <td>Outer Regional Australia</td>\n",
       "      <td>-34.252836</td>\n",
       "      <td>146.101067</td>\n",
       "      <td>Southern NSW</td>\n",
       "      <td>Riverina</td>\n",
       "      <td>2023-10-05</td>\n",
       "    </tr>\n",
       "  </tbody>\n",
       "</table>\n",
       "<p>5 rows × 43 columns</p>\n",
       "</div>"
      ],
      "text/plain": [
       "    School_code    AgeID                 School_name              Street  \\\n",
       "0          1138  49127.0      Barnsley Public School       Cliffbrook St   \n",
       "3          1143  49523.0    Barrington Public School        1 Kenmore St   \n",
       "6          1149  50056.0  Batemans Bay Public School        Mundarra Way   \n",
       "7          1150  50975.0      Bathurst Public School           George St   \n",
       "12         1167  50539.0   Beelbangera Public School  Rankins Springs Rd   \n",
       "\n",
       "     Town_suburb  Postcode      Phone                        School_Email  \\\n",
       "0      Barnsley     2278.0  4953 2976    barnsley-p.school@det.nsw.edu.au   \n",
       "3    Barrington     2422.0  6558 4258  barrington-p.school@det.nsw.edu.au   \n",
       "6       Surfside    2536.0  4472 4059  batemansba-p.school@det.nsw.edu.au   \n",
       "7      Bathurst     2795.0  6331 3923    bathurst-p.school@det.nsw.edu.au   \n",
       "12  Beelbangera     2680.0  6963 5368  beelbanger-p.school@det.nsw.edu.au   \n",
       "\n",
       "                                    Website        Fax  ...  \\\n",
       "0     https://barnsley-p.schools.nsw.gov.au  4953 3094  ...   \n",
       "3   https://barrington-p.schools.nsw.gov.au  6558 4216  ...   \n",
       "6   https://batemansba-p.schools.nsw.gov.au  4472 8457  ...   \n",
       "7     https://bathurst-p.schools.nsw.gov.au  6332 2305  ...   \n",
       "12  https://beelbanger-p.schools.nsw.gov.au  6963 5506  ...   \n",
       "\n",
       "               Operational_directorate_office_address  \\\n",
       "0                 40-44 Coral Cr, Gateshead West 2290   \n",
       "3                             Middle St, Forster 2428   \n",
       "6            15A Citi Centre, Orient St, Batemans Bay   \n",
       "7             Cnr George and Rocket St, Bathurst 2795   \n",
       "12  Government Offices, 104-110 Banna Ave, Griffit...   \n",
       "\n",
       "                           FACS_district Local_health_district  \\\n",
       "0     Hunter New England & Central Coast    Hunter New England   \n",
       "3     Hunter New England & Central Coast    Hunter New England   \n",
       "6    Illawarra Shoalhaven & Southern NSW          Southern NSW   \n",
       "7   Murrumbidgee, Far West & Western NSW           Western NSW   \n",
       "12  Murrumbidgee, Far West & Western NSW          Murrumbidgee   \n",
       "\n",
       "          AECG_region            ASGS_remoteness   Latitude   Longitude  \\\n",
       "0              Hunter  Major Cities of Australia -32.933094  151.594552   \n",
       "3             Manning   Outer Regional Australia -31.971159  151.911058   \n",
       "6   Lower South Coast   Inner Regional Australia -35.700051  150.188373   \n",
       "7           Western 1   Inner Regional Australia -33.420942  149.570615   \n",
       "12         Riverina 1   Outer Regional Australia -34.252836  146.101067   \n",
       "\n",
       "             Assets unit                           SA4 Date_extracted  \n",
       "0   Hunter/Central Coast  Newcastle and Lake Macquarie     2023-10-05  \n",
       "3            North Coast               Mid North Coast     2023-10-05  \n",
       "6           Southern NSW                Capital Region     2023-10-05  \n",
       "7      North Western NSW                  Central West     2023-10-05  \n",
       "12          Southern NSW                      Riverina     2023-10-05  \n",
       "\n",
       "[5 rows x 43 columns]"
      ]
     },
     "execution_count": 10,
     "metadata": {},
     "output_type": "execute_result"
    }
   ],
   "source": [
    "new_data.head()"
   ]
  },
  {
   "cell_type": "markdown",
   "id": "b64b4650",
   "metadata": {},
   "source": [
    "# Target Variable : Opportunity_class"
   ]
  },
  {
   "cell_type": "markdown",
   "id": "1bcb9d8f",
   "metadata": {},
   "source": [
    "##### Create new data frame for preprocessing"
   ]
  },
  {
   "cell_type": "code",
   "execution_count": 11,
   "id": "4fffba83",
   "metadata": {},
   "outputs": [],
   "source": [
    "data_for_preprocessing = new_data[['latest_year_enrolment_FTE', 'Indigenous_pct', 'LBOTE_pct', 'ICSEA_value', \n",
    "                                   'Level_of_schooling', 'Selective_school', 'School_specialty_type', 'School_subtype', \n",
    "                                   'Preschool_ind', 'Distance_education', 'Intensive_english_centre', 'School_gender', \n",
    "                                   'Late_opening_school', 'ASGS_remoteness', 'Latitude', 'Longitude', \n",
    "                                   'Opportunity_class']].copy()"
   ]
  },
  {
   "cell_type": "markdown",
   "id": "4c4949b4",
   "metadata": {},
   "source": [
    "##### Reset index"
   ]
  },
  {
   "cell_type": "code",
   "execution_count": 12,
   "id": "e5f2bea0",
   "metadata": {},
   "outputs": [
    {
     "data": {
      "text/html": [
       "<div>\n",
       "<style scoped>\n",
       "    .dataframe tbody tr th:only-of-type {\n",
       "        vertical-align: middle;\n",
       "    }\n",
       "\n",
       "    .dataframe tbody tr th {\n",
       "        vertical-align: top;\n",
       "    }\n",
       "\n",
       "    .dataframe thead th {\n",
       "        text-align: right;\n",
       "    }\n",
       "</style>\n",
       "<table border=\"1\" class=\"dataframe\">\n",
       "  <thead>\n",
       "    <tr style=\"text-align: right;\">\n",
       "      <th></th>\n",
       "      <th>latest_year_enrolment_FTE</th>\n",
       "      <th>Indigenous_pct</th>\n",
       "      <th>LBOTE_pct</th>\n",
       "      <th>ICSEA_value</th>\n",
       "      <th>Level_of_schooling</th>\n",
       "      <th>Selective_school</th>\n",
       "      <th>School_specialty_type</th>\n",
       "      <th>School_subtype</th>\n",
       "      <th>Preschool_ind</th>\n",
       "      <th>Distance_education</th>\n",
       "      <th>Intensive_english_centre</th>\n",
       "      <th>School_gender</th>\n",
       "      <th>Late_opening_school</th>\n",
       "      <th>ASGS_remoteness</th>\n",
       "      <th>Latitude</th>\n",
       "      <th>Longitude</th>\n",
       "      <th>Opportunity_class</th>\n",
       "    </tr>\n",
       "  </thead>\n",
       "  <tbody>\n",
       "    <tr>\n",
       "      <th>0</th>\n",
       "      <td>295.0</td>\n",
       "      <td>13.0</td>\n",
       "      <td>3.0</td>\n",
       "      <td>948.0</td>\n",
       "      <td>Primary School</td>\n",
       "      <td>Not Selective</td>\n",
       "      <td>Comprehensive</td>\n",
       "      <td>Kinder to Year 6</td>\n",
       "      <td>N</td>\n",
       "      <td>N</td>\n",
       "      <td>N</td>\n",
       "      <td>Coed</td>\n",
       "      <td>N</td>\n",
       "      <td>Major Cities of Australia</td>\n",
       "      <td>-32.933094</td>\n",
       "      <td>151.594552</td>\n",
       "      <td>N</td>\n",
       "    </tr>\n",
       "    <tr>\n",
       "      <th>1</th>\n",
       "      <td>48.0</td>\n",
       "      <td>17.0</td>\n",
       "      <td>0.0</td>\n",
       "      <td>978.0</td>\n",
       "      <td>Primary School</td>\n",
       "      <td>Not Selective</td>\n",
       "      <td>Comprehensive</td>\n",
       "      <td>Kinder to Year 6</td>\n",
       "      <td>N</td>\n",
       "      <td>N</td>\n",
       "      <td>N</td>\n",
       "      <td>Coed</td>\n",
       "      <td>N</td>\n",
       "      <td>Outer Regional Australia</td>\n",
       "      <td>-31.971159</td>\n",
       "      <td>151.911058</td>\n",
       "      <td>N</td>\n",
       "    </tr>\n",
       "    <tr>\n",
       "      <th>2</th>\n",
       "      <td>524.0</td>\n",
       "      <td>28.0</td>\n",
       "      <td>6.0</td>\n",
       "      <td>905.0</td>\n",
       "      <td>Primary School</td>\n",
       "      <td>Not Selective</td>\n",
       "      <td>Comprehensive</td>\n",
       "      <td>Kinder to Year 6</td>\n",
       "      <td>Y</td>\n",
       "      <td>N</td>\n",
       "      <td>N</td>\n",
       "      <td>Coed</td>\n",
       "      <td>N</td>\n",
       "      <td>Inner Regional Australia</td>\n",
       "      <td>-35.700051</td>\n",
       "      <td>150.188373</td>\n",
       "      <td>N</td>\n",
       "    </tr>\n",
       "    <tr>\n",
       "      <th>3</th>\n",
       "      <td>477.0</td>\n",
       "      <td>12.0</td>\n",
       "      <td>14.0</td>\n",
       "      <td>999.0</td>\n",
       "      <td>Primary School</td>\n",
       "      <td>Not Selective</td>\n",
       "      <td>Comprehensive</td>\n",
       "      <td>Kinder to Year 6</td>\n",
       "      <td>N</td>\n",
       "      <td>N</td>\n",
       "      <td>N</td>\n",
       "      <td>Coed</td>\n",
       "      <td>N</td>\n",
       "      <td>Inner Regional Australia</td>\n",
       "      <td>-33.420942</td>\n",
       "      <td>149.570615</td>\n",
       "      <td>N</td>\n",
       "    </tr>\n",
       "    <tr>\n",
       "      <th>4</th>\n",
       "      <td>162.0</td>\n",
       "      <td>4.0</td>\n",
       "      <td>29.0</td>\n",
       "      <td>1001.0</td>\n",
       "      <td>Primary School</td>\n",
       "      <td>Not Selective</td>\n",
       "      <td>Comprehensive</td>\n",
       "      <td>Kinder to Year 6</td>\n",
       "      <td>N</td>\n",
       "      <td>N</td>\n",
       "      <td>N</td>\n",
       "      <td>Coed</td>\n",
       "      <td>N</td>\n",
       "      <td>Outer Regional Australia</td>\n",
       "      <td>-34.252836</td>\n",
       "      <td>146.101067</td>\n",
       "      <td>N</td>\n",
       "    </tr>\n",
       "  </tbody>\n",
       "</table>\n",
       "</div>"
      ],
      "text/plain": [
       "   latest_year_enrolment_FTE Indigenous_pct LBOTE_pct  ICSEA_value  \\\n",
       "0                      295.0           13.0       3.0        948.0   \n",
       "1                       48.0           17.0       0.0        978.0   \n",
       "2                      524.0           28.0       6.0        905.0   \n",
       "3                      477.0           12.0      14.0        999.0   \n",
       "4                      162.0            4.0      29.0       1001.0   \n",
       "\n",
       "  Level_of_schooling Selective_school School_specialty_type    School_subtype  \\\n",
       "0     Primary School    Not Selective         Comprehensive  Kinder to Year 6   \n",
       "1     Primary School    Not Selective         Comprehensive  Kinder to Year 6   \n",
       "2     Primary School    Not Selective         Comprehensive  Kinder to Year 6   \n",
       "3     Primary School    Not Selective         Comprehensive  Kinder to Year 6   \n",
       "4     Primary School    Not Selective         Comprehensive  Kinder to Year 6   \n",
       "\n",
       "  Preschool_ind Distance_education Intensive_english_centre School_gender  \\\n",
       "0             N                  N                        N          Coed   \n",
       "1             N                  N                        N          Coed   \n",
       "2             Y                  N                        N          Coed   \n",
       "3             N                  N                        N          Coed   \n",
       "4             N                  N                        N          Coed   \n",
       "\n",
       "  Late_opening_school            ASGS_remoteness   Latitude   Longitude  \\\n",
       "0                   N  Major Cities of Australia -32.933094  151.594552   \n",
       "1                   N   Outer Regional Australia -31.971159  151.911058   \n",
       "2                   N   Inner Regional Australia -35.700051  150.188373   \n",
       "3                   N   Inner Regional Australia -33.420942  149.570615   \n",
       "4                   N   Outer Regional Australia -34.252836  146.101067   \n",
       "\n",
       "  Opportunity_class  \n",
       "0                 N  \n",
       "1                 N  \n",
       "2                 N  \n",
       "3                 N  \n",
       "4                 N  "
      ]
     },
     "execution_count": 12,
     "metadata": {},
     "output_type": "execute_result"
    }
   ],
   "source": [
    "data_for_preprocessing.reset_index(drop=True, inplace=True)\n",
    "data_for_preprocessing.head()"
   ]
  },
  {
   "cell_type": "code",
   "execution_count": 13,
   "id": "bafffcee",
   "metadata": {},
   "outputs": [
    {
     "data": {
      "text/plain": [
       "(1385, 17)"
      ]
     },
     "execution_count": 13,
     "metadata": {},
     "output_type": "execute_result"
    }
   ],
   "source": [
    "data_for_preprocessing.shape"
   ]
  },
  {
   "cell_type": "markdown",
   "id": "88b9f35b",
   "metadata": {},
   "source": [
    "##### Create data frame for dummies"
   ]
  },
  {
   "cell_type": "code",
   "execution_count": 14,
   "id": "f5244ab9",
   "metadata": {},
   "outputs": [],
   "source": [
    "data_drop_for_dummies = data_for_preprocessing.drop(['Level_of_schooling', 'Selective_school', 'School_specialty_type', 'School_subtype', 'Preschool_ind', 'Distance_education', 'Intensive_english_centre', 'School_gender', 'Late_opening_school', 'ASGS_remoteness', 'Opportunity_class'], axis=1)"
   ]
  },
  {
   "cell_type": "code",
   "execution_count": 15,
   "id": "6d5e592f",
   "metadata": {},
   "outputs": [
    {
     "data": {
      "text/html": [
       "<div>\n",
       "<style scoped>\n",
       "    .dataframe tbody tr th:only-of-type {\n",
       "        vertical-align: middle;\n",
       "    }\n",
       "\n",
       "    .dataframe tbody tr th {\n",
       "        vertical-align: top;\n",
       "    }\n",
       "\n",
       "    .dataframe thead th {\n",
       "        text-align: right;\n",
       "    }\n",
       "</style>\n",
       "<table border=\"1\" class=\"dataframe\">\n",
       "  <thead>\n",
       "    <tr style=\"text-align: right;\">\n",
       "      <th></th>\n",
       "      <th>latest_year_enrolment_FTE</th>\n",
       "      <th>Indigenous_pct</th>\n",
       "      <th>LBOTE_pct</th>\n",
       "      <th>ICSEA_value</th>\n",
       "      <th>Latitude</th>\n",
       "      <th>Longitude</th>\n",
       "    </tr>\n",
       "  </thead>\n",
       "  <tbody>\n",
       "    <tr>\n",
       "      <th>0</th>\n",
       "      <td>295.0</td>\n",
       "      <td>13.0</td>\n",
       "      <td>3.0</td>\n",
       "      <td>948.0</td>\n",
       "      <td>-32.933094</td>\n",
       "      <td>151.594552</td>\n",
       "    </tr>\n",
       "    <tr>\n",
       "      <th>1</th>\n",
       "      <td>48.0</td>\n",
       "      <td>17.0</td>\n",
       "      <td>0.0</td>\n",
       "      <td>978.0</td>\n",
       "      <td>-31.971159</td>\n",
       "      <td>151.911058</td>\n",
       "    </tr>\n",
       "    <tr>\n",
       "      <th>2</th>\n",
       "      <td>524.0</td>\n",
       "      <td>28.0</td>\n",
       "      <td>6.0</td>\n",
       "      <td>905.0</td>\n",
       "      <td>-35.700051</td>\n",
       "      <td>150.188373</td>\n",
       "    </tr>\n",
       "    <tr>\n",
       "      <th>3</th>\n",
       "      <td>477.0</td>\n",
       "      <td>12.0</td>\n",
       "      <td>14.0</td>\n",
       "      <td>999.0</td>\n",
       "      <td>-33.420942</td>\n",
       "      <td>149.570615</td>\n",
       "    </tr>\n",
       "    <tr>\n",
       "      <th>4</th>\n",
       "      <td>162.0</td>\n",
       "      <td>4.0</td>\n",
       "      <td>29.0</td>\n",
       "      <td>1001.0</td>\n",
       "      <td>-34.252836</td>\n",
       "      <td>146.101067</td>\n",
       "    </tr>\n",
       "    <tr>\n",
       "      <th>...</th>\n",
       "      <td>...</td>\n",
       "      <td>...</td>\n",
       "      <td>...</td>\n",
       "      <td>...</td>\n",
       "      <td>...</td>\n",
       "      <td>...</td>\n",
       "    </tr>\n",
       "    <tr>\n",
       "      <th>1380</th>\n",
       "      <td>638.2</td>\n",
       "      <td>14.0</td>\n",
       "      <td>10.0</td>\n",
       "      <td>928.0</td>\n",
       "      <td>-34.559745</td>\n",
       "      <td>150.834080</td>\n",
       "    </tr>\n",
       "    <tr>\n",
       "      <th>1381</th>\n",
       "      <td>568.0</td>\n",
       "      <td>11.0</td>\n",
       "      <td>38.0</td>\n",
       "      <td>952.0</td>\n",
       "      <td>-33.678883</td>\n",
       "      <td>150.875744</td>\n",
       "    </tr>\n",
       "    <tr>\n",
       "      <th>1382</th>\n",
       "      <td>1088.4</td>\n",
       "      <td>6.0</td>\n",
       "      <td>56.0</td>\n",
       "      <td>954.0</td>\n",
       "      <td>-33.770841</td>\n",
       "      <td>150.838148</td>\n",
       "    </tr>\n",
       "    <tr>\n",
       "      <th>1383</th>\n",
       "      <td>927.5</td>\n",
       "      <td>15.0</td>\n",
       "      <td>5.0</td>\n",
       "      <td>951.0</td>\n",
       "      <td>-33.008794</td>\n",
       "      <td>151.582022</td>\n",
       "    </tr>\n",
       "    <tr>\n",
       "      <th>1384</th>\n",
       "      <td>1948.0</td>\n",
       "      <td>1.0</td>\n",
       "      <td>68.0</td>\n",
       "      <td>1093.0</td>\n",
       "      <td>-33.705259</td>\n",
       "      <td>150.906931</td>\n",
       "    </tr>\n",
       "  </tbody>\n",
       "</table>\n",
       "<p>1385 rows × 6 columns</p>\n",
       "</div>"
      ],
      "text/plain": [
       "      latest_year_enrolment_FTE Indigenous_pct LBOTE_pct  ICSEA_value  \\\n",
       "0                         295.0           13.0       3.0        948.0   \n",
       "1                          48.0           17.0       0.0        978.0   \n",
       "2                         524.0           28.0       6.0        905.0   \n",
       "3                         477.0           12.0      14.0        999.0   \n",
       "4                         162.0            4.0      29.0       1001.0   \n",
       "...                         ...            ...       ...          ...   \n",
       "1380                      638.2           14.0      10.0        928.0   \n",
       "1381                      568.0           11.0      38.0        952.0   \n",
       "1382                     1088.4            6.0      56.0        954.0   \n",
       "1383                      927.5           15.0       5.0        951.0   \n",
       "1384                     1948.0            1.0      68.0       1093.0   \n",
       "\n",
       "       Latitude   Longitude  \n",
       "0    -32.933094  151.594552  \n",
       "1    -31.971159  151.911058  \n",
       "2    -35.700051  150.188373  \n",
       "3    -33.420942  149.570615  \n",
       "4    -34.252836  146.101067  \n",
       "...         ...         ...  \n",
       "1380 -34.559745  150.834080  \n",
       "1381 -33.678883  150.875744  \n",
       "1382 -33.770841  150.838148  \n",
       "1383 -33.008794  151.582022  \n",
       "1384 -33.705259  150.906931  \n",
       "\n",
       "[1385 rows x 6 columns]"
      ]
     },
     "execution_count": 15,
     "metadata": {},
     "output_type": "execute_result"
    }
   ],
   "source": [
    "data_drop_for_dummies"
   ]
  },
  {
   "cell_type": "code",
   "execution_count": 16,
   "id": "63e780cd",
   "metadata": {},
   "outputs": [],
   "source": [
    "categorical_columns = ['Level_of_schooling', 'Selective_school', 'School_specialty_type', 'School_subtype', 'Preschool_ind', 'Distance_education', 'Intensive_english_centre', 'School_gender', 'Late_opening_school', 'ASGS_remoteness']\n",
    "dummies = pd.get_dummies(data_for_preprocessing, columns=categorical_columns)"
   ]
  },
  {
   "cell_type": "code",
   "execution_count": 17,
   "id": "bcff4e03",
   "metadata": {},
   "outputs": [],
   "source": [
    "dummies = dummies.drop(['latest_year_enrolment_FTE', 'Indigenous_pct', 'LBOTE_pct', 'ICSEA_value', 'Latitude', 'Longitude', 'Opportunity_class'], axis=1)"
   ]
  },
  {
   "cell_type": "code",
   "execution_count": 18,
   "id": "f09db54c",
   "metadata": {},
   "outputs": [],
   "source": [
    "X = pd.concat([data_drop_for_dummies, dummies], axis=1)\n",
    "y = data_for_preprocessing['Opportunity_class']"
   ]
  },
  {
   "cell_type": "code",
   "execution_count": 19,
   "id": "3963ea19",
   "metadata": {},
   "outputs": [],
   "source": [
    "y = y.replace({'Y': 1, 'N': 0})"
   ]
  },
  {
   "cell_type": "code",
   "execution_count": 20,
   "id": "5bae1a40",
   "metadata": {},
   "outputs": [
    {
     "data": {
      "text/plain": [
       "0       0\n",
       "1       0\n",
       "2       0\n",
       "3       0\n",
       "4       0\n",
       "       ..\n",
       "1380    0\n",
       "1381    0\n",
       "1382    0\n",
       "1383    0\n",
       "1384    0\n",
       "Name: Opportunity_class, Length: 1385, dtype: int64"
      ]
     },
     "execution_count": 20,
     "metadata": {},
     "output_type": "execute_result"
    }
   ],
   "source": [
    "y"
   ]
  },
  {
   "cell_type": "code",
   "execution_count": 21,
   "id": "c604e0f6",
   "metadata": {},
   "outputs": [],
   "source": [
    "X['Indigenous_pct'] = X['Indigenous_pct'].astype(float)\n",
    "X['LBOTE_pct'] = X['LBOTE_pct'].astype(float)"
   ]
  },
  {
   "cell_type": "code",
   "execution_count": 22,
   "id": "feee8af4",
   "metadata": {},
   "outputs": [],
   "source": [
    "X_train, X_test, y_train, y_test = train_test_split(X, y, test_size=0.2, random_state=42)"
   ]
  },
  {
   "cell_type": "code",
   "execution_count": 23,
   "id": "b3683ed1",
   "metadata": {},
   "outputs": [
    {
     "name": "stdout",
     "output_type": "stream",
     "text": [
      "<class 'pandas.core.frame.DataFrame'>\n",
      "RangeIndex: 1385 entries, 0 to 1384\n",
      "Data columns (total 55 columns):\n",
      " #   Column                                            Non-Null Count  Dtype  \n",
      "---  ------                                            --------------  -----  \n",
      " 0   latest_year_enrolment_FTE                         1385 non-null   float64\n",
      " 1   Indigenous_pct                                    1385 non-null   float64\n",
      " 2   LBOTE_pct                                         1385 non-null   float64\n",
      " 3   ICSEA_value                                       1385 non-null   float64\n",
      " 4   Latitude                                          1385 non-null   float64\n",
      " 5   Longitude                                         1385 non-null   float64\n",
      " 6   Level_of_schooling_Central/Community School       1385 non-null   uint8  \n",
      " 7   Level_of_schooling_Infants School                 1385 non-null   uint8  \n",
      " 8   Level_of_schooling_Primary School                 1385 non-null   uint8  \n",
      " 9   Level_of_schooling_Schools for Specific Purposes  1385 non-null   uint8  \n",
      " 10  Level_of_schooling_Secondary School               1385 non-null   uint8  \n",
      " 11  Selective_school_Fully Selective                  1385 non-null   uint8  \n",
      " 12  Selective_school_Not Selective                    1385 non-null   uint8  \n",
      " 13  Selective_school_Partially Selective              1385 non-null   uint8  \n",
      " 14  School_specialty_type_Agricultural                1385 non-null   uint8  \n",
      " 15  School_specialty_type_Comprehensive               1385 non-null   uint8  \n",
      " 16  School_specialty_type_Intensive English           1385 non-null   uint8  \n",
      " 17  School_specialty_type_Junior College              1385 non-null   uint8  \n",
      " 18  School_specialty_type_Language                    1385 non-null   uint8  \n",
      " 19  School_specialty_type_Marine Technology           1385 non-null   uint8  \n",
      " 20  School_specialty_type_Performing Arts             1385 non-null   uint8  \n",
      " 21  School_specialty_type_Rural Technology            1385 non-null   uint8  \n",
      " 22  School_specialty_type_Senior College              1385 non-null   uint8  \n",
      " 23  School_specialty_type_Sports                      1385 non-null   uint8  \n",
      " 24  School_specialty_type_Technology                  1385 non-null   uint8  \n",
      " 25  School_specialty_type_Visual Arts                 1385 non-null   uint8  \n",
      " 26  School_subtype_Behaviour Disorder                 1385 non-null   uint8  \n",
      " 27  School_subtype_Intensive English Centre           1385 non-null   uint8  \n",
      " 28  School_subtype_Juvenile Justice establishment     1385 non-null   uint8  \n",
      " 29  School_subtype_Kinder to Year 12                  1385 non-null   uint8  \n",
      " 30  School_subtype_Kinder to Year 2                   1385 non-null   uint8  \n",
      " 31  School_subtype_Kinder to Year 6                   1385 non-null   uint8  \n",
      " 32  School_subtype_Medium / High Support needs        1385 non-null   uint8  \n",
      " 33  School_subtype_Year 10 to Year 12                 1385 non-null   uint8  \n",
      " 34  School_subtype_Year 11 to Year 12                 1385 non-null   uint8  \n",
      " 35  School_subtype_Year 7 to Year 10                  1385 non-null   uint8  \n",
      " 36  School_subtype_Year 7 to Year 12                  1385 non-null   uint8  \n",
      " 37  School_subtype_Year 7 to Year 9                   1385 non-null   uint8  \n",
      " 38  Preschool_ind_N                                   1385 non-null   uint8  \n",
      " 39  Preschool_ind_Y                                   1385 non-null   uint8  \n",
      " 40  Distance_education_C                              1385 non-null   uint8  \n",
      " 41  Distance_education_N                              1385 non-null   uint8  \n",
      " 42  Distance_education_S                              1385 non-null   uint8  \n",
      " 43  Intensive_english_centre_N                        1385 non-null   uint8  \n",
      " 44  Intensive_english_centre_Y                        1385 non-null   uint8  \n",
      " 45  School_gender_Boys                                1385 non-null   uint8  \n",
      " 46  School_gender_Coed                                1385 non-null   uint8  \n",
      " 47  School_gender_Girls                               1385 non-null   uint8  \n",
      " 48  Late_opening_school_N                             1385 non-null   uint8  \n",
      " 49  Late_opening_school_Y                             1385 non-null   uint8  \n",
      " 50  ASGS_remoteness_Inner Regional Australia          1385 non-null   uint8  \n",
      " 51  ASGS_remoteness_Major Cities of Australia         1385 non-null   uint8  \n",
      " 52  ASGS_remoteness_Outer Regional Australia          1385 non-null   uint8  \n",
      " 53  ASGS_remoteness_Remote Australia                  1385 non-null   uint8  \n",
      " 54  ASGS_remoteness_Very Remote Australia             1385 non-null   uint8  \n",
      "dtypes: float64(6), uint8(49)\n",
      "memory usage: 131.3 KB\n"
     ]
    }
   ],
   "source": [
    "X.info()"
   ]
  },
  {
   "cell_type": "code",
   "execution_count": 24,
   "id": "ae908e84",
   "metadata": {
    "scrolled": true
   },
   "outputs": [],
   "source": [
    "scaler = StandardScaler()\n",
    "X_train = scaler.fit_transform(X_train)\n",
    "X_test = scaler.transform(X_test)"
   ]
  },
  {
   "cell_type": "markdown",
   "id": "c9c0dda2",
   "metadata": {},
   "source": [
    "# Neural Network"
   ]
  },
  {
   "cell_type": "code",
   "execution_count": 25,
   "id": "ff94ab49",
   "metadata": {
    "scrolled": false
   },
   "outputs": [
    {
     "name": "stdout",
     "output_type": "stream",
     "text": [
      "Epoch 1/10\n",
      "35/35 [==============================] - 3s 23ms/step - loss: 0.6767 - accuracy: 0.6968 - val_loss: 0.3623 - val_accuracy: 0.9314\n",
      "Epoch 2/10\n",
      "35/35 [==============================] - 0s 10ms/step - loss: 0.2182 - accuracy: 0.9612 - val_loss: 0.2467 - val_accuracy: 0.9422\n",
      "Epoch 3/10\n",
      "35/35 [==============================] - 0s 9ms/step - loss: 0.1624 - accuracy: 0.9612 - val_loss: 0.2340 - val_accuracy: 0.9422\n",
      "Epoch 4/10\n",
      "35/35 [==============================] - 0s 9ms/step - loss: 0.1520 - accuracy: 0.9612 - val_loss: 0.2225 - val_accuracy: 0.9422\n",
      "Epoch 5/10\n",
      "35/35 [==============================] - 0s 10ms/step - loss: 0.1452 - accuracy: 0.9612 - val_loss: 0.2144 - val_accuracy: 0.9422\n",
      "Epoch 6/10\n",
      "35/35 [==============================] - 0s 9ms/step - loss: 0.1406 - accuracy: 0.9612 - val_loss: 0.2089 - val_accuracy: 0.9422\n",
      "Epoch 7/10\n",
      "35/35 [==============================] - 0s 8ms/step - loss: 0.1377 - accuracy: 0.9612 - val_loss: 0.2033 - val_accuracy: 0.9422\n",
      "Epoch 8/10\n",
      "35/35 [==============================] - 0s 8ms/step - loss: 0.1344 - accuracy: 0.9612 - val_loss: 0.2009 - val_accuracy: 0.9422\n",
      "Epoch 9/10\n",
      "35/35 [==============================] - 0s 10ms/step - loss: 0.1318 - accuracy: 0.9612 - val_loss: 0.1978 - val_accuracy: 0.9422\n",
      "Epoch 10/10\n",
      "35/35 [==============================] - 0s 9ms/step - loss: 0.1301 - accuracy: 0.9612 - val_loss: 0.1961 - val_accuracy: 0.9422\n",
      "9/9 [==============================] - 0s 5ms/step - loss: 0.1961 - accuracy: 0.9422\n",
      "Test Loss: 19.61258202791214\n",
      "Test Accuracy: 94.22382712364197\n"
     ]
    }
   ],
   "source": [
    "model1 = keras.Sequential([\n",
    "    keras.layers.Dense(64, activation='relu', input_shape=(X_train.shape[1],)),\n",
    "    keras.layers.Dense(32, activation='relu'),\n",
    "    keras.layers.Dense(1, activation='sigmoid')\n",
    "])\n",
    "\n",
    "model1.compile(optimizer='adam', loss='binary_crossentropy', metrics=['accuracy'])\n",
    "\n",
    "model1.fit(X_train, y_train, epochs=10, batch_size=32, validation_data=(X_test, y_test))\n",
    "\n",
    "loss, accuracy = model1.evaluate(X_test, y_test)\n",
    "print(f\"Test Loss: {loss*100}\")\n",
    "print(f\"Test Accuracy: {accuracy*100}\")"
   ]
  },
  {
   "cell_type": "code",
   "execution_count": 26,
   "id": "d040b4d4",
   "metadata": {},
   "outputs": [
    {
     "name": "stdout",
     "output_type": "stream",
     "text": [
      "9/9 [==============================] - 0s 4ms/step\n",
      "[[261   0]\n",
      " [ 16   0]]\n",
      "True Negatives: 261\n",
      "False Positives: 0\n",
      "False Negatives: 16\n",
      "True Positives: 0\n"
     ]
    }
   ],
   "source": [
    "y_pred = model1.predict(X_test)\n",
    "y_pred_binary = (y_pred > 0.5).astype(int)\n",
    "\n",
    "confusion = confusion_matrix(y_test, y_pred_binary)\n",
    "\n",
    "tn, fp, fn, tp = confusion.ravel()\n",
    "\n",
    "print(confusion)\n",
    "\n",
    "print(f\"True Negatives: {tn}\")\n",
    "print(f\"False Positives: {fp}\")\n",
    "print(f\"False Negatives: {fn}\")\n",
    "print(f\"True Positives: {tp}\")"
   ]
  },
  {
   "cell_type": "code",
   "execution_count": 27,
   "id": "967e4028",
   "metadata": {},
   "outputs": [
    {
     "name": "stdout",
     "output_type": "stream",
     "text": [
      "9/9 [==============================] - 0s 5ms/step\n",
      "Accuracy: 94.22382671480143\n",
      "Precision: 0.0\n",
      "Recall: 0.0\n",
      "F1-score: 0.0\n"
     ]
    },
    {
     "name": "stderr",
     "output_type": "stream",
     "text": [
      "C:\\Users\\ASUS\\anaconda3\\lib\\site-packages\\sklearn\\metrics\\_classification.py:1318: UndefinedMetricWarning: Precision is ill-defined and being set to 0.0 due to no predicted samples. Use `zero_division` parameter to control this behavior.\n",
      "  _warn_prf(average, modifier, msg_start, len(result))\n"
     ]
    }
   ],
   "source": [
    "y_pred = model1.predict(X_test)\n",
    "\n",
    "y_pred_binary = (y_pred > 0.5).astype(int)\n",
    "\n",
    "accuracy = accuracy_score(y_test, y_pred_binary)\n",
    "print(f\"Accuracy: {accuracy*100}\")\n",
    "\n",
    "precision = precision_score(y_test, y_pred_binary)\n",
    "print(f\"Precision: {precision*100}\")\n",
    "\n",
    "recall = recall_score(y_test, y_pred_binary)\n",
    "print(f\"Recall: {recall*100}\")\n",
    "\n",
    "f1 = f1_score(y_test, y_pred_binary)\n",
    "print(f\"F1-score: {f1*100}\")"
   ]
  },
  {
   "cell_type": "markdown",
   "id": "6a57d558",
   "metadata": {},
   "source": [
    "# Target Variable : Late_opening_school"
   ]
  },
  {
   "cell_type": "code",
   "execution_count": 28,
   "id": "2cc7b317",
   "metadata": {},
   "outputs": [],
   "source": [
    "data_for_preprocessing = new_data[['latest_year_enrolment_FTE', 'Indigenous_pct', 'LBOTE_pct', 'ICSEA_value', 'Level_of_schooling', 'Selective_school', 'School_specialty_type', 'School_subtype', 'Preschool_ind', 'Distance_education', 'Intensive_english_centre', 'School_gender', 'Late_opening_school', 'ASGS_remoteness', 'Latitude', 'Longitude', 'Opportunity_class']].copy()"
   ]
  },
  {
   "cell_type": "code",
   "execution_count": 29,
   "id": "f8285ca9",
   "metadata": {},
   "outputs": [
    {
     "data": {
      "text/html": [
       "<div>\n",
       "<style scoped>\n",
       "    .dataframe tbody tr th:only-of-type {\n",
       "        vertical-align: middle;\n",
       "    }\n",
       "\n",
       "    .dataframe tbody tr th {\n",
       "        vertical-align: top;\n",
       "    }\n",
       "\n",
       "    .dataframe thead th {\n",
       "        text-align: right;\n",
       "    }\n",
       "</style>\n",
       "<table border=\"1\" class=\"dataframe\">\n",
       "  <thead>\n",
       "    <tr style=\"text-align: right;\">\n",
       "      <th></th>\n",
       "      <th>latest_year_enrolment_FTE</th>\n",
       "      <th>Indigenous_pct</th>\n",
       "      <th>LBOTE_pct</th>\n",
       "      <th>ICSEA_value</th>\n",
       "      <th>Level_of_schooling</th>\n",
       "      <th>Selective_school</th>\n",
       "      <th>School_specialty_type</th>\n",
       "      <th>School_subtype</th>\n",
       "      <th>Preschool_ind</th>\n",
       "      <th>Distance_education</th>\n",
       "      <th>Intensive_english_centre</th>\n",
       "      <th>School_gender</th>\n",
       "      <th>Late_opening_school</th>\n",
       "      <th>ASGS_remoteness</th>\n",
       "      <th>Latitude</th>\n",
       "      <th>Longitude</th>\n",
       "      <th>Opportunity_class</th>\n",
       "    </tr>\n",
       "  </thead>\n",
       "  <tbody>\n",
       "    <tr>\n",
       "      <th>0</th>\n",
       "      <td>295.0</td>\n",
       "      <td>13.0</td>\n",
       "      <td>3.0</td>\n",
       "      <td>948.0</td>\n",
       "      <td>Primary School</td>\n",
       "      <td>Not Selective</td>\n",
       "      <td>Comprehensive</td>\n",
       "      <td>Kinder to Year 6</td>\n",
       "      <td>N</td>\n",
       "      <td>N</td>\n",
       "      <td>N</td>\n",
       "      <td>Coed</td>\n",
       "      <td>N</td>\n",
       "      <td>Major Cities of Australia</td>\n",
       "      <td>-32.933094</td>\n",
       "      <td>151.594552</td>\n",
       "      <td>N</td>\n",
       "    </tr>\n",
       "    <tr>\n",
       "      <th>1</th>\n",
       "      <td>48.0</td>\n",
       "      <td>17.0</td>\n",
       "      <td>0.0</td>\n",
       "      <td>978.0</td>\n",
       "      <td>Primary School</td>\n",
       "      <td>Not Selective</td>\n",
       "      <td>Comprehensive</td>\n",
       "      <td>Kinder to Year 6</td>\n",
       "      <td>N</td>\n",
       "      <td>N</td>\n",
       "      <td>N</td>\n",
       "      <td>Coed</td>\n",
       "      <td>N</td>\n",
       "      <td>Outer Regional Australia</td>\n",
       "      <td>-31.971159</td>\n",
       "      <td>151.911058</td>\n",
       "      <td>N</td>\n",
       "    </tr>\n",
       "    <tr>\n",
       "      <th>2</th>\n",
       "      <td>524.0</td>\n",
       "      <td>28.0</td>\n",
       "      <td>6.0</td>\n",
       "      <td>905.0</td>\n",
       "      <td>Primary School</td>\n",
       "      <td>Not Selective</td>\n",
       "      <td>Comprehensive</td>\n",
       "      <td>Kinder to Year 6</td>\n",
       "      <td>Y</td>\n",
       "      <td>N</td>\n",
       "      <td>N</td>\n",
       "      <td>Coed</td>\n",
       "      <td>N</td>\n",
       "      <td>Inner Regional Australia</td>\n",
       "      <td>-35.700051</td>\n",
       "      <td>150.188373</td>\n",
       "      <td>N</td>\n",
       "    </tr>\n",
       "    <tr>\n",
       "      <th>3</th>\n",
       "      <td>477.0</td>\n",
       "      <td>12.0</td>\n",
       "      <td>14.0</td>\n",
       "      <td>999.0</td>\n",
       "      <td>Primary School</td>\n",
       "      <td>Not Selective</td>\n",
       "      <td>Comprehensive</td>\n",
       "      <td>Kinder to Year 6</td>\n",
       "      <td>N</td>\n",
       "      <td>N</td>\n",
       "      <td>N</td>\n",
       "      <td>Coed</td>\n",
       "      <td>N</td>\n",
       "      <td>Inner Regional Australia</td>\n",
       "      <td>-33.420942</td>\n",
       "      <td>149.570615</td>\n",
       "      <td>N</td>\n",
       "    </tr>\n",
       "    <tr>\n",
       "      <th>4</th>\n",
       "      <td>162.0</td>\n",
       "      <td>4.0</td>\n",
       "      <td>29.0</td>\n",
       "      <td>1001.0</td>\n",
       "      <td>Primary School</td>\n",
       "      <td>Not Selective</td>\n",
       "      <td>Comprehensive</td>\n",
       "      <td>Kinder to Year 6</td>\n",
       "      <td>N</td>\n",
       "      <td>N</td>\n",
       "      <td>N</td>\n",
       "      <td>Coed</td>\n",
       "      <td>N</td>\n",
       "      <td>Outer Regional Australia</td>\n",
       "      <td>-34.252836</td>\n",
       "      <td>146.101067</td>\n",
       "      <td>N</td>\n",
       "    </tr>\n",
       "  </tbody>\n",
       "</table>\n",
       "</div>"
      ],
      "text/plain": [
       "   latest_year_enrolment_FTE Indigenous_pct LBOTE_pct  ICSEA_value  \\\n",
       "0                      295.0           13.0       3.0        948.0   \n",
       "1                       48.0           17.0       0.0        978.0   \n",
       "2                      524.0           28.0       6.0        905.0   \n",
       "3                      477.0           12.0      14.0        999.0   \n",
       "4                      162.0            4.0      29.0       1001.0   \n",
       "\n",
       "  Level_of_schooling Selective_school School_specialty_type    School_subtype  \\\n",
       "0     Primary School    Not Selective         Comprehensive  Kinder to Year 6   \n",
       "1     Primary School    Not Selective         Comprehensive  Kinder to Year 6   \n",
       "2     Primary School    Not Selective         Comprehensive  Kinder to Year 6   \n",
       "3     Primary School    Not Selective         Comprehensive  Kinder to Year 6   \n",
       "4     Primary School    Not Selective         Comprehensive  Kinder to Year 6   \n",
       "\n",
       "  Preschool_ind Distance_education Intensive_english_centre School_gender  \\\n",
       "0             N                  N                        N          Coed   \n",
       "1             N                  N                        N          Coed   \n",
       "2             Y                  N                        N          Coed   \n",
       "3             N                  N                        N          Coed   \n",
       "4             N                  N                        N          Coed   \n",
       "\n",
       "  Late_opening_school            ASGS_remoteness   Latitude   Longitude  \\\n",
       "0                   N  Major Cities of Australia -32.933094  151.594552   \n",
       "1                   N   Outer Regional Australia -31.971159  151.911058   \n",
       "2                   N   Inner Regional Australia -35.700051  150.188373   \n",
       "3                   N   Inner Regional Australia -33.420942  149.570615   \n",
       "4                   N   Outer Regional Australia -34.252836  146.101067   \n",
       "\n",
       "  Opportunity_class  \n",
       "0                 N  \n",
       "1                 N  \n",
       "2                 N  \n",
       "3                 N  \n",
       "4                 N  "
      ]
     },
     "execution_count": 29,
     "metadata": {},
     "output_type": "execute_result"
    }
   ],
   "source": [
    "data_for_preprocessing.reset_index(drop=True, inplace=True)\n",
    "data_for_preprocessing.head()"
   ]
  },
  {
   "cell_type": "code",
   "execution_count": 30,
   "id": "68393a20",
   "metadata": {},
   "outputs": [
    {
     "data": {
      "text/plain": [
       "(1385, 17)"
      ]
     },
     "execution_count": 30,
     "metadata": {},
     "output_type": "execute_result"
    }
   ],
   "source": [
    "data_for_preprocessing.shape"
   ]
  },
  {
   "cell_type": "code",
   "execution_count": 31,
   "id": "9a789d88",
   "metadata": {},
   "outputs": [],
   "source": [
    "data_drop_for_dummies = data_for_preprocessing.drop(['Level_of_schooling', 'Selective_school', 'School_specialty_type', 'School_subtype', 'Preschool_ind', 'Distance_education', 'Intensive_english_centre', 'School_gender', 'Late_opening_school', 'ASGS_remoteness', 'Opportunity_class'], axis=1)"
   ]
  },
  {
   "cell_type": "code",
   "execution_count": 32,
   "id": "f5a29dcd",
   "metadata": {},
   "outputs": [],
   "source": [
    "categorical_columns = ['Level_of_schooling', 'Selective_school', 'School_specialty_type', 'School_subtype', 'Preschool_ind', 'Distance_education', 'Intensive_english_centre', 'School_gender', 'Opportunity_class', 'ASGS_remoteness']\n",
    "dummies = pd.get_dummies(data_for_preprocessing, columns=categorical_columns)"
   ]
  },
  {
   "cell_type": "code",
   "execution_count": 33,
   "id": "588503b4",
   "metadata": {},
   "outputs": [],
   "source": [
    "dummies = dummies.drop(['latest_year_enrolment_FTE', 'Indigenous_pct', 'LBOTE_pct', 'ICSEA_value', 'Latitude', 'Longitude', 'Late_opening_school'], axis=1)"
   ]
  },
  {
   "cell_type": "code",
   "execution_count": 34,
   "id": "f7f949a8",
   "metadata": {},
   "outputs": [],
   "source": [
    "X = pd.concat([data_drop_for_dummies, dummies], axis=1)\n",
    "y = data_for_preprocessing['Late_opening_school']"
   ]
  },
  {
   "cell_type": "code",
   "execution_count": 35,
   "id": "d7e6a6dd",
   "metadata": {},
   "outputs": [],
   "source": [
    "y = y.replace({'Y': 1, 'N': 0})"
   ]
  },
  {
   "cell_type": "code",
   "execution_count": 36,
   "id": "d3d6ea61",
   "metadata": {},
   "outputs": [],
   "source": [
    "X['Indigenous_pct'] = X['Indigenous_pct'].astype(float)\n",
    "X['LBOTE_pct'] = X['LBOTE_pct'].astype(float)"
   ]
  },
  {
   "cell_type": "code",
   "execution_count": 37,
   "id": "85a58434",
   "metadata": {},
   "outputs": [],
   "source": [
    "X_train, X_test, y_train, y_test = train_test_split(X, y, test_size=0.2, random_state=42)"
   ]
  },
  {
   "cell_type": "code",
   "execution_count": 38,
   "id": "3239c553",
   "metadata": {},
   "outputs": [
    {
     "name": "stdout",
     "output_type": "stream",
     "text": [
      "<class 'pandas.core.frame.DataFrame'>\n",
      "RangeIndex: 1385 entries, 0 to 1384\n",
      "Data columns (total 55 columns):\n",
      " #   Column                                            Non-Null Count  Dtype  \n",
      "---  ------                                            --------------  -----  \n",
      " 0   latest_year_enrolment_FTE                         1385 non-null   float64\n",
      " 1   Indigenous_pct                                    1385 non-null   float64\n",
      " 2   LBOTE_pct                                         1385 non-null   float64\n",
      " 3   ICSEA_value                                       1385 non-null   float64\n",
      " 4   Latitude                                          1385 non-null   float64\n",
      " 5   Longitude                                         1385 non-null   float64\n",
      " 6   Level_of_schooling_Central/Community School       1385 non-null   uint8  \n",
      " 7   Level_of_schooling_Infants School                 1385 non-null   uint8  \n",
      " 8   Level_of_schooling_Primary School                 1385 non-null   uint8  \n",
      " 9   Level_of_schooling_Schools for Specific Purposes  1385 non-null   uint8  \n",
      " 10  Level_of_schooling_Secondary School               1385 non-null   uint8  \n",
      " 11  Selective_school_Fully Selective                  1385 non-null   uint8  \n",
      " 12  Selective_school_Not Selective                    1385 non-null   uint8  \n",
      " 13  Selective_school_Partially Selective              1385 non-null   uint8  \n",
      " 14  School_specialty_type_Agricultural                1385 non-null   uint8  \n",
      " 15  School_specialty_type_Comprehensive               1385 non-null   uint8  \n",
      " 16  School_specialty_type_Intensive English           1385 non-null   uint8  \n",
      " 17  School_specialty_type_Junior College              1385 non-null   uint8  \n",
      " 18  School_specialty_type_Language                    1385 non-null   uint8  \n",
      " 19  School_specialty_type_Marine Technology           1385 non-null   uint8  \n",
      " 20  School_specialty_type_Performing Arts             1385 non-null   uint8  \n",
      " 21  School_specialty_type_Rural Technology            1385 non-null   uint8  \n",
      " 22  School_specialty_type_Senior College              1385 non-null   uint8  \n",
      " 23  School_specialty_type_Sports                      1385 non-null   uint8  \n",
      " 24  School_specialty_type_Technology                  1385 non-null   uint8  \n",
      " 25  School_specialty_type_Visual Arts                 1385 non-null   uint8  \n",
      " 26  School_subtype_Behaviour Disorder                 1385 non-null   uint8  \n",
      " 27  School_subtype_Intensive English Centre           1385 non-null   uint8  \n",
      " 28  School_subtype_Juvenile Justice establishment     1385 non-null   uint8  \n",
      " 29  School_subtype_Kinder to Year 12                  1385 non-null   uint8  \n",
      " 30  School_subtype_Kinder to Year 2                   1385 non-null   uint8  \n",
      " 31  School_subtype_Kinder to Year 6                   1385 non-null   uint8  \n",
      " 32  School_subtype_Medium / High Support needs        1385 non-null   uint8  \n",
      " 33  School_subtype_Year 10 to Year 12                 1385 non-null   uint8  \n",
      " 34  School_subtype_Year 11 to Year 12                 1385 non-null   uint8  \n",
      " 35  School_subtype_Year 7 to Year 10                  1385 non-null   uint8  \n",
      " 36  School_subtype_Year 7 to Year 12                  1385 non-null   uint8  \n",
      " 37  School_subtype_Year 7 to Year 9                   1385 non-null   uint8  \n",
      " 38  Preschool_ind_N                                   1385 non-null   uint8  \n",
      " 39  Preschool_ind_Y                                   1385 non-null   uint8  \n",
      " 40  Distance_education_C                              1385 non-null   uint8  \n",
      " 41  Distance_education_N                              1385 non-null   uint8  \n",
      " 42  Distance_education_S                              1385 non-null   uint8  \n",
      " 43  Intensive_english_centre_N                        1385 non-null   uint8  \n",
      " 44  Intensive_english_centre_Y                        1385 non-null   uint8  \n",
      " 45  School_gender_Boys                                1385 non-null   uint8  \n",
      " 46  School_gender_Coed                                1385 non-null   uint8  \n",
      " 47  School_gender_Girls                               1385 non-null   uint8  \n",
      " 48  Opportunity_class_N                               1385 non-null   uint8  \n",
      " 49  Opportunity_class_Y                               1385 non-null   uint8  \n",
      " 50  ASGS_remoteness_Inner Regional Australia          1385 non-null   uint8  \n",
      " 51  ASGS_remoteness_Major Cities of Australia         1385 non-null   uint8  \n",
      " 52  ASGS_remoteness_Outer Regional Australia          1385 non-null   uint8  \n",
      " 53  ASGS_remoteness_Remote Australia                  1385 non-null   uint8  \n",
      " 54  ASGS_remoteness_Very Remote Australia             1385 non-null   uint8  \n",
      "dtypes: float64(6), uint8(49)\n",
      "memory usage: 131.3 KB\n"
     ]
    }
   ],
   "source": [
    "X.info()"
   ]
  },
  {
   "cell_type": "code",
   "execution_count": 39,
   "id": "0ccc5b2a",
   "metadata": {},
   "outputs": [],
   "source": [
    "scaler = StandardScaler()\n",
    "X_train = scaler.fit_transform(X_train)\n",
    "X_test = scaler.transform(X_test)"
   ]
  },
  {
   "cell_type": "code",
   "execution_count": 40,
   "id": "0d5f1fa8",
   "metadata": {},
   "outputs": [
    {
     "data": {
      "image/png": "[encoded data removed]",
      "text/plain": [
       "<Figure size 1200x800 with 2 Axes>"
      ]
     },
     "metadata": {},
     "output_type": "display_data"
    },
    {
     "name": "stdout",
     "output_type": "stream",
     "text": [
      "accuracy\n",
      "\ttraining         \t (min:    0.791, max:    0.991, cur:    0.991)\n",
      "\tvalidation       \t (min:    0.946, max:    0.982, cur:    0.982)\n",
      "Loss\n",
      "\ttraining         \t (min:    0.026, max:    0.522, cur:    0.026)\n",
      "\tvalidation       \t (min:    0.066, max:    0.318, cur:    0.066)\n",
      "35/35 [==============================] - 1s 30ms/step - loss: 0.0258 - accuracy: 0.9910 - val_loss: 0.0657 - val_accuracy: 0.9819\n",
      "9/9 [==============================] - 0s 6ms/step - loss: 0.0657 - accuracy: 0.9819\n",
      "Test Loss: 6.569243222475052\n",
      "Test Accuracy: 98.19494485855103\n"
     ]
    }
   ],
   "source": [
    "from IPython.display import SVG\n",
    "import livelossplot\n",
    "plot_losses = livelossplot.PlotLossesKeras()\n",
    "\n",
    "model2 = keras.Sequential([\n",
    "    keras.layers.Dense(64, activation='relu', input_shape=(X_train.shape[1],)),\n",
    "    keras.layers.Dense(32, activation='relu'),\n",
    "    keras.layers.Dense(1, activation='sigmoid')\n",
    "])\n",
    "\n",
    "model2.compile(optimizer='adam', loss='binary_crossentropy', metrics=['accuracy'])\n",
    "\n",
    "history = model2.fit(X_train, y_train, epochs=10, batch_size=32, callbacks=[plot_losses], validation_data=(X_test, y_test))\n",
    "\n",
    "loss, accuracy = model2.evaluate(X_test, y_test)\n",
    "print(f\"Test Loss: {loss*100}\")\n",
    "print(f\"Test Accuracy: {accuracy*100}\")"
   ]
  },
  {
   "cell_type": "code",
   "execution_count": 41,
   "id": "9ffc4704",
   "metadata": {},
   "outputs": [
    {
     "name": "stdout",
     "output_type": "stream",
     "text": [
      "9/9 [==============================] - 0s 4ms/step\n",
      "[[261   1]\n",
      " [  4  11]]\n",
      "True Negatives (TN): 261\n",
      "False Positives (FP): 1\n",
      "False Negatives (FN): 4\n",
      "True Positives (TP): 11\n"
     ]
    }
   ],
   "source": [
    "y_pred = model2.predict(X_test)\n",
    "y_pred_binary = (y_pred > 0.5).astype(int)\n",
    "\n",
    "confusion = confusion_matrix(y_test, y_pred_binary)\n",
    "\n",
    "tn, fp, fn, tp = confusion.ravel()\n",
    "\n",
    "print(confusion)\n",
    "print(f\"True Negatives (TN): {tn}\")\n",
    "print(f\"False Positives (FP): {fp}\")\n",
    "print(f\"False Negatives (FN): {fn}\")\n",
    "print(f\"True Positives (TP): {tp}\")"
   ]
  },
  {
   "cell_type": "code",
   "execution_count": 42,
   "id": "ab96cee3",
   "metadata": {},
   "outputs": [
    {
     "name": "stdout",
     "output_type": "stream",
     "text": [
      "9/9 [==============================] - 0s 4ms/step\n",
      "Accuracy: 98.19494584837545\n",
      "Precision: 91.66666666666666\n",
      "Recall: 73.33333333333333\n",
      "F1-score: 81.48148148148148\n"
     ]
    }
   ],
   "source": [
    "y_pred = model2.predict(X_test)\n",
    "\n",
    "y_pred_binary = (y_pred > 0.5).astype(int)\n",
    "\n",
    "accuracy = accuracy_score(y_test, y_pred_binary)\n",
    "print(f\"Accuracy: {accuracy*100}\")\n",
    "\n",
    "precision = precision_score(y_test, y_pred_binary)\n",
    "print(f\"Precision: {precision*100}\")\n",
    "\n",
    "recall = recall_score(y_test, y_pred_binary)\n",
    "print(f\"Recall: {recall*100}\")\n",
    "\n",
    "f1 = f1_score(y_test, y_pred_binary)\n",
    "print(f\"F1-score: {f1*100}\")"
   ]
  },
  {
   "cell_type": "code",
   "execution_count": 43,
   "id": "88e8feb1",
   "metadata": {
    "scrolled": true
   },
   "outputs": [
    {
     "data": {
      "image/png": "[encoded data removed]",
      "text/plain": [
       "<Figure size 640x480 with 1 Axes>"
      ]
     },
     "metadata": {},
     "output_type": "display_data"
    }
   ],
   "source": [
    "training_loss = history.history['loss']\n",
    "testing_loss = history.history['val_loss']  # Assuming you have validation data\n",
    "\n",
    "epochs = range(1, len(training_loss) + 1)\n",
    "\n",
    "plt.plot(epochs, training_loss, 'b', label='Training loss')\n",
    "plt.plot(epochs, testing_loss, 'r', label='Testing loss')\n",
    "plt.title('Training and Testing Loss')\n",
    "plt.xlabel('Epochs')\n",
    "plt.ylabel('Loss')\n",
    "plt.legend()\n",
    "plt.show()"
   ]
  },
  {
   "cell_type": "markdown",
   "id": "6368e317",
   "metadata": {},
   "source": [
    "# Support Vector Machine"
   ]
  },
  {
   "cell_type": "code",
   "execution_count": 44,
   "id": "99556c05",
   "metadata": {},
   "outputs": [
    {
     "data": {
      "text/html": [
       "<div>\n",
       "<style scoped>\n",
       "    .dataframe tbody tr th:only-of-type {\n",
       "        vertical-align: middle;\n",
       "    }\n",
       "\n",
       "    .dataframe tbody tr th {\n",
       "        vertical-align: top;\n",
       "    }\n",
       "\n",
       "    .dataframe thead th {\n",
       "        text-align: right;\n",
       "    }\n",
       "</style>\n",
       "<table border=\"1\" class=\"dataframe\">\n",
       "  <thead>\n",
       "    <tr style=\"text-align: right;\">\n",
       "      <th></th>\n",
       "      <th>School_code</th>\n",
       "      <th>AgeID</th>\n",
       "      <th>School_name</th>\n",
       "      <th>Street</th>\n",
       "      <th>Town_suburb</th>\n",
       "      <th>Postcode</th>\n",
       "      <th>Phone</th>\n",
       "      <th>School_Email</th>\n",
       "      <th>Website</th>\n",
       "      <th>Fax</th>\n",
       "      <th>...</th>\n",
       "      <th>Operational_directorate_office_address</th>\n",
       "      <th>FACS_district</th>\n",
       "      <th>Local_health_district</th>\n",
       "      <th>AECG_region</th>\n",
       "      <th>ASGS_remoteness</th>\n",
       "      <th>Latitude</th>\n",
       "      <th>Longitude</th>\n",
       "      <th>Assets unit</th>\n",
       "      <th>SA4</th>\n",
       "      <th>Date_extracted</th>\n",
       "    </tr>\n",
       "  </thead>\n",
       "  <tbody>\n",
       "    <tr>\n",
       "      <th>0</th>\n",
       "      <td>1138</td>\n",
       "      <td>49127.0</td>\n",
       "      <td>Barnsley Public School</td>\n",
       "      <td>Cliffbrook St</td>\n",
       "      <td>Barnsley</td>\n",
       "      <td>2278.0</td>\n",
       "      <td>4953 2976</td>\n",
       "      <td>barnsley-p.school@det.nsw.edu.au</td>\n",
       "      <td>https://barnsley-p.schools.nsw.gov.au</td>\n",
       "      <td>4953 3094</td>\n",
       "      <td>...</td>\n",
       "      <td>40-44 Coral Cr, Gateshead West 2290</td>\n",
       "      <td>Hunter New England &amp; Central Coast</td>\n",
       "      <td>Hunter New England</td>\n",
       "      <td>Hunter</td>\n",
       "      <td>Major Cities of Australia</td>\n",
       "      <td>-32.933094</td>\n",
       "      <td>151.594552</td>\n",
       "      <td>Hunter/Central Coast</td>\n",
       "      <td>Newcastle and Lake Macquarie</td>\n",
       "      <td>2023-10-05</td>\n",
       "    </tr>\n",
       "    <tr>\n",
       "      <th>1</th>\n",
       "      <td>1139</td>\n",
       "      <td>50460.0</td>\n",
       "      <td>Barooga Public School</td>\n",
       "      <td>Hughes St</td>\n",
       "      <td>Barooga</td>\n",
       "      <td>3644.0</td>\n",
       "      <td>03 5873 4242</td>\n",
       "      <td>barooga-p.school@det.nsw.edu.au</td>\n",
       "      <td>https://barooga-p.schools.nsw.gov.au</td>\n",
       "      <td>03 5873 4700</td>\n",
       "      <td>...</td>\n",
       "      <td>521 Macauley St, Albury 2640</td>\n",
       "      <td>Murrumbidgee, Far West &amp; Western NSW</td>\n",
       "      <td>Murrumbidgee</td>\n",
       "      <td>Riverina 2</td>\n",
       "      <td>Inner Regional Australia</td>\n",
       "      <td>-35.912963</td>\n",
       "      <td>145.695985</td>\n",
       "      <td>Southern NSW</td>\n",
       "      <td>Murray</td>\n",
       "      <td>2023-10-05</td>\n",
       "    </tr>\n",
       "    <tr>\n",
       "      <th>2</th>\n",
       "      <td>1140</td>\n",
       "      <td>49371.0</td>\n",
       "      <td>Barraba Central School</td>\n",
       "      <td>29 Gotha Street</td>\n",
       "      <td>BARRABA</td>\n",
       "      <td>2347.0</td>\n",
       "      <td>6782 1104</td>\n",
       "      <td>barraba-c.school@det.nsw.edu.au</td>\n",
       "      <td>https://barraba-c.schools.nsw.gov.au</td>\n",
       "      <td>6782 1231</td>\n",
       "      <td>...</td>\n",
       "      <td>66-68 Frome St, Moree 2400</td>\n",
       "      <td>Hunter New England &amp; Central Coast</td>\n",
       "      <td>Hunter New England</td>\n",
       "      <td>North Western 2</td>\n",
       "      <td>Outer Regional Australia</td>\n",
       "      <td>-30.382390</td>\n",
       "      <td>150.599478</td>\n",
       "      <td>North Western NSW</td>\n",
       "      <td>New England and North West</td>\n",
       "      <td>2023-10-05</td>\n",
       "    </tr>\n",
       "    <tr>\n",
       "      <th>3</th>\n",
       "      <td>1143</td>\n",
       "      <td>49523.0</td>\n",
       "      <td>Barrington Public School</td>\n",
       "      <td>1 Kenmore St</td>\n",
       "      <td>Barrington</td>\n",
       "      <td>2422.0</td>\n",
       "      <td>6558 4258</td>\n",
       "      <td>barrington-p.school@det.nsw.edu.au</td>\n",
       "      <td>https://barrington-p.schools.nsw.gov.au</td>\n",
       "      <td>6558 4216</td>\n",
       "      <td>...</td>\n",
       "      <td>Middle St, Forster 2428</td>\n",
       "      <td>Hunter New England &amp; Central Coast</td>\n",
       "      <td>Hunter New England</td>\n",
       "      <td>Manning</td>\n",
       "      <td>Outer Regional Australia</td>\n",
       "      <td>-31.971159</td>\n",
       "      <td>151.911058</td>\n",
       "      <td>North Coast</td>\n",
       "      <td>Mid North Coast</td>\n",
       "      <td>2023-10-05</td>\n",
       "    </tr>\n",
       "    <tr>\n",
       "      <th>4</th>\n",
       "      <td>1146</td>\n",
       "      <td>49683.0</td>\n",
       "      <td>Baryulgil Public School</td>\n",
       "      <td>7135 Clarence Way</td>\n",
       "      <td>Baryulgil</td>\n",
       "      <td>2460.0</td>\n",
       "      <td>6647 2124</td>\n",
       "      <td>baryulgil-p.school@det.nsw.edu.au</td>\n",
       "      <td>https://baryulgil-p.schools.nsw.gov.au</td>\n",
       "      <td>6647 2151</td>\n",
       "      <td>...</td>\n",
       "      <td>97 Mary St, Grafton 2460</td>\n",
       "      <td>Mid North Coast &amp; Northern NSW</td>\n",
       "      <td>Northern NSW</td>\n",
       "      <td>Upper North Coast</td>\n",
       "      <td>Outer Regional Australia</td>\n",
       "      <td>-29.223500</td>\n",
       "      <td>152.605615</td>\n",
       "      <td>North Coast</td>\n",
       "      <td>Coffs Harbour - Grafton</td>\n",
       "      <td>2023-10-05</td>\n",
       "    </tr>\n",
       "    <tr>\n",
       "      <th>5</th>\n",
       "      <td>1148</td>\n",
       "      <td>48571.0</td>\n",
       "      <td>Bass Hill Public School</td>\n",
       "      <td>611 Hume Hwy</td>\n",
       "      <td>Bass Hill</td>\n",
       "      <td>2197.0</td>\n",
       "      <td>9644 3431</td>\n",
       "      <td>basshill-p.school@det.nsw.edu.au</td>\n",
       "      <td>https://basshill-p.schools.nsw.gov.au</td>\n",
       "      <td>9644 5271</td>\n",
       "      <td>...</td>\n",
       "      <td>Union St, Riverwood 2210</td>\n",
       "      <td>South Western Sydney</td>\n",
       "      <td>South Western Sydney</td>\n",
       "      <td>Metropolitan South West</td>\n",
       "      <td>Major Cities of Australia</td>\n",
       "      <td>-33.905902</td>\n",
       "      <td>151.005779</td>\n",
       "      <td>South Western Sydney</td>\n",
       "      <td>Sydney - Inner South West</td>\n",
       "      <td>2023-10-05</td>\n",
       "    </tr>\n",
       "    <tr>\n",
       "      <th>6</th>\n",
       "      <td>1149</td>\n",
       "      <td>50056.0</td>\n",
       "      <td>Batemans Bay Public School</td>\n",
       "      <td>Mundarra Way</td>\n",
       "      <td>Surfside</td>\n",
       "      <td>2536.0</td>\n",
       "      <td>4472 4059</td>\n",
       "      <td>batemansba-p.school@det.nsw.edu.au</td>\n",
       "      <td>https://batemansba-p.schools.nsw.gov.au</td>\n",
       "      <td>4472 8457</td>\n",
       "      <td>...</td>\n",
       "      <td>15A Citi Centre, Orient St, Batemans Bay</td>\n",
       "      <td>Illawarra Shoalhaven &amp; Southern NSW</td>\n",
       "      <td>Southern NSW</td>\n",
       "      <td>Lower South Coast</td>\n",
       "      <td>Inner Regional Australia</td>\n",
       "      <td>-35.700051</td>\n",
       "      <td>150.188373</td>\n",
       "      <td>Southern NSW</td>\n",
       "      <td>Capital Region</td>\n",
       "      <td>2023-10-05</td>\n",
       "    </tr>\n",
       "    <tr>\n",
       "      <th>7</th>\n",
       "      <td>1150</td>\n",
       "      <td>50975.0</td>\n",
       "      <td>Bathurst Public School</td>\n",
       "      <td>George St</td>\n",
       "      <td>Bathurst</td>\n",
       "      <td>2795.0</td>\n",
       "      <td>6331 3923</td>\n",
       "      <td>bathurst-p.school@det.nsw.edu.au</td>\n",
       "      <td>https://bathurst-p.schools.nsw.gov.au</td>\n",
       "      <td>6332 2305</td>\n",
       "      <td>...</td>\n",
       "      <td>Cnr George and Rocket St, Bathurst 2795</td>\n",
       "      <td>Murrumbidgee, Far West &amp; Western NSW</td>\n",
       "      <td>Western NSW</td>\n",
       "      <td>Western 1</td>\n",
       "      <td>Inner Regional Australia</td>\n",
       "      <td>-33.420942</td>\n",
       "      <td>149.570615</td>\n",
       "      <td>North Western NSW</td>\n",
       "      <td>Central West</td>\n",
       "      <td>2023-10-05</td>\n",
       "    </tr>\n",
       "    <tr>\n",
       "      <th>8</th>\n",
       "      <td>1152</td>\n",
       "      <td>46415.0</td>\n",
       "      <td>Batlow Technology School</td>\n",
       "      <td>Pioneer St</td>\n",
       "      <td>Batlow</td>\n",
       "      <td>2730.0</td>\n",
       "      <td>6949 1208</td>\n",
       "      <td>batlow-c.school@det.nsw.edu.au</td>\n",
       "      <td>https://batlow-c.schools.nsw.gov.au</td>\n",
       "      <td>6949 1666</td>\n",
       "      <td>...</td>\n",
       "      <td>Level 4, 76 Morgan St, Wagga Wagga 2650</td>\n",
       "      <td>Murrumbidgee, Far West &amp; Western NSW</td>\n",
       "      <td>Murrumbidgee</td>\n",
       "      <td>Riverina 1</td>\n",
       "      <td>Outer Regional Australia</td>\n",
       "      <td>-35.523007</td>\n",
       "      <td>148.146548</td>\n",
       "      <td>Southern NSW</td>\n",
       "      <td>Riverina</td>\n",
       "      <td>2023-10-05</td>\n",
       "    </tr>\n",
       "    <tr>\n",
       "      <th>9</th>\n",
       "      <td>1164</td>\n",
       "      <td>51098.0</td>\n",
       "      <td>Bedgerabong Public School</td>\n",
       "      <td>7 Golding Avenue</td>\n",
       "      <td>BEDGERABONG</td>\n",
       "      <td>2871.0</td>\n",
       "      <td>6857 1185</td>\n",
       "      <td>bedgerebon-p.school@det.nsw.edu.au</td>\n",
       "      <td>https://bedgerebon-p.schools.nsw.gov.au</td>\n",
       "      <td>6857 1118</td>\n",
       "      <td>...</td>\n",
       "      <td>Government Offices, 104-110 Banna Ave, Griffit...</td>\n",
       "      <td>Murrumbidgee, Far West &amp; Western NSW</td>\n",
       "      <td>Western NSW</td>\n",
       "      <td>Western 1</td>\n",
       "      <td>Outer Regional Australia</td>\n",
       "      <td>-33.361353</td>\n",
       "      <td>147.679318</td>\n",
       "      <td>North Western NSW</td>\n",
       "      <td>Central West</td>\n",
       "      <td>2023-10-05</td>\n",
       "    </tr>\n",
       "  </tbody>\n",
       "</table>\n",
       "<p>10 rows × 44 columns</p>\n",
       "</div>"
      ],
      "text/plain": [
       "   School_code    AgeID                 School_name             Street  \\\n",
       "0         1138  49127.0      Barnsley Public School      Cliffbrook St   \n",
       "1         1139  50460.0       Barooga Public School          Hughes St   \n",
       "2         1140  49371.0      Barraba Central School    29 Gotha Street   \n",
       "3         1143  49523.0    Barrington Public School       1 Kenmore St   \n",
       "4         1146  49683.0     Baryulgil Public School  7135 Clarence Way   \n",
       "5         1148  48571.0     Bass Hill Public School       611 Hume Hwy   \n",
       "6         1149  50056.0  Batemans Bay Public School       Mundarra Way   \n",
       "7         1150  50975.0      Bathurst Public School          George St   \n",
       "8         1152  46415.0    Batlow Technology School         Pioneer St   \n",
       "9         1164  51098.0   Bedgerabong Public School   7 Golding Avenue   \n",
       "\n",
       "   Town_suburb  Postcode         Phone                        School_Email  \\\n",
       "0    Barnsley     2278.0     4953 2976    barnsley-p.school@det.nsw.edu.au   \n",
       "1     Barooga     3644.0  03 5873 4242     barooga-p.school@det.nsw.edu.au   \n",
       "2      BARRABA    2347.0     6782 1104     barraba-c.school@det.nsw.edu.au   \n",
       "3  Barrington     2422.0     6558 4258  barrington-p.school@det.nsw.edu.au   \n",
       "4   Baryulgil     2460.0     6647 2124   baryulgil-p.school@det.nsw.edu.au   \n",
       "5   Bass Hill     2197.0     9644 3431    basshill-p.school@det.nsw.edu.au   \n",
       "6     Surfside    2536.0     4472 4059  batemansba-p.school@det.nsw.edu.au   \n",
       "7    Bathurst     2795.0     6331 3923    bathurst-p.school@det.nsw.edu.au   \n",
       "8      Batlow     2730.0     6949 1208      batlow-c.school@det.nsw.edu.au   \n",
       "9  BEDGERABONG    2871.0     6857 1185  bedgerebon-p.school@det.nsw.edu.au   \n",
       "\n",
       "                                   Website           Fax  ...  \\\n",
       "0    https://barnsley-p.schools.nsw.gov.au     4953 3094  ...   \n",
       "1     https://barooga-p.schools.nsw.gov.au  03 5873 4700  ...   \n",
       "2     https://barraba-c.schools.nsw.gov.au     6782 1231  ...   \n",
       "3  https://barrington-p.schools.nsw.gov.au     6558 4216  ...   \n",
       "4   https://baryulgil-p.schools.nsw.gov.au     6647 2151  ...   \n",
       "5    https://basshill-p.schools.nsw.gov.au     9644 5271  ...   \n",
       "6  https://batemansba-p.schools.nsw.gov.au     4472 8457  ...   \n",
       "7    https://bathurst-p.schools.nsw.gov.au     6332 2305  ...   \n",
       "8      https://batlow-c.schools.nsw.gov.au     6949 1666  ...   \n",
       "9  https://bedgerebon-p.schools.nsw.gov.au     6857 1118  ...   \n",
       "\n",
       "              Operational_directorate_office_address  \\\n",
       "0                40-44 Coral Cr, Gateshead West 2290   \n",
       "1                       521 Macauley St, Albury 2640   \n",
       "2                         66-68 Frome St, Moree 2400   \n",
       "3                            Middle St, Forster 2428   \n",
       "4                           97 Mary St, Grafton 2460   \n",
       "5                           Union St, Riverwood 2210   \n",
       "6           15A Citi Centre, Orient St, Batemans Bay   \n",
       "7            Cnr George and Rocket St, Bathurst 2795   \n",
       "8            Level 4, 76 Morgan St, Wagga Wagga 2650   \n",
       "9  Government Offices, 104-110 Banna Ave, Griffit...   \n",
       "\n",
       "                          FACS_district Local_health_district  \\\n",
       "0    Hunter New England & Central Coast    Hunter New England   \n",
       "1  Murrumbidgee, Far West & Western NSW          Murrumbidgee   \n",
       "2    Hunter New England & Central Coast    Hunter New England   \n",
       "3    Hunter New England & Central Coast    Hunter New England   \n",
       "4        Mid North Coast & Northern NSW          Northern NSW   \n",
       "5                  South Western Sydney  South Western Sydney   \n",
       "6   Illawarra Shoalhaven & Southern NSW          Southern NSW   \n",
       "7  Murrumbidgee, Far West & Western NSW           Western NSW   \n",
       "8  Murrumbidgee, Far West & Western NSW          Murrumbidgee   \n",
       "9  Murrumbidgee, Far West & Western NSW           Western NSW   \n",
       "\n",
       "               AECG_region            ASGS_remoteness   Latitude   Longitude  \\\n",
       "0                   Hunter  Major Cities of Australia -32.933094  151.594552   \n",
       "1               Riverina 2   Inner Regional Australia -35.912963  145.695985   \n",
       "2          North Western 2   Outer Regional Australia -30.382390  150.599478   \n",
       "3                  Manning   Outer Regional Australia -31.971159  151.911058   \n",
       "4        Upper North Coast   Outer Regional Australia -29.223500  152.605615   \n",
       "5  Metropolitan South West  Major Cities of Australia -33.905902  151.005779   \n",
       "6        Lower South Coast   Inner Regional Australia -35.700051  150.188373   \n",
       "7                Western 1   Inner Regional Australia -33.420942  149.570615   \n",
       "8               Riverina 1   Outer Regional Australia -35.523007  148.146548   \n",
       "9                Western 1   Outer Regional Australia -33.361353  147.679318   \n",
       "\n",
       "            Assets unit                           SA4  Date_extracted  \n",
       "0  Hunter/Central Coast  Newcastle and Lake Macquarie      2023-10-05  \n",
       "1          Southern NSW                        Murray      2023-10-05  \n",
       "2     North Western NSW    New England and North West      2023-10-05  \n",
       "3           North Coast               Mid North Coast      2023-10-05  \n",
       "4           North Coast       Coffs Harbour - Grafton      2023-10-05  \n",
       "5  South Western Sydney     Sydney - Inner South West      2023-10-05  \n",
       "6          Southern NSW                Capital Region      2023-10-05  \n",
       "7     North Western NSW                  Central West      2023-10-05  \n",
       "8          Southern NSW                      Riverina      2023-10-05  \n",
       "9     North Western NSW                  Central West      2023-10-05  \n",
       "\n",
       "[10 rows x 44 columns]"
      ]
     },
     "execution_count": 44,
     "metadata": {},
     "output_type": "execute_result"
    }
   ],
   "source": [
    "data = pd.read_csv(\"master_dataset.csv\")\n",
    "data.head(10)"
   ]
  },
  {
   "cell_type": "code",
   "execution_count": 45,
   "id": "c9ddae99",
   "metadata": {},
   "outputs": [],
   "source": [
    "data = data.drop('Support_classes', axis=1)"
   ]
  },
  {
   "cell_type": "code",
   "execution_count": 46,
   "id": "0b7384c6",
   "metadata": {},
   "outputs": [
    {
     "name": "stdout",
     "output_type": "stream",
     "text": [
      "<class 'pandas.core.frame.DataFrame'>\n",
      "Int64Index: 2050 entries, 0 to 2206\n",
      "Data columns (total 43 columns):\n",
      " #   Column                                  Non-Null Count  Dtype  \n",
      "---  ------                                  --------------  -----  \n",
      " 0   School_code                             2050 non-null   int64  \n",
      " 1   AgeID                                   2050 non-null   float64\n",
      " 2   School_name                             2050 non-null   object \n",
      " 3   Street                                  2050 non-null   object \n",
      " 4   Town_suburb                             2050 non-null   object \n",
      " 5   Postcode                                2050 non-null   float64\n",
      " 6   Phone                                   2050 non-null   object \n",
      " 7   School_Email                            2050 non-null   object \n",
      " 8   Website                                 2050 non-null   object \n",
      " 9   Fax                                     2050 non-null   object \n",
      " 10  latest_year_enrolment_FTE               2050 non-null   float64\n",
      " 11  Indigenous_pct                          2050 non-null   object \n",
      " 12  LBOTE_pct                               2050 non-null   object \n",
      " 13  ICSEA_value                             2050 non-null   float64\n",
      " 14  Level_of_schooling                      2050 non-null   object \n",
      " 15  Selective_school                        2050 non-null   object \n",
      " 16  Opportunity_class                       2050 non-null   object \n",
      " 17  School_specialty_type                   2050 non-null   object \n",
      " 18  School_subtype                          2050 non-null   object \n",
      " 19  Preschool_ind                           2050 non-null   object \n",
      " 20  Distance_education                      2050 non-null   object \n",
      " 21  Intensive_english_centre                2050 non-null   object \n",
      " 22  School_gender                           2050 non-null   object \n",
      " 23  Late_opening_school                     2050 non-null   object \n",
      " 24  Date_1st_teacher                        2050 non-null   object \n",
      " 25  LGA                                     2050 non-null   object \n",
      " 26  electorate_from_2023                    2050 non-null   object \n",
      " 27  electorate_2015_2022                    2050 non-null   object \n",
      " 28  Fed_electorate                          2050 non-null   object \n",
      " 29  Operational_directorate                 2050 non-null   object \n",
      " 30  Principal_network                       2050 non-null   object \n",
      " 31  Operational_directorate_office          2050 non-null   object \n",
      " 32  Operational_directorate_office_phone    2050 non-null   object \n",
      " 33  Operational_directorate_office_address  2050 non-null   object \n",
      " 34  FACS_district                           2050 non-null   object \n",
      " 35  Local_health_district                   2050 non-null   object \n",
      " 36  AECG_region                             2050 non-null   object \n",
      " 37  ASGS_remoteness                         2050 non-null   object \n",
      " 38  Latitude                                2050 non-null   float64\n",
      " 39  Longitude                               2050 non-null   float64\n",
      " 40  Assets unit                             2050 non-null   object \n",
      " 41  SA4                                     2050 non-null   object \n",
      " 42  Date_extracted                          2050 non-null   object \n",
      "dtypes: float64(6), int64(1), object(36)\n",
      "memory usage: 704.7+ KB\n"
     ]
    }
   ],
   "source": [
    "new_data = data.dropna()\n",
    "new_data.info()"
   ]
  },
  {
   "cell_type": "code",
   "execution_count": 47,
   "id": "fffe1801",
   "metadata": {},
   "outputs": [],
   "source": [
    "new_data = new_data[~new_data.isin([\"np\"]).any(axis=1)]"
   ]
  },
  {
   "cell_type": "code",
   "execution_count": 48,
   "id": "a3c6af9f",
   "metadata": {},
   "outputs": [
    {
     "data": {
      "text/plain": [
       "1385"
      ]
     },
     "execution_count": 48,
     "metadata": {},
     "output_type": "execute_result"
    }
   ],
   "source": [
    "len(new_data)"
   ]
  },
  {
   "cell_type": "code",
   "execution_count": 49,
   "id": "df72b070",
   "metadata": {},
   "outputs": [],
   "source": [
    "label_encoder = LabelEncoder()"
   ]
  },
  {
   "cell_type": "code",
   "execution_count": 50,
   "id": "be1500d1",
   "metadata": {},
   "outputs": [],
   "source": [
    "label_columns = new_data[['Level_of_schooling', 'Selective_school', 'School_specialty_type', 'School_subtype', 'Preschool_ind', 'Distance_education', 'Intensive_english_centre', 'School_gender', 'ASGS_remoteness', 'Opportunity_class']]\n",
    "for col in label_columns:\n",
    "    new_data[col] = label_encoder.fit_transform(new_data[col])"
   ]
  },
  {
   "cell_type": "code",
   "execution_count": 51,
   "id": "1617f4c7",
   "metadata": {},
   "outputs": [],
   "source": [
    "Y = new_data.loc[:,\"Late_opening_school\"]"
   ]
  },
  {
   "cell_type": "code",
   "execution_count": 52,
   "id": "75e1054f",
   "metadata": {},
   "outputs": [],
   "source": [
    "Y = Y.replace({'Y': 1, 'N': 0})"
   ]
  },
  {
   "cell_type": "code",
   "execution_count": 53,
   "id": "1afefb2a",
   "metadata": {},
   "outputs": [
    {
     "name": "stdout",
     "output_type": "stream",
     "text": [
      "<class 'pandas.core.frame.DataFrame'>\n",
      "Int64Index: 1385 entries, 0 to 2206\n",
      "Data columns (total 43 columns):\n",
      " #   Column                                  Non-Null Count  Dtype  \n",
      "---  ------                                  --------------  -----  \n",
      " 0   School_code                             1385 non-null   int64  \n",
      " 1   AgeID                                   1385 non-null   float64\n",
      " 2   School_name                             1385 non-null   object \n",
      " 3   Street                                  1385 non-null   object \n",
      " 4   Town_suburb                             1385 non-null   object \n",
      " 5   Postcode                                1385 non-null   float64\n",
      " 6   Phone                                   1385 non-null   object \n",
      " 7   School_Email                            1385 non-null   object \n",
      " 8   Website                                 1385 non-null   object \n",
      " 9   Fax                                     1385 non-null   object \n",
      " 10  latest_year_enrolment_FTE               1385 non-null   float64\n",
      " 11  Indigenous_pct                          1385 non-null   object \n",
      " 12  LBOTE_pct                               1385 non-null   object \n",
      " 13  ICSEA_value                             1385 non-null   float64\n",
      " 14  Level_of_schooling                      1385 non-null   int32  \n",
      " 15  Selective_school                        1385 non-null   int32  \n",
      " 16  Opportunity_class                       1385 non-null   int32  \n",
      " 17  School_specialty_type                   1385 non-null   int32  \n",
      " 18  School_subtype                          1385 non-null   int32  \n",
      " 19  Preschool_ind                           1385 non-null   int32  \n",
      " 20  Distance_education                      1385 non-null   int32  \n",
      " 21  Intensive_english_centre                1385 non-null   int32  \n",
      " 22  School_gender                           1385 non-null   int32  \n",
      " 23  Late_opening_school                     1385 non-null   object \n",
      " 24  Date_1st_teacher                        1385 non-null   object \n",
      " 25  LGA                                     1385 non-null   object \n",
      " 26  electorate_from_2023                    1385 non-null   object \n",
      " 27  electorate_2015_2022                    1385 non-null   object \n",
      " 28  Fed_electorate                          1385 non-null   object \n",
      " 29  Operational_directorate                 1385 non-null   object \n",
      " 30  Principal_network                       1385 non-null   object \n",
      " 31  Operational_directorate_office          1385 non-null   object \n",
      " 32  Operational_directorate_office_phone    1385 non-null   object \n",
      " 33  Operational_directorate_office_address  1385 non-null   object \n",
      " 34  FACS_district                           1385 non-null   object \n",
      " 35  Local_health_district                   1385 non-null   object \n",
      " 36  AECG_region                             1385 non-null   object \n",
      " 37  ASGS_remoteness                         1385 non-null   int32  \n",
      " 38  Latitude                                1385 non-null   float64\n",
      " 39  Longitude                               1385 non-null   float64\n",
      " 40  Assets unit                             1385 non-null   object \n",
      " 41  SA4                                     1385 non-null   object \n",
      " 42  Date_extracted                          1385 non-null   object \n",
      "dtypes: float64(6), int32(10), int64(1), object(26)\n",
      "memory usage: 422.0+ KB\n"
     ]
    }
   ],
   "source": [
    "new_data.info()"
   ]
  },
  {
   "cell_type": "code",
   "execution_count": 54,
   "id": "c65152bf",
   "metadata": {},
   "outputs": [
    {
     "data": {
      "text/plain": [
       "1385"
      ]
     },
     "execution_count": 54,
     "metadata": {},
     "output_type": "execute_result"
    }
   ],
   "source": [
    "X = new_data.loc[:, [\"latest_year_enrolment_FTE\", \"Indigenous_pct\", \"LBOTE_pct\", \"ICSEA_value\", \"Level_of_schooling\",\n",
    "                     \"Selective_school\",\"School_subtype\", \"Latitude\", \"Longitude\", \"School_specialty_type\", \n",
    "                     \"Preschool_ind\", \"Distance_education\", \"Intensive_english_centre\", \"School_gender\", \n",
    "                    \"ASGS_remoteness\", \"Opportunity_class\"]]\n",
    "X\n",
    "len(X)"
   ]
  },
  {
   "cell_type": "code",
   "execution_count": 55,
   "id": "d4642b90",
   "metadata": {},
   "outputs": [
    {
     "data": {
      "text/plain": [
       "Index(['latest_year_enrolment_FTE', 'Indigenous_pct', 'LBOTE_pct',\n",
       "       'ICSEA_value', 'Level_of_schooling', 'Selective_school',\n",
       "       'School_subtype', 'Latitude', 'Longitude', 'School_specialty_type',\n",
       "       'Preschool_ind', 'Distance_education', 'Intensive_english_centre',\n",
       "       'School_gender', 'ASGS_remoteness', 'Opportunity_class'],\n",
       "      dtype='object')"
      ]
     },
     "execution_count": 55,
     "metadata": {},
     "output_type": "execute_result"
    }
   ],
   "source": [
    "columns = X.columns\n",
    "columns"
   ]
  },
  {
   "cell_type": "code",
   "execution_count": 56,
   "id": "5117acfd",
   "metadata": {},
   "outputs": [],
   "source": [
    "for col in columns:\n",
    "    X[col] = pd.to_numeric(X[col], errors='coerce', downcast='integer')"
   ]
  },
  {
   "cell_type": "code",
   "execution_count": 57,
   "id": "d246f849",
   "metadata": {},
   "outputs": [
    {
     "name": "stdout",
     "output_type": "stream",
     "text": [
      "<class 'pandas.core.series.Series'>\n",
      "Int64Index: 1385 entries, 0 to 2206\n",
      "Series name: Late_opening_school\n",
      "Non-Null Count  Dtype\n",
      "--------------  -----\n",
      "1385 non-null   int64\n",
      "dtypes: int64(1)\n",
      "memory usage: 21.6 KB\n"
     ]
    },
    {
     "data": {
      "text/plain": [
       "0       0\n",
       "3       0\n",
       "6       0\n",
       "7       0\n",
       "12      0\n",
       "       ..\n",
       "2201    0\n",
       "2202    0\n",
       "2203    0\n",
       "2204    0\n",
       "2206    0\n",
       "Name: Late_opening_school, Length: 1385, dtype: int64"
      ]
     },
     "execution_count": 57,
     "metadata": {},
     "output_type": "execute_result"
    }
   ],
   "source": [
    "Y = Y.replace({'Y': 1, 'N': 0})\n",
    "Y.info()\n",
    "Y"
   ]
  },
  {
   "cell_type": "code",
   "execution_count": 58,
   "id": "212de04b",
   "metadata": {},
   "outputs": [],
   "source": [
    "X['Indigenous_pct'] = X['Indigenous_pct'].astype(int)\n",
    "X['LBOTE_pct'] = X['LBOTE_pct'].astype(int)"
   ]
  },
  {
   "cell_type": "code",
   "execution_count": 59,
   "id": "b3ebfc7f",
   "metadata": {},
   "outputs": [],
   "source": [
    "X_train, X_test, y_train, y_test = train_test_split(X, Y, test_size = 0.2, random_state = 42)"
   ]
  },
  {
   "cell_type": "code",
   "execution_count": 60,
   "id": "5ad7bc66",
   "metadata": {},
   "outputs": [],
   "source": [
    "scaler = StandardScaler()\n",
    "X_train = scaler.fit_transform(X_train)\n",
    "X_test = scaler.transform(X_test)"
   ]
  },
  {
   "cell_type": "code",
   "execution_count": 61,
   "id": "ec9bdfcf",
   "metadata": {},
   "outputs": [],
   "source": [
    "svm_clf1 = LinearSVC(C=1, loss=\"hinge\")"
   ]
  },
  {
   "cell_type": "code",
   "execution_count": 62,
   "id": "08fbadf0",
   "metadata": {},
   "outputs": [
    {
     "name": "stderr",
     "output_type": "stream",
     "text": [
      "C:\\Users\\ASUS\\anaconda3\\lib\\site-packages\\sklearn\\svm\\_base.py:1206: ConvergenceWarning: Liblinear failed to converge, increase the number of iterations.\n",
      "  warnings.warn(\n"
     ]
    },
    {
     "data": {
      "text/plain": [
       "LinearSVC(C=1, loss='hinge')"
      ]
     },
     "execution_count": 62,
     "metadata": {},
     "output_type": "execute_result"
    }
   ],
   "source": [
    "svm_clf1.fit(X_train,y_train)"
   ]
  },
  {
   "cell_type": "code",
   "execution_count": 63,
   "id": "c476463a",
   "metadata": {},
   "outputs": [
    {
     "data": {
      "text/plain": [
       "array([[261,   3],\n",
       "       [  1,  12]], dtype=int64)"
      ]
     },
     "execution_count": 63,
     "metadata": {},
     "output_type": "execute_result"
    }
   ],
   "source": [
    "y_pred = svm_clf1.predict(X_test)\n",
    "confusion_matrix(y_pred, y_test)"
   ]
  },
  {
   "cell_type": "code",
   "execution_count": 64,
   "id": "bbdbfb0a",
   "metadata": {},
   "outputs": [
    {
     "name": "stdout",
     "output_type": "stream",
     "text": [
      "98.55595667870037\n",
      "Precision Score: 98.50862134255635\n"
     ]
    }
   ],
   "source": [
    "from sklearn.metrics import accuracy_score\n",
    "print(accuracy_score(y_test, y_pred)*100)\n",
    "precision_linear = precision_score(y_test, y_pred, average='weighted')\n",
    "print(\"Precision Score:\", precision_linear*100)"
   ]
  },
  {
   "cell_type": "code",
   "execution_count": 65,
   "id": "9bb3909a",
   "metadata": {},
   "outputs": [
    {
     "name": "stderr",
     "output_type": "stream",
     "text": [
      "C:\\Users\\ASUS\\anaconda3\\lib\\site-packages\\sklearn\\svm\\_base.py:1206: ConvergenceWarning: Liblinear failed to converge, increase the number of iterations.\n",
      "  warnings.warn(\n",
      "C:\\Users\\ASUS\\anaconda3\\lib\\site-packages\\sklearn\\svm\\_base.py:1206: ConvergenceWarning: Liblinear failed to converge, increase the number of iterations.\n",
      "  warnings.warn(\n",
      "C:\\Users\\ASUS\\anaconda3\\lib\\site-packages\\sklearn\\svm\\_base.py:1206: ConvergenceWarning: Liblinear failed to converge, increase the number of iterations.\n",
      "  warnings.warn(\n",
      "C:\\Users\\ASUS\\anaconda3\\lib\\site-packages\\sklearn\\svm\\_base.py:1206: ConvergenceWarning: Liblinear failed to converge, increase the number of iterations.\n",
      "  warnings.warn(\n"
     ]
    },
    {
     "name": "stdout",
     "output_type": "stream",
     "text": [
      "C = 0.01, accuracy = 96.75090252707581\n",
      "C = 0.1, accuracy = 97.47292418772562\n",
      "C = 1, accuracy = 98.55595667870037\n",
      "C = 10, accuracy = 98.91696750902527\n",
      "C = 100, accuracy = 98.55595667870037\n"
     ]
    },
    {
     "data": {
      "image/png": "[encoded data removed]",
      "text/plain": [
       "<Figure size 600x400 with 1 Axes>"
      ]
     },
     "metadata": {},
     "output_type": "display_data"
    }
   ],
   "source": [
    "Margins = [0.01, 0.1, 1, 10, 100]\n",
    "resAccuracy = []\n",
    "for m in Margins:\n",
    "    svm_clf_cv = LinearSVC(C=m, loss=\"hinge\")\n",
    "    svm_clf_cv.fit(X_train,y_train)\n",
    "    y_pred_cv = svm_clf_cv.predict(X_test)\n",
    "    accCurr = accuracy_score(y_test, y_pred_cv)*100\n",
    "    print(f'C = {m}, accuracy = {accCurr}')\n",
    "    resAccuracy.append(accCurr)\n",
    "plt.figure(figsize=(6,4))\n",
    "plt.semilogx(Margins, resAccuracy, '*-')\n",
    "plt.show()"
   ]
  },
  {
   "cell_type": "code",
   "execution_count": 66,
   "id": "68a2c030",
   "metadata": {},
   "outputs": [
    {
     "data": {
      "text/plain": [
       "SVC(C=1, gamma=10)"
      ]
     },
     "execution_count": 66,
     "metadata": {},
     "output_type": "execute_result"
    }
   ],
   "source": [
    "svm_clf2 = SVC(kernel=\"rbf\", gamma=10, C=1)\n",
    "svm_clf2.fit(X_train,y_train)"
   ]
  },
  {
   "cell_type": "code",
   "execution_count": 67,
   "id": "eb6d8ce3",
   "metadata": {},
   "outputs": [
    {
     "data": {
      "text/plain": [
       "array([[262,  15],\n",
       "       [  0,   0]], dtype=int64)"
      ]
     },
     "execution_count": 67,
     "metadata": {},
     "output_type": "execute_result"
    }
   ],
   "source": [
    "y_pred2 = svm_clf2.predict(X_test)\n",
    "confusion_matrix(y_pred2, y_test)"
   ]
  },
  {
   "cell_type": "code",
   "execution_count": 68,
   "id": "c767712e",
   "metadata": {},
   "outputs": [
    {
     "data": {
      "text/plain": [
       "SVC(kernel='poly')"
      ]
     },
     "execution_count": 68,
     "metadata": {},
     "output_type": "execute_result"
    }
   ],
   "source": [
    "svm_polynomial = SVC(kernel='poly', degree=3)\n",
    "svm_polynomial.fit(X_train, y_train)"
   ]
  },
  {
   "cell_type": "code",
   "execution_count": 69,
   "id": "f9a6b1e7",
   "metadata": {},
   "outputs": [
    {
     "data": {
      "text/plain": [
       "array([[261,   2],\n",
       "       [  1,  13]], dtype=int64)"
      ]
     },
     "execution_count": 69,
     "metadata": {},
     "output_type": "execute_result"
    }
   ],
   "source": [
    "y_pred3 = svm_polynomial.predict(X_test)\n",
    "confusion_matrix(y_pred3, y_test)"
   ]
  },
  {
   "cell_type": "code",
   "execution_count": 70,
   "id": "20bebc86",
   "metadata": {},
   "outputs": [
    {
     "name": "stdout",
     "output_type": "stream",
     "text": [
      "98.91696750902527\n"
     ]
    }
   ],
   "source": [
    "print(accuracy_score(y_test, y_pred3)*100)"
   ]
  },
  {
   "cell_type": "code",
   "execution_count": 71,
   "id": "2abfc5c3",
   "metadata": {},
   "outputs": [
    {
     "name": "stderr",
     "output_type": "stream",
     "text": [
      "C:\\Users\\ASUS\\anaconda3\\lib\\site-packages\\sklearn\\svm\\_base.py:1206: ConvergenceWarning: Liblinear failed to converge, increase the number of iterations.\n",
      "  warnings.warn(\n"
     ]
    },
    {
     "data": {
      "text/plain": [
       "Pipeline(steps=[('poly_features', PolynomialFeatures(degree=3)),\n",
       "                ('scaler', StandardScaler()),\n",
       "                ('svm_clf', LinearSVC(C=1, loss='hinge', random_state=42))])"
      ]
     },
     "execution_count": 71,
     "metadata": {},
     "output_type": "execute_result"
    }
   ],
   "source": [
    "from sklearn.pipeline import Pipeline\n",
    "from sklearn.preprocessing import PolynomialFeatures\n",
    "\n",
    "polynomial_svm_clf = Pipeline([\n",
    "        (\"poly_features\", PolynomialFeatures(degree=3)),\n",
    "        (\"scaler\", StandardScaler()),\n",
    "        (\"svm_clf\", LinearSVC(C=1, loss=\"hinge\", random_state=42))\n",
    "    ])\n",
    "\n",
    "polynomial_svm_clf.fit(X_train, y_train)"
   ]
  },
  {
   "cell_type": "code",
   "execution_count": 72,
   "id": "25b9ac10",
   "metadata": {},
   "outputs": [
    {
     "data": {
      "text/plain": [
       "array([[259,   3],\n",
       "       [  3,  12]], dtype=int64)"
      ]
     },
     "execution_count": 72,
     "metadata": {},
     "output_type": "execute_result"
    }
   ],
   "source": [
    "y_pred4 = polynomial_svm_clf.predict(X_test)\n",
    "confusion_matrix(y_pred4, y_test)"
   ]
  },
  {
   "cell_type": "code",
   "execution_count": 73,
   "id": "7f9dc0c8",
   "metadata": {},
   "outputs": [
    {
     "name": "stdout",
     "output_type": "stream",
     "text": [
      "97.83393501805054\n"
     ]
    }
   ],
   "source": [
    "print(accuracy_score(y_test, y_pred4)*100)"
   ]
  },
  {
   "cell_type": "code",
   "execution_count": 74,
   "id": "6260389d",
   "metadata": {},
   "outputs": [
    {
     "name": "stdout",
     "output_type": "stream",
     "text": [
      "Precision Score: 0.9783393501805054\n"
     ]
    }
   ],
   "source": [
    "from sklearn.metrics import precision_score\n",
    "precision_polynomial = precision_score(y_test, y_pred4, average='weighted')\n",
    "print(\"Precision Score:\", precision_polynomial)"
   ]
  },
  {
   "cell_type": "code",
   "execution_count": 75,
   "id": "61d4c8bd",
   "metadata": {},
   "outputs": [
    {
     "name": "stdout",
     "output_type": "stream",
     "text": [
      "[0.97747748 0.9954955  0.9954955  0.99095023 0.99095023]\n",
      "Mean accuracy score:  0.9900737841914313\n"
     ]
    }
   ],
   "source": [
    "from sklearn.model_selection import cross_val_score\n",
    "svm_model = SVC(kernel='linear', C=1.0)\n",
    "scores = cross_val_score(svm_model, X_train, y_train, cv = 5, scoring='accuracy')\n",
    "print(scores)\n",
    "mean_accuracy = scores.mean()\n",
    "print(\"Mean accuracy score: \", mean_accuracy)"
   ]
  },
  {
   "cell_type": "markdown",
   "id": "2a308b10",
   "metadata": {},
   "source": [
    "# Naive Bayes"
   ]
  },
  {
   "cell_type": "code",
   "execution_count": 76,
   "id": "5eecffd6",
   "metadata": {},
   "outputs": [],
   "source": [
    "#Added Rizwan's code for the pre-processing of Opportunity class"
   ]
  },
  {
   "cell_type": "code",
   "execution_count": 77,
   "id": "131d1f0f",
   "metadata": {},
   "outputs": [],
   "source": [
    "#create new dataframe for pre-processing\n",
    "data_for_preprocessing = new_data[['latest_year_enrolment_FTE', 'Indigenous_pct', 'LBOTE_pct', 'ICSEA_value', \n",
    "                                   'Level_of_schooling', 'Selective_school', 'School_specialty_type', \n",
    "                                   'School_subtype', 'Preschool_ind', 'Distance_education', 'Intensive_english_centre',\n",
    "                                   'School_gender', 'Late_opening_school', 'ASGS_remoteness', 'Latitude', 'Longitude',\n",
    "                                   'Opportunity_class']].copy()"
   ]
  },
  {
   "cell_type": "code",
   "execution_count": 78,
   "id": "9b233288",
   "metadata": {},
   "outputs": [
    {
     "data": {
      "text/html": [
       "<div>\n",
       "<style scoped>\n",
       "    .dataframe tbody tr th:only-of-type {\n",
       "        vertical-align: middle;\n",
       "    }\n",
       "\n",
       "    .dataframe tbody tr th {\n",
       "        vertical-align: top;\n",
       "    }\n",
       "\n",
       "    .dataframe thead th {\n",
       "        text-align: right;\n",
       "    }\n",
       "</style>\n",
       "<table border=\"1\" class=\"dataframe\">\n",
       "  <thead>\n",
       "    <tr style=\"text-align: right;\">\n",
       "      <th></th>\n",
       "      <th>latest_year_enrolment_FTE</th>\n",
       "      <th>Indigenous_pct</th>\n",
       "      <th>LBOTE_pct</th>\n",
       "      <th>ICSEA_value</th>\n",
       "      <th>Level_of_schooling</th>\n",
       "      <th>Selective_school</th>\n",
       "      <th>School_specialty_type</th>\n",
       "      <th>School_subtype</th>\n",
       "      <th>Preschool_ind</th>\n",
       "      <th>Distance_education</th>\n",
       "      <th>Intensive_english_centre</th>\n",
       "      <th>School_gender</th>\n",
       "      <th>Late_opening_school</th>\n",
       "      <th>ASGS_remoteness</th>\n",
       "      <th>Latitude</th>\n",
       "      <th>Longitude</th>\n",
       "      <th>Opportunity_class</th>\n",
       "    </tr>\n",
       "  </thead>\n",
       "  <tbody>\n",
       "    <tr>\n",
       "      <th>0</th>\n",
       "      <td>295.0</td>\n",
       "      <td>13.0</td>\n",
       "      <td>3.0</td>\n",
       "      <td>948.0</td>\n",
       "      <td>2</td>\n",
       "      <td>1</td>\n",
       "      <td>1</td>\n",
       "      <td>5</td>\n",
       "      <td>0</td>\n",
       "      <td>1</td>\n",
       "      <td>0</td>\n",
       "      <td>1</td>\n",
       "      <td>N</td>\n",
       "      <td>1</td>\n",
       "      <td>-32.933094</td>\n",
       "      <td>151.594552</td>\n",
       "      <td>0</td>\n",
       "    </tr>\n",
       "    <tr>\n",
       "      <th>1</th>\n",
       "      <td>48.0</td>\n",
       "      <td>17.0</td>\n",
       "      <td>0.0</td>\n",
       "      <td>978.0</td>\n",
       "      <td>2</td>\n",
       "      <td>1</td>\n",
       "      <td>1</td>\n",
       "      <td>5</td>\n",
       "      <td>0</td>\n",
       "      <td>1</td>\n",
       "      <td>0</td>\n",
       "      <td>1</td>\n",
       "      <td>N</td>\n",
       "      <td>2</td>\n",
       "      <td>-31.971159</td>\n",
       "      <td>151.911058</td>\n",
       "      <td>0</td>\n",
       "    </tr>\n",
       "    <tr>\n",
       "      <th>2</th>\n",
       "      <td>524.0</td>\n",
       "      <td>28.0</td>\n",
       "      <td>6.0</td>\n",
       "      <td>905.0</td>\n",
       "      <td>2</td>\n",
       "      <td>1</td>\n",
       "      <td>1</td>\n",
       "      <td>5</td>\n",
       "      <td>1</td>\n",
       "      <td>1</td>\n",
       "      <td>0</td>\n",
       "      <td>1</td>\n",
       "      <td>N</td>\n",
       "      <td>0</td>\n",
       "      <td>-35.700051</td>\n",
       "      <td>150.188373</td>\n",
       "      <td>0</td>\n",
       "    </tr>\n",
       "    <tr>\n",
       "      <th>3</th>\n",
       "      <td>477.0</td>\n",
       "      <td>12.0</td>\n",
       "      <td>14.0</td>\n",
       "      <td>999.0</td>\n",
       "      <td>2</td>\n",
       "      <td>1</td>\n",
       "      <td>1</td>\n",
       "      <td>5</td>\n",
       "      <td>0</td>\n",
       "      <td>1</td>\n",
       "      <td>0</td>\n",
       "      <td>1</td>\n",
       "      <td>N</td>\n",
       "      <td>0</td>\n",
       "      <td>-33.420942</td>\n",
       "      <td>149.570615</td>\n",
       "      <td>0</td>\n",
       "    </tr>\n",
       "    <tr>\n",
       "      <th>4</th>\n",
       "      <td>162.0</td>\n",
       "      <td>4.0</td>\n",
       "      <td>29.0</td>\n",
       "      <td>1001.0</td>\n",
       "      <td>2</td>\n",
       "      <td>1</td>\n",
       "      <td>1</td>\n",
       "      <td>5</td>\n",
       "      <td>0</td>\n",
       "      <td>1</td>\n",
       "      <td>0</td>\n",
       "      <td>1</td>\n",
       "      <td>N</td>\n",
       "      <td>2</td>\n",
       "      <td>-34.252836</td>\n",
       "      <td>146.101067</td>\n",
       "      <td>0</td>\n",
       "    </tr>\n",
       "  </tbody>\n",
       "</table>\n",
       "</div>"
      ],
      "text/plain": [
       "   latest_year_enrolment_FTE Indigenous_pct LBOTE_pct  ICSEA_value  \\\n",
       "0                      295.0           13.0       3.0        948.0   \n",
       "1                       48.0           17.0       0.0        978.0   \n",
       "2                      524.0           28.0       6.0        905.0   \n",
       "3                      477.0           12.0      14.0        999.0   \n",
       "4                      162.0            4.0      29.0       1001.0   \n",
       "\n",
       "   Level_of_schooling  Selective_school  School_specialty_type  \\\n",
       "0                   2                 1                      1   \n",
       "1                   2                 1                      1   \n",
       "2                   2                 1                      1   \n",
       "3                   2                 1                      1   \n",
       "4                   2                 1                      1   \n",
       "\n",
       "   School_subtype  Preschool_ind  Distance_education  \\\n",
       "0               5              0                   1   \n",
       "1               5              0                   1   \n",
       "2               5              1                   1   \n",
       "3               5              0                   1   \n",
       "4               5              0                   1   \n",
       "\n",
       "   Intensive_english_centre  School_gender Late_opening_school  \\\n",
       "0                         0              1                   N   \n",
       "1                         0              1                   N   \n",
       "2                         0              1                   N   \n",
       "3                         0              1                   N   \n",
       "4                         0              1                   N   \n",
       "\n",
       "   ASGS_remoteness   Latitude   Longitude  Opportunity_class  \n",
       "0                1 -32.933094  151.594552                  0  \n",
       "1                2 -31.971159  151.911058                  0  \n",
       "2                0 -35.700051  150.188373                  0  \n",
       "3                0 -33.420942  149.570615                  0  \n",
       "4                2 -34.252836  146.101067                  0  "
      ]
     },
     "execution_count": 78,
     "metadata": {},
     "output_type": "execute_result"
    }
   ],
   "source": [
    "#reset index\n",
    "data_for_preprocessing.reset_index(drop=True, inplace=True)\n",
    "data_for_preprocessing.head()"
   ]
  },
  {
   "cell_type": "code",
   "execution_count": 79,
   "id": "87b53b2b",
   "metadata": {},
   "outputs": [],
   "source": [
    "#create data frame for dummies\n",
    "data_drop_for_dummies = data_for_preprocessing.drop(['Level_of_schooling','Selective_school', 'School_specialty_type',\n",
    "                                                     'School_subtype', 'Preschool_ind', 'Distance_education', \n",
    "                                                     'Intensive_english_centre','School_gender', 'Late_opening_school',\n",
    "                                                     'ASGS_remoteness', 'Opportunity_class'], axis=1)"
   ]
  },
  {
   "cell_type": "code",
   "execution_count": 80,
   "id": "10492a06",
   "metadata": {},
   "outputs": [],
   "source": [
    "categorical_columns = ['Level_of_schooling', 'Selective_school', 'School_specialty_type', 'School_subtype', \n",
    "                       'Preschool_ind', 'Distance_education', 'Intensive_english_centre', 'School_gender', \n",
    "                       'Late_opening_school', 'ASGS_remoteness']\n",
    "dummies = pd.get_dummies(data_for_preprocessing, columns=categorical_columns)"
   ]
  },
  {
   "cell_type": "code",
   "execution_count": 81,
   "id": "1d353b30",
   "metadata": {},
   "outputs": [],
   "source": [
    "dummies = dummies.drop(['latest_year_enrolment_FTE', 'Indigenous_pct', 'LBOTE_pct', 'ICSEA_value', 'Latitude', \n",
    "                        'Longitude', 'Opportunity_class'], axis=1)"
   ]
  },
  {
   "cell_type": "code",
   "execution_count": 82,
   "id": "76671737",
   "metadata": {},
   "outputs": [],
   "source": [
    "X = pd.concat([data_drop_for_dummies, dummies], axis=1)\n",
    "y = data_for_preprocessing['Opportunity_class']"
   ]
  },
  {
   "cell_type": "code",
   "execution_count": 83,
   "id": "a9adbc5e",
   "metadata": {},
   "outputs": [],
   "source": [
    "y = y.replace({'Y': 1, 'N': 0})"
   ]
  },
  {
   "cell_type": "code",
   "execution_count": 84,
   "id": "9fba1221",
   "metadata": {},
   "outputs": [],
   "source": [
    "X['Indigenous_pct'] = X['Indigenous_pct'].astype(float)\n",
    "X['LBOTE_pct'] = X['LBOTE_pct'].astype(float)"
   ]
  },
  {
   "cell_type": "markdown",
   "id": "8781139a",
   "metadata": {},
   "source": [
    "# Naive Bayes for 'Opportunity Class'"
   ]
  },
  {
   "cell_type": "code",
   "execution_count": 85,
   "id": "bbd7662d",
   "metadata": {},
   "outputs": [
    {
     "name": "stdout",
     "output_type": "stream",
     "text": [
      "X_train Dimension: (1108, 55)\n",
      "y_train Dimension: (1108,)\n",
      "X_test Dimension: (277, 55)\n",
      "y_test Dimension: (277,)\n"
     ]
    }
   ],
   "source": [
    "#data splitting: 80% training and 20% testing\n",
    "X_train, X_test, y_train, y_test = train_test_split(X, y, test_size=0.2, random_state=42)\n",
    "\n",
    "print(\"X_train Dimension: {}\".format(X_train.shape))\n",
    "print(\"y_train Dimension: {}\".format(y_train.shape))\n",
    "print(\"X_test Dimension: {}\".format(X_test.shape))\n",
    "print(\"y_test Dimension: {}\".format(y_test.shape))"
   ]
  },
  {
   "cell_type": "code",
   "execution_count": 86,
   "id": "a971cbe8",
   "metadata": {},
   "outputs": [
    {
     "data": {
      "text/plain": [
       "GaussianNB()"
      ]
     },
     "execution_count": 86,
     "metadata": {},
     "output_type": "execute_result"
    }
   ],
   "source": [
    "#Model Building and Training Data\n",
    "model_oc = GaussianNB() #classifier\n",
    "model_oc.fit(X_train, y_train)"
   ]
  },
  {
   "cell_type": "code",
   "execution_count": 87,
   "id": "84a21d23",
   "metadata": {},
   "outputs": [
    {
     "data": {
      "text/plain": [
       "0.3348375451263538"
      ]
     },
     "execution_count": 87,
     "metadata": {},
     "output_type": "execute_result"
    }
   ],
   "source": [
    "#accuracy of the training data\n",
    "model_oc.score(X_train, y_train)"
   ]
  },
  {
   "cell_type": "code",
   "execution_count": 88,
   "id": "c292827c",
   "metadata": {},
   "outputs": [
    {
     "data": {
      "text/plain": [
       "0.3935018050541516"
      ]
     },
     "execution_count": 88,
     "metadata": {},
     "output_type": "execute_result"
    }
   ],
   "source": [
    "#accuracy of the test data\n",
    "model_oc.score(X_test, y_test)"
   ]
  },
  {
   "cell_type": "code",
   "execution_count": 89,
   "id": "4a7eb1b8",
   "metadata": {},
   "outputs": [
    {
     "data": {
      "text/plain": [
       "array([0, 1, 1, 1, 1, 1, 1, 0, 1, 1, 1, 1, 0, 1, 1, 1, 1, 1, 0, 1, 1, 1,\n",
       "       0, 1, 1, 1, 1, 0, 0, 1, 0, 1, 1, 0, 1, 0, 0, 1, 1, 1, 1, 0, 0, 1,\n",
       "       0, 0, 1, 1, 1, 1, 1, 0, 1, 0, 1, 1, 1, 1, 0, 1, 1, 1, 1, 1, 1, 0,\n",
       "       1, 0, 1, 1, 1, 0, 1, 0, 1, 1, 1, 1, 0, 0, 1, 1, 1, 0, 0, 1, 0, 1,\n",
       "       1, 1, 1, 1, 0, 1, 0, 0, 0, 0, 0, 1, 0, 0, 1, 0, 1, 1, 0, 1, 0, 0,\n",
       "       0, 1, 0, 1, 0, 1, 0, 0, 1, 0, 1, 1, 0, 1, 1, 1, 0, 1, 1, 0, 0, 1,\n",
       "       1, 0, 1, 0, 0, 1, 1, 0, 0, 1, 1, 0, 0, 1, 1, 1, 1, 1, 0, 1, 1, 1,\n",
       "       1, 0, 1, 1, 1, 0, 1, 0, 1, 1, 1, 1, 0, 0, 0, 1, 1, 1, 0, 1, 0, 0,\n",
       "       1, 1, 1, 0, 1, 1, 0, 0, 1, 1, 1, 1, 1, 0, 1, 0, 0, 1, 0, 0, 0, 1,\n",
       "       1, 1, 1, 1, 1, 0, 1, 0, 1, 0, 1, 1, 1, 1, 1, 0, 1, 0, 1, 1, 1, 0,\n",
       "       1, 1, 1, 1, 1, 0, 0, 0, 1, 1, 1, 0, 1, 1, 1, 1, 0, 0, 1, 1, 1, 1,\n",
       "       1, 1, 0, 1, 1, 1, 1, 0, 1, 1, 1, 0, 1, 1, 1, 1, 1, 1, 0, 1, 0, 0,\n",
       "       1, 1, 1, 1, 1, 1, 1, 0, 1, 1, 0, 1, 1])"
      ]
     },
     "execution_count": 89,
     "metadata": {},
     "output_type": "execute_result"
    }
   ],
   "source": [
    "#predictions\n",
    "y_pred_oc = model_oc.predict(X_test)\n",
    "y_pred_oc"
   ]
  },
  {
   "cell_type": "code",
   "execution_count": 90,
   "id": "c3af57ef",
   "metadata": {},
   "outputs": [
    {
     "name": "stdout",
     "output_type": "stream",
     "text": [
      "Model Accuracy:  0.3935018050541516\n",
      "Model F1 score:  0.28066533177473024\n"
     ]
    }
   ],
   "source": [
    "model_oc_acc_score = accuracy_score(y_pred_oc, y_test) #Model Accuracy\n",
    "f1_score_oc = f1_score(y_pred_oc, y_test, average=\"weighted\") #precision + recall\n",
    "\n",
    "print(\"Model Accuracy: \", model_oc_acc_score)\n",
    "print(\"Model F1 score: \", f1_score_oc)"
   ]
  },
  {
   "cell_type": "code",
   "execution_count": 91,
   "id": "898d7c7b",
   "metadata": {},
   "outputs": [
    {
     "data": {
      "image/png": "[encoded data removed]",
      "text/plain": [
       "<Figure size 640x480 with 2 Axes>"
      ]
     },
     "metadata": {},
     "output_type": "display_data"
    }
   ],
   "source": [
    "#confusion matrix\n",
    "labels = [\"Opportunity_class_Y\", \"Opportunity_class_N\"]\n",
    "cm_oc = confusion_matrix(y_test, y_pred_oc)\n",
    "display = ConfusionMatrixDisplay(confusion_matrix=cm_oc, display_labels=labels)\n",
    "display.plot();"
   ]
  },
  {
   "cell_type": "code",
   "execution_count": 92,
   "id": "4f1baf54",
   "metadata": {},
   "outputs": [
    {
     "name": "stdout",
     "output_type": "stream",
     "text": [
      "              precision    recall  f1-score   support\n",
      "\n",
      "           0       0.99      0.36      0.53       261\n",
      "           1       0.08      0.94      0.15        16\n",
      "\n",
      "    accuracy                           0.39       277\n",
      "   macro avg       0.54      0.65      0.34       277\n",
      "weighted avg       0.94      0.39      0.51       277\n",
      "\n"
     ]
    }
   ],
   "source": [
    "print(classification_report(y_test, y_pred_oc))"
   ]
  },
  {
   "cell_type": "code",
   "execution_count": 93,
   "id": "594bf800",
   "metadata": {},
   "outputs": [
    {
     "data": {
      "text/plain": [
       "array([0.29279279, 0.38738739, 0.35585586, 0.36199095, 0.36199095])"
      ]
     },
     "execution_count": 93,
     "metadata": {},
     "output_type": "execute_result"
    }
   ],
   "source": [
    "#Cross Validation Accuracy of the data set\n",
    "cross_val_score(GaussianNB(), X_train, y_train, cv=5)"
   ]
  },
  {
   "cell_type": "code",
   "execution_count": 94,
   "id": "40dfce00",
   "metadata": {},
   "outputs": [
    {
     "data": {
      "text/plain": [
       "array([[1.00000000e+00, 0.00000000e+00],\n",
       "       [2.89256772e-31, 1.00000000e+00],\n",
       "       [1.28430135e-41, 1.00000000e+00],\n",
       "       [3.28852358e-42, 1.00000000e+00],\n",
       "       [6.51116275e-41, 1.00000000e+00],\n",
       "       [1.19976728e-41, 1.00000000e+00],\n",
       "       [1.81860807e-41, 1.00000000e+00],\n",
       "       [1.00000000e+00, 0.00000000e+00],\n",
       "       [1.61199810e-41, 1.00000000e+00],\n",
       "       [4.30994011e-41, 1.00000000e+00],\n",
       "       [2.11195672e-41, 1.00000000e+00],\n",
       "       [1.19899987e-41, 1.00000000e+00],\n",
       "       [1.00000000e+00, 0.00000000e+00],\n",
       "       [3.22187821e-39, 1.00000000e+00],\n",
       "       [3.40417727e-41, 1.00000000e+00],\n",
       "       [5.57186926e-29, 1.00000000e+00],\n",
       "       [3.29271510e-41, 1.00000000e+00],\n",
       "       [1.94751315e-41, 1.00000000e+00],\n",
       "       [1.00000000e+00, 0.00000000e+00],\n",
       "       [3.82772315e-41, 1.00000000e+00],\n",
       "       [3.51433359e-30, 1.00000000e+00],\n",
       "       [5.50005485e-42, 1.00000000e+00],\n",
       "       [1.00000000e+00, 0.00000000e+00],\n",
       "       [4.02048133e-42, 1.00000000e+00],\n",
       "       [2.85946814e-41, 1.00000000e+00],\n",
       "       [4.00195506e-41, 1.00000000e+00],\n",
       "       [2.99542050e-41, 1.00000000e+00],\n",
       "       [1.00000000e+00, 0.00000000e+00],\n",
       "       [1.00000000e+00, 0.00000000e+00],\n",
       "       [8.33246064e-30, 1.00000000e+00],\n",
       "       [1.00000000e+00, 0.00000000e+00],\n",
       "       [2.68708776e-42, 1.00000000e+00],\n",
       "       [2.35246805e-41, 1.00000000e+00],\n",
       "       [1.00000000e+00, 0.00000000e+00],\n",
       "       [1.42351390e-41, 1.00000000e+00],\n",
       "       [1.00000000e+00, 0.00000000e+00],\n",
       "       [1.00000000e+00, 0.00000000e+00],\n",
       "       [1.06024258e-41, 1.00000000e+00],\n",
       "       [3.87717012e-41, 1.00000000e+00],\n",
       "       [4.53652836e-42, 1.00000000e+00],\n",
       "       [1.33283494e-41, 1.00000000e+00],\n",
       "       [1.00000000e+00, 0.00000000e+00],\n",
       "       [1.00000000e+00, 0.00000000e+00],\n",
       "       [6.15830007e-41, 1.00000000e+00],\n",
       "       [1.00000000e+00, 0.00000000e+00],\n",
       "       [1.00000000e+00, 0.00000000e+00],\n",
       "       [3.95279920e-41, 1.00000000e+00],\n",
       "       [3.01754845e-41, 1.00000000e+00],\n",
       "       [3.64355843e-41, 1.00000000e+00],\n",
       "       [8.69240743e-42, 1.00000000e+00],\n",
       "       [4.42256660e-41, 1.00000000e+00],\n",
       "       [1.00000000e+00, 0.00000000e+00],\n",
       "       [9.77790535e-07, 9.99999022e-01],\n",
       "       [1.00000000e+00, 0.00000000e+00],\n",
       "       [1.99949286e-41, 1.00000000e+00],\n",
       "       [2.67139491e-41, 1.00000000e+00],\n",
       "       [1.48937102e-41, 1.00000000e+00],\n",
       "       [6.96940482e-42, 1.00000000e+00],\n",
       "       [1.00000000e+00, 0.00000000e+00],\n",
       "       [1.53290595e-41, 1.00000000e+00],\n",
       "       [1.24544057e-41, 1.00000000e+00],\n",
       "       [1.07932505e-39, 1.00000000e+00],\n",
       "       [4.89605874e-42, 1.00000000e+00],\n",
       "       [2.01762424e-41, 1.00000000e+00],\n",
       "       [7.43892932e-20, 1.00000000e+00],\n",
       "       [1.00000000e+00, 0.00000000e+00],\n",
       "       [1.48416652e-41, 1.00000000e+00],\n",
       "       [1.00000000e+00, 0.00000000e+00],\n",
       "       [6.00396091e-42, 1.00000000e+00],\n",
       "       [9.77086326e-42, 1.00000000e+00],\n",
       "       [1.12665377e-41, 1.00000000e+00],\n",
       "       [1.00000000e+00, 0.00000000e+00],\n",
       "       [4.43187587e-42, 1.00000000e+00],\n",
       "       [1.00000000e+00, 0.00000000e+00],\n",
       "       [8.34385884e-42, 1.00000000e+00],\n",
       "       [1.16603130e-41, 1.00000000e+00],\n",
       "       [1.55110441e-41, 1.00000000e+00],\n",
       "       [5.61339047e-38, 1.00000000e+00],\n",
       "       [1.00000000e+00, 0.00000000e+00],\n",
       "       [1.00000000e+00, 0.00000000e+00],\n",
       "       [7.84471106e-42, 1.00000000e+00],\n",
       "       [2.81593242e-41, 1.00000000e+00],\n",
       "       [1.41264782e-38, 1.00000000e+00],\n",
       "       [1.00000000e+00, 0.00000000e+00],\n",
       "       [1.00000000e+00, 0.00000000e+00],\n",
       "       [4.27659222e-42, 1.00000000e+00],\n",
       "       [1.00000000e+00, 0.00000000e+00],\n",
       "       [3.26109984e-42, 1.00000000e+00],\n",
       "       [2.00507302e-41, 1.00000000e+00],\n",
       "       [3.60649101e-41, 1.00000000e+00],\n",
       "       [3.72341983e-41, 1.00000000e+00],\n",
       "       [1.47831972e-41, 1.00000000e+00],\n",
       "       [1.00000000e+00, 0.00000000e+00],\n",
       "       [1.12121748e-41, 1.00000000e+00],\n",
       "       [1.00000000e+00, 0.00000000e+00],\n",
       "       [1.00000000e+00, 0.00000000e+00],\n",
       "       [1.00000000e+00, 0.00000000e+00],\n",
       "       [1.00000000e+00, 0.00000000e+00],\n",
       "       [1.00000000e+00, 0.00000000e+00],\n",
       "       [7.40484514e-42, 1.00000000e+00],\n",
       "       [1.00000000e+00, 0.00000000e+00],\n",
       "       [1.00000000e+00, 0.00000000e+00],\n",
       "       [3.53835237e-40, 1.00000000e+00],\n",
       "       [1.00000000e+00, 0.00000000e+00],\n",
       "       [1.38001501e-41, 1.00000000e+00],\n",
       "       [2.83920820e-41, 1.00000000e+00],\n",
       "       [1.00000000e+00, 0.00000000e+00],\n",
       "       [3.28064705e-39, 1.00000000e+00],\n",
       "       [1.00000000e+00, 0.00000000e+00],\n",
       "       [1.00000000e+00, 0.00000000e+00],\n",
       "       [1.00000000e+00, 0.00000000e+00],\n",
       "       [2.04080931e-41, 1.00000000e+00],\n",
       "       [1.00000000e+00, 0.00000000e+00],\n",
       "       [5.50970583e-42, 1.00000000e+00],\n",
       "       [1.00000000e+00, 0.00000000e+00],\n",
       "       [7.00981149e-39, 1.00000000e+00],\n",
       "       [1.00000000e+00, 0.00000000e+00],\n",
       "       [1.00000000e+00, 0.00000000e+00],\n",
       "       [6.34685560e-41, 1.00000000e+00],\n",
       "       [1.00000000e+00, 0.00000000e+00],\n",
       "       [7.91082888e-42, 1.00000000e+00],\n",
       "       [8.92993951e-42, 1.00000000e+00],\n",
       "       [1.00000000e+00, 0.00000000e+00],\n",
       "       [5.48051619e-42, 1.00000000e+00],\n",
       "       [5.06615569e-42, 1.00000000e+00],\n",
       "       [3.96832014e-41, 1.00000000e+00],\n",
       "       [1.00000000e+00, 0.00000000e+00],\n",
       "       [6.86424646e-32, 1.00000000e+00],\n",
       "       [3.68294124e-41, 1.00000000e+00],\n",
       "       [1.00000000e+00, 0.00000000e+00],\n",
       "       [1.00000000e+00, 0.00000000e+00],\n",
       "       [3.32924753e-41, 1.00000000e+00],\n",
       "       [9.36892691e-42, 1.00000000e+00],\n",
       "       [1.00000000e+00, 0.00000000e+00],\n",
       "       [1.06241968e-40, 1.00000000e+00],\n",
       "       [1.00000000e+00, 0.00000000e+00],\n",
       "       [1.00000000e+00, 0.00000000e+00],\n",
       "       [3.53690544e-41, 1.00000000e+00],\n",
       "       [1.09342644e-41, 1.00000000e+00],\n",
       "       [1.00000000e+00, 0.00000000e+00],\n",
       "       [1.00000000e+00, 0.00000000e+00],\n",
       "       [7.11835654e-42, 1.00000000e+00],\n",
       "       [3.89805611e-33, 1.00000000e+00],\n",
       "       [1.00000000e+00, 0.00000000e+00],\n",
       "       [1.00000000e+00, 0.00000000e+00],\n",
       "       [8.38600893e-42, 1.00000000e+00],\n",
       "       [3.55867588e-41, 1.00000000e+00],\n",
       "       [9.91417990e-42, 1.00000000e+00],\n",
       "       [9.30202438e-39, 1.00000000e+00],\n",
       "       [5.66941587e-41, 1.00000000e+00],\n",
       "       [1.00000000e+00, 0.00000000e+00],\n",
       "       [2.98393983e-41, 1.00000000e+00],\n",
       "       [7.89515345e-42, 1.00000000e+00],\n",
       "       [9.75686388e-42, 1.00000000e+00],\n",
       "       [2.36081481e-42, 1.00000000e+00],\n",
       "       [1.00000000e+00, 0.00000000e+00],\n",
       "       [9.29915690e-42, 1.00000000e+00],\n",
       "       [1.79077834e-41, 1.00000000e+00],\n",
       "       [1.59203523e-41, 1.00000000e+00],\n",
       "       [1.00000000e+00, 0.00000000e+00],\n",
       "       [9.10968892e-42, 1.00000000e+00],\n",
       "       [1.00000000e+00, 0.00000000e+00],\n",
       "       [3.46425187e-40, 1.00000000e+00],\n",
       "       [2.41868643e-42, 1.00000000e+00],\n",
       "       [3.64516221e-33, 1.00000000e+00],\n",
       "       [7.09442437e-42, 1.00000000e+00],\n",
       "       [1.00000000e+00, 0.00000000e+00],\n",
       "       [1.00000000e+00, 0.00000000e+00],\n",
       "       [1.00000000e+00, 0.00000000e+00],\n",
       "       [2.39890963e-42, 1.00000000e+00],\n",
       "       [1.00492294e-41, 1.00000000e+00],\n",
       "       [1.35376204e-42, 1.00000000e+00],\n",
       "       [1.00000000e+00, 0.00000000e+00],\n",
       "       [1.05777866e-41, 1.00000000e+00],\n",
       "       [1.00000000e+00, 0.00000000e+00],\n",
       "       [1.00000000e+00, 0.00000000e+00],\n",
       "       [1.03364457e-41, 1.00000000e+00],\n",
       "       [3.60710587e-41, 1.00000000e+00],\n",
       "       [3.72909785e-42, 1.00000000e+00],\n",
       "       [1.00000000e+00, 0.00000000e+00],\n",
       "       [8.05027717e-41, 1.00000000e+00],\n",
       "       [1.17642239e-38, 1.00000000e+00],\n",
       "       [1.00000000e+00, 0.00000000e+00],\n",
       "       [1.00000000e+00, 0.00000000e+00],\n",
       "       [1.14682649e-41, 1.00000000e+00],\n",
       "       [9.72105209e-42, 1.00000000e+00],\n",
       "       [2.60287564e-39, 1.00000000e+00],\n",
       "       [1.34897872e-41, 1.00000000e+00],\n",
       "       [6.94873161e-41, 1.00000000e+00],\n",
       "       [1.00000000e+00, 0.00000000e+00],\n",
       "       [7.14610362e-42, 1.00000000e+00],\n",
       "       [1.00000000e+00, 0.00000000e+00],\n",
       "       [1.00000000e+00, 0.00000000e+00],\n",
       "       [2.07991261e-42, 1.00000000e+00],\n",
       "       [1.00000000e+00, 0.00000000e+00],\n",
       "       [1.00000000e+00, 0.00000000e+00],\n",
       "       [1.00000000e+00, 0.00000000e+00],\n",
       "       [1.98396178e-41, 1.00000000e+00],\n",
       "       [2.67899121e-41, 1.00000000e+00],\n",
       "       [6.78627886e-42, 1.00000000e+00],\n",
       "       [4.94233196e-39, 1.00000000e+00],\n",
       "       [1.97018818e-41, 1.00000000e+00],\n",
       "       [2.08932765e-33, 1.00000000e+00],\n",
       "       [1.00000000e+00, 0.00000000e+00],\n",
       "       [6.14196803e-40, 1.00000000e+00],\n",
       "       [1.00000000e+00, 0.00000000e+00],\n",
       "       [2.38122639e-41, 1.00000000e+00],\n",
       "       [1.00000000e+00, 0.00000000e+00],\n",
       "       [6.97080907e-41, 1.00000000e+00],\n",
       "       [1.61904444e-41, 1.00000000e+00],\n",
       "       [1.09929618e-41, 1.00000000e+00],\n",
       "       [4.27937615e-41, 1.00000000e+00],\n",
       "       [7.01324847e-41, 1.00000000e+00],\n",
       "       [1.00000000e+00, 0.00000000e+00],\n",
       "       [4.15346167e-40, 1.00000000e+00],\n",
       "       [1.00000000e+00, 0.00000000e+00],\n",
       "       [5.53743355e-42, 1.00000000e+00],\n",
       "       [3.63620010e-41, 1.00000000e+00],\n",
       "       [2.12737668e-41, 1.00000000e+00],\n",
       "       [1.00000000e+00, 0.00000000e+00],\n",
       "       [6.02120606e-41, 1.00000000e+00],\n",
       "       [9.26597358e-30, 1.00000000e+00],\n",
       "       [8.19089603e-42, 1.00000000e+00],\n",
       "       [5.99556742e-42, 1.00000000e+00],\n",
       "       [1.35831705e-41, 1.00000000e+00],\n",
       "       [1.00000000e+00, 0.00000000e+00],\n",
       "       [1.00000000e+00, 0.00000000e+00],\n",
       "       [1.00000000e+00, 0.00000000e+00],\n",
       "       [1.31099125e-41, 1.00000000e+00],\n",
       "       [1.59607501e-41, 1.00000000e+00],\n",
       "       [1.27276824e-24, 1.00000000e+00],\n",
       "       [1.00000000e+00, 0.00000000e+00],\n",
       "       [4.86869785e-39, 1.00000000e+00],\n",
       "       [4.41565620e-42, 1.00000000e+00],\n",
       "       [7.43583130e-42, 1.00000000e+00],\n",
       "       [6.62152953e-42, 1.00000000e+00],\n",
       "       [1.00000000e+00, 0.00000000e+00],\n",
       "       [1.00000000e+00, 0.00000000e+00],\n",
       "       [1.73280369e-41, 1.00000000e+00],\n",
       "       [1.91804226e-41, 1.00000000e+00],\n",
       "       [5.31464876e-39, 1.00000000e+00],\n",
       "       [1.02816000e-41, 1.00000000e+00],\n",
       "       [1.36100418e-39, 1.00000000e+00],\n",
       "       [9.38953927e-42, 1.00000000e+00],\n",
       "       [1.00000000e+00, 0.00000000e+00],\n",
       "       [4.46534955e-42, 1.00000000e+00],\n",
       "       [1.90825962e-41, 1.00000000e+00],\n",
       "       [4.17420132e-41, 1.00000000e+00],\n",
       "       [3.73024615e-42, 1.00000000e+00],\n",
       "       [1.00000000e+00, 0.00000000e+00],\n",
       "       [2.06199853e-41, 1.00000000e+00],\n",
       "       [9.50333473e-42, 1.00000000e+00],\n",
       "       [1.69454276e-41, 1.00000000e+00],\n",
       "       [1.00000000e+00, 0.00000000e+00],\n",
       "       [2.62119656e-42, 1.00000000e+00],\n",
       "       [9.76385263e-42, 1.00000000e+00],\n",
       "       [3.71458317e-41, 1.00000000e+00],\n",
       "       [6.98273932e-42, 1.00000000e+00],\n",
       "       [7.16001308e-42, 1.00000000e+00],\n",
       "       [7.83034940e-42, 1.00000000e+00],\n",
       "       [1.00000000e+00, 0.00000000e+00],\n",
       "       [5.92828003e-42, 1.00000000e+00],\n",
       "       [1.00000000e+00, 0.00000000e+00],\n",
       "       [1.00000000e+00, 0.00000000e+00],\n",
       "       [2.23717325e-41, 1.00000000e+00],\n",
       "       [1.49173717e-41, 1.00000000e+00],\n",
       "       [1.45149895e-41, 1.00000000e+00],\n",
       "       [8.54937448e-39, 1.00000000e+00],\n",
       "       [1.57015356e-41, 1.00000000e+00],\n",
       "       [1.83798161e-40, 1.00000000e+00],\n",
       "       [1.68665655e-40, 1.00000000e+00],\n",
       "       [1.00000000e+00, 0.00000000e+00],\n",
       "       [3.40556164e-41, 1.00000000e+00],\n",
       "       [1.37420806e-41, 1.00000000e+00],\n",
       "       [1.00000000e+00, 0.00000000e+00],\n",
       "       [3.48725648e-41, 1.00000000e+00],\n",
       "       [4.95335629e-42, 1.00000000e+00]])"
      ]
     },
     "execution_count": 94,
     "metadata": {},
     "output_type": "execute_result"
    }
   ],
   "source": [
    "#ROC Curves\n",
    "y_pred_prob_oc = model_oc.predict_proba(X_test)\n",
    "y_pred_prob_oc"
   ]
  },
  {
   "cell_type": "code",
   "execution_count": 95,
   "id": "f1b27d3d",
   "metadata": {},
   "outputs": [
    {
     "data": {
      "text/plain": [
       "array([0.        , 1.        , 1.        , 1.        , 1.        ,\n",
       "       1.        , 1.        , 0.        , 1.        , 1.        ,\n",
       "       1.        , 1.        , 0.        , 1.        , 1.        ,\n",
       "       1.        , 1.        , 1.        , 0.        , 1.        ,\n",
       "       1.        , 1.        , 0.        , 1.        , 1.        ,\n",
       "       1.        , 1.        , 0.        , 0.        , 1.        ,\n",
       "       0.        , 1.        , 1.        , 0.        , 1.        ,\n",
       "       0.        , 0.        , 1.        , 1.        , 1.        ,\n",
       "       1.        , 0.        , 0.        , 1.        , 0.        ,\n",
       "       0.        , 1.        , 1.        , 1.        , 1.        ,\n",
       "       1.        , 0.        , 0.99999902, 0.        , 1.        ,\n",
       "       1.        , 1.        , 1.        , 0.        , 1.        ,\n",
       "       1.        , 1.        , 1.        , 1.        , 1.        ,\n",
       "       0.        , 1.        , 0.        , 1.        , 1.        ,\n",
       "       1.        , 0.        , 1.        , 0.        , 1.        ,\n",
       "       1.        , 1.        , 1.        , 0.        , 0.        ,\n",
       "       1.        , 1.        , 1.        , 0.        , 0.        ,\n",
       "       1.        , 0.        , 1.        , 1.        , 1.        ,\n",
       "       1.        , 1.        , 0.        , 1.        , 0.        ,\n",
       "       0.        , 0.        , 0.        , 0.        , 1.        ,\n",
       "       0.        , 0.        , 1.        , 0.        , 1.        ,\n",
       "       1.        , 0.        , 1.        , 0.        , 0.        ,\n",
       "       0.        , 1.        , 0.        , 1.        , 0.        ,\n",
       "       1.        , 0.        , 0.        , 1.        , 0.        ,\n",
       "       1.        , 1.        , 0.        , 1.        , 1.        ,\n",
       "       1.        , 0.        , 1.        , 1.        , 0.        ,\n",
       "       0.        , 1.        , 1.        , 0.        , 1.        ,\n",
       "       0.        , 0.        , 1.        , 1.        , 0.        ,\n",
       "       0.        , 1.        , 1.        , 0.        , 0.        ,\n",
       "       1.        , 1.        , 1.        , 1.        , 1.        ,\n",
       "       0.        , 1.        , 1.        , 1.        , 1.        ,\n",
       "       0.        , 1.        , 1.        , 1.        , 0.        ,\n",
       "       1.        , 0.        , 1.        , 1.        , 1.        ,\n",
       "       1.        , 0.        , 0.        , 0.        , 1.        ,\n",
       "       1.        , 1.        , 0.        , 1.        , 0.        ,\n",
       "       0.        , 1.        , 1.        , 1.        , 0.        ,\n",
       "       1.        , 1.        , 0.        , 0.        , 1.        ,\n",
       "       1.        , 1.        , 1.        , 1.        , 0.        ,\n",
       "       1.        , 0.        , 0.        , 1.        , 0.        ,\n",
       "       0.        , 0.        , 1.        , 1.        , 1.        ,\n",
       "       1.        , 1.        , 1.        , 0.        , 1.        ,\n",
       "       0.        , 1.        , 0.        , 1.        , 1.        ,\n",
       "       1.        , 1.        , 1.        , 0.        , 1.        ,\n",
       "       0.        , 1.        , 1.        , 1.        , 0.        ,\n",
       "       1.        , 1.        , 1.        , 1.        , 1.        ,\n",
       "       0.        , 0.        , 0.        , 1.        , 1.        ,\n",
       "       1.        , 0.        , 1.        , 1.        , 1.        ,\n",
       "       1.        , 0.        , 0.        , 1.        , 1.        ,\n",
       "       1.        , 1.        , 1.        , 1.        , 0.        ,\n",
       "       1.        , 1.        , 1.        , 1.        , 0.        ,\n",
       "       1.        , 1.        , 1.        , 0.        , 1.        ,\n",
       "       1.        , 1.        , 1.        , 1.        , 1.        ,\n",
       "       0.        , 1.        , 0.        , 0.        , 1.        ,\n",
       "       1.        , 1.        , 1.        , 1.        , 1.        ,\n",
       "       1.        , 0.        , 1.        , 1.        , 0.        ,\n",
       "       1.        , 1.        ])"
      ]
     },
     "execution_count": 95,
     "metadata": {},
     "output_type": "execute_result"
    }
   ],
   "source": [
    "# class 'Y' as the positives\n",
    "probs_oc = y_pred_prob_oc[:,1] \n",
    "probs_oc"
   ]
  },
  {
   "cell_type": "code",
   "execution_count": 96,
   "id": "2c0b4c16",
   "metadata": {},
   "outputs": [
    {
     "data": {
      "image/png": "[encoded data removed]",
      "text/plain": [
       "<Figure size 600x600 with 1 Axes>"
      ]
     },
     "metadata": {},
     "output_type": "display_data"
    }
   ],
   "source": [
    "# use the roc_curve class to calculate the necessary values\n",
    "fper, tper, thresholds = roc_curve(y_test, probs_oc)\n",
    "# the plotting\n",
    "plt.figure(figsize=(6,6))\n",
    "plt.plot(fper, tper)\n",
    "plt.plot([0,1], [0,1], linestyle='--')\n",
    "plt.xlabel('False positive rate')\n",
    "plt.ylabel('True positive rate')\n",
    "plt.title('Receiver Operating Characteristic (ROC) Curve')\n",
    "plt.show()"
   ]
  },
  {
   "cell_type": "code",
   "execution_count": 97,
   "id": "2feb74b8",
   "metadata": {},
   "outputs": [
    {
     "data": {
      "text/plain": [
       "0.6506226053639846"
      ]
     },
     "execution_count": 97,
     "metadata": {},
     "output_type": "execute_result"
    }
   ],
   "source": [
    "# area under the curve\n",
    "roc_auc_score(y_test, probs_oc)"
   ]
  },
  {
   "cell_type": "markdown",
   "id": "9ee8bcbf",
   "metadata": {},
   "source": [
    "# Pre-processing of 'Late_opening_school'"
   ]
  },
  {
   "cell_type": "code",
   "execution_count": 98,
   "id": "b5f3e9fe",
   "metadata": {},
   "outputs": [],
   "source": [
    "data_for_preprocessing = new_data[['latest_year_enrolment_FTE', 'Indigenous_pct', 'LBOTE_pct', 'ICSEA_value', 'Level_of_schooling', 'Selective_school', 'School_specialty_type', 'School_subtype', 'Preschool_ind', 'Distance_education', 'Intensive_english_centre', 'School_gender', 'Late_opening_school', 'ASGS_remoteness', 'Latitude', 'Longitude', 'Opportunity_class']].copy()"
   ]
  },
  {
   "cell_type": "code",
   "execution_count": 99,
   "id": "3eedcc09",
   "metadata": {},
   "outputs": [
    {
     "data": {
      "text/html": [
       "<div>\n",
       "<style scoped>\n",
       "    .dataframe tbody tr th:only-of-type {\n",
       "        vertical-align: middle;\n",
       "    }\n",
       "\n",
       "    .dataframe tbody tr th {\n",
       "        vertical-align: top;\n",
       "    }\n",
       "\n",
       "    .dataframe thead th {\n",
       "        text-align: right;\n",
       "    }\n",
       "</style>\n",
       "<table border=\"1\" class=\"dataframe\">\n",
       "  <thead>\n",
       "    <tr style=\"text-align: right;\">\n",
       "      <th></th>\n",
       "      <th>latest_year_enrolment_FTE</th>\n",
       "      <th>Indigenous_pct</th>\n",
       "      <th>LBOTE_pct</th>\n",
       "      <th>ICSEA_value</th>\n",
       "      <th>Level_of_schooling</th>\n",
       "      <th>Selective_school</th>\n",
       "      <th>School_specialty_type</th>\n",
       "      <th>School_subtype</th>\n",
       "      <th>Preschool_ind</th>\n",
       "      <th>Distance_education</th>\n",
       "      <th>Intensive_english_centre</th>\n",
       "      <th>School_gender</th>\n",
       "      <th>Late_opening_school</th>\n",
       "      <th>ASGS_remoteness</th>\n",
       "      <th>Latitude</th>\n",
       "      <th>Longitude</th>\n",
       "      <th>Opportunity_class</th>\n",
       "    </tr>\n",
       "  </thead>\n",
       "  <tbody>\n",
       "    <tr>\n",
       "      <th>0</th>\n",
       "      <td>295.0</td>\n",
       "      <td>13.0</td>\n",
       "      <td>3.0</td>\n",
       "      <td>948.0</td>\n",
       "      <td>2</td>\n",
       "      <td>1</td>\n",
       "      <td>1</td>\n",
       "      <td>5</td>\n",
       "      <td>0</td>\n",
       "      <td>1</td>\n",
       "      <td>0</td>\n",
       "      <td>1</td>\n",
       "      <td>N</td>\n",
       "      <td>1</td>\n",
       "      <td>-32.933094</td>\n",
       "      <td>151.594552</td>\n",
       "      <td>0</td>\n",
       "    </tr>\n",
       "    <tr>\n",
       "      <th>1</th>\n",
       "      <td>48.0</td>\n",
       "      <td>17.0</td>\n",
       "      <td>0.0</td>\n",
       "      <td>978.0</td>\n",
       "      <td>2</td>\n",
       "      <td>1</td>\n",
       "      <td>1</td>\n",
       "      <td>5</td>\n",
       "      <td>0</td>\n",
       "      <td>1</td>\n",
       "      <td>0</td>\n",
       "      <td>1</td>\n",
       "      <td>N</td>\n",
       "      <td>2</td>\n",
       "      <td>-31.971159</td>\n",
       "      <td>151.911058</td>\n",
       "      <td>0</td>\n",
       "    </tr>\n",
       "    <tr>\n",
       "      <th>2</th>\n",
       "      <td>524.0</td>\n",
       "      <td>28.0</td>\n",
       "      <td>6.0</td>\n",
       "      <td>905.0</td>\n",
       "      <td>2</td>\n",
       "      <td>1</td>\n",
       "      <td>1</td>\n",
       "      <td>5</td>\n",
       "      <td>1</td>\n",
       "      <td>1</td>\n",
       "      <td>0</td>\n",
       "      <td>1</td>\n",
       "      <td>N</td>\n",
       "      <td>0</td>\n",
       "      <td>-35.700051</td>\n",
       "      <td>150.188373</td>\n",
       "      <td>0</td>\n",
       "    </tr>\n",
       "    <tr>\n",
       "      <th>3</th>\n",
       "      <td>477.0</td>\n",
       "      <td>12.0</td>\n",
       "      <td>14.0</td>\n",
       "      <td>999.0</td>\n",
       "      <td>2</td>\n",
       "      <td>1</td>\n",
       "      <td>1</td>\n",
       "      <td>5</td>\n",
       "      <td>0</td>\n",
       "      <td>1</td>\n",
       "      <td>0</td>\n",
       "      <td>1</td>\n",
       "      <td>N</td>\n",
       "      <td>0</td>\n",
       "      <td>-33.420942</td>\n",
       "      <td>149.570615</td>\n",
       "      <td>0</td>\n",
       "    </tr>\n",
       "    <tr>\n",
       "      <th>4</th>\n",
       "      <td>162.0</td>\n",
       "      <td>4.0</td>\n",
       "      <td>29.0</td>\n",
       "      <td>1001.0</td>\n",
       "      <td>2</td>\n",
       "      <td>1</td>\n",
       "      <td>1</td>\n",
       "      <td>5</td>\n",
       "      <td>0</td>\n",
       "      <td>1</td>\n",
       "      <td>0</td>\n",
       "      <td>1</td>\n",
       "      <td>N</td>\n",
       "      <td>2</td>\n",
       "      <td>-34.252836</td>\n",
       "      <td>146.101067</td>\n",
       "      <td>0</td>\n",
       "    </tr>\n",
       "  </tbody>\n",
       "</table>\n",
       "</div>"
      ],
      "text/plain": [
       "   latest_year_enrolment_FTE Indigenous_pct LBOTE_pct  ICSEA_value  \\\n",
       "0                      295.0           13.0       3.0        948.0   \n",
       "1                       48.0           17.0       0.0        978.0   \n",
       "2                      524.0           28.0       6.0        905.0   \n",
       "3                      477.0           12.0      14.0        999.0   \n",
       "4                      162.0            4.0      29.0       1001.0   \n",
       "\n",
       "   Level_of_schooling  Selective_school  School_specialty_type  \\\n",
       "0                   2                 1                      1   \n",
       "1                   2                 1                      1   \n",
       "2                   2                 1                      1   \n",
       "3                   2                 1                      1   \n",
       "4                   2                 1                      1   \n",
       "\n",
       "   School_subtype  Preschool_ind  Distance_education  \\\n",
       "0               5              0                   1   \n",
       "1               5              0                   1   \n",
       "2               5              1                   1   \n",
       "3               5              0                   1   \n",
       "4               5              0                   1   \n",
       "\n",
       "   Intensive_english_centre  School_gender Late_opening_school  \\\n",
       "0                         0              1                   N   \n",
       "1                         0              1                   N   \n",
       "2                         0              1                   N   \n",
       "3                         0              1                   N   \n",
       "4                         0              1                   N   \n",
       "\n",
       "   ASGS_remoteness   Latitude   Longitude  Opportunity_class  \n",
       "0                1 -32.933094  151.594552                  0  \n",
       "1                2 -31.971159  151.911058                  0  \n",
       "2                0 -35.700051  150.188373                  0  \n",
       "3                0 -33.420942  149.570615                  0  \n",
       "4                2 -34.252836  146.101067                  0  "
      ]
     },
     "execution_count": 99,
     "metadata": {},
     "output_type": "execute_result"
    }
   ],
   "source": [
    "data_for_preprocessing.reset_index(drop=True, inplace=True)\n",
    "data_for_preprocessing.head()"
   ]
  },
  {
   "cell_type": "code",
   "execution_count": 100,
   "id": "95f0e39a",
   "metadata": {},
   "outputs": [],
   "source": [
    "data_drop_for_dummies = data_for_preprocessing.drop(['Level_of_schooling', 'Selective_school', 'School_specialty_type', 'School_subtype', 'Preschool_ind', 'Distance_education', 'Intensive_english_centre', 'School_gender', 'Late_opening_school', 'ASGS_remoteness', 'Opportunity_class'], axis=1)"
   ]
  },
  {
   "cell_type": "code",
   "execution_count": 101,
   "id": "47ea9a8a",
   "metadata": {},
   "outputs": [],
   "source": [
    "categorical_columns = ['Level_of_schooling', 'Selective_school', 'School_specialty_type', 'School_subtype', 'Preschool_ind', 'Distance_education', 'Intensive_english_centre', 'School_gender', 'Opportunity_class', 'ASGS_remoteness']\n",
    "dummies = pd.get_dummies(data_for_preprocessing, columns=categorical_columns)"
   ]
  },
  {
   "cell_type": "code",
   "execution_count": 102,
   "id": "848cf167",
   "metadata": {},
   "outputs": [],
   "source": [
    "dummies = dummies.drop(['latest_year_enrolment_FTE', 'Indigenous_pct', 'LBOTE_pct', 'ICSEA_value', 'Latitude', 'Longitude', 'Late_opening_school'], axis=1)"
   ]
  },
  {
   "cell_type": "code",
   "execution_count": 103,
   "id": "ec77d9cd",
   "metadata": {},
   "outputs": [],
   "source": [
    "X = pd.concat([data_drop_for_dummies, dummies], axis=1)\n",
    "y = data_for_preprocessing['Late_opening_school']"
   ]
  },
  {
   "cell_type": "code",
   "execution_count": 104,
   "id": "2c489659",
   "metadata": {},
   "outputs": [],
   "source": [
    "y = y.replace({'Y': 1, 'N': 0})"
   ]
  },
  {
   "cell_type": "code",
   "execution_count": 105,
   "id": "33c90799",
   "metadata": {},
   "outputs": [],
   "source": [
    "X['Indigenous_pct'] = X['Indigenous_pct'].astype(float)\n",
    "X['LBOTE_pct'] = X['LBOTE_pct'].astype(float)"
   ]
  },
  {
   "cell_type": "markdown",
   "id": "0494b47b",
   "metadata": {},
   "source": [
    "# Naive Bayes: Late_opening_school"
   ]
  },
  {
   "cell_type": "code",
   "execution_count": 106,
   "id": "0be68212",
   "metadata": {},
   "outputs": [
    {
     "name": "stdout",
     "output_type": "stream",
     "text": [
      "X_train Dimension: (1108, 55)\n",
      "y_train Dimension: (1108,)\n",
      "X_test Dimension: (277, 55)\n",
      "y_test Dimension: (277,)\n"
     ]
    }
   ],
   "source": [
    "#data splitting: 80% training and 20% testing\n",
    "X_train, X_test, y_train, y_test = train_test_split(X, y, test_size=0.2, random_state=42)\n",
    "\n",
    "print(\"X_train Dimension: {}\".format(X_train.shape))\n",
    "print(\"y_train Dimension: {}\".format(y_train.shape))\n",
    "print(\"X_test Dimension: {}\".format(X_test.shape))\n",
    "print(\"y_test Dimension: {}\".format(y_test.shape))"
   ]
  },
  {
   "cell_type": "code",
   "execution_count": 107,
   "id": "9e404aae",
   "metadata": {},
   "outputs": [
    {
     "data": {
      "text/plain": [
       "GaussianNB()"
      ]
     },
     "execution_count": 107,
     "metadata": {},
     "output_type": "execute_result"
    }
   ],
   "source": [
    "#Model Building and Training Data\n",
    "model_los = GaussianNB()\n",
    "model_los.fit(X_train, y_train)"
   ]
  },
  {
   "cell_type": "code",
   "execution_count": 108,
   "id": "0b1e3998",
   "metadata": {},
   "outputs": [
    {
     "data": {
      "text/plain": [
       "0.6732851985559567"
      ]
     },
     "execution_count": 108,
     "metadata": {},
     "output_type": "execute_result"
    }
   ],
   "source": [
    "#accuracy of the training data\n",
    "model_los.score(X_train, y_train)"
   ]
  },
  {
   "cell_type": "code",
   "execution_count": 109,
   "id": "a68ac1bf",
   "metadata": {},
   "outputs": [
    {
     "data": {
      "text/plain": [
       "0.7111913357400722"
      ]
     },
     "execution_count": 109,
     "metadata": {},
     "output_type": "execute_result"
    }
   ],
   "source": [
    "#accuracy of the test data\n",
    "model_los.score(X_test, y_test)"
   ]
  },
  {
   "cell_type": "code",
   "execution_count": 110,
   "id": "62127de8",
   "metadata": {},
   "outputs": [
    {
     "data": {
      "text/plain": [
       "array([0, 1, 0, 0, 0, 0, 0, 1, 0, 0, 0, 0, 1, 0, 0, 1, 0, 0, 0, 1, 1, 0,\n",
       "       0, 0, 1, 1, 0, 1, 1, 1, 0, 0, 0, 0, 0, 1, 1, 0, 1, 0, 1, 0, 0, 1,\n",
       "       0, 0, 0, 0, 0, 0, 0, 0, 1, 0, 0, 1, 0, 0, 0, 0, 0, 1, 0, 0, 1, 0,\n",
       "       0, 1, 0, 0, 0, 1, 0, 0, 0, 0, 0, 1, 0, 0, 0, 1, 0, 1, 0, 0, 0, 0,\n",
       "       1, 1, 1, 1, 0, 0, 0, 1, 0, 0, 0, 0, 1, 0, 1, 1, 0, 0, 0, 1, 1, 0,\n",
       "       1, 0, 1, 0, 0, 1, 1, 0, 1, 0, 0, 0, 0, 0, 0, 0, 1, 1, 0, 0, 1, 1,\n",
       "       0, 1, 1, 0, 1, 0, 0, 1, 0, 0, 1, 1, 0, 0, 0, 0, 0, 1, 1, 0, 0, 0,\n",
       "       0, 0, 0, 1, 1, 1, 0, 1, 1, 0, 1, 0, 0, 0, 0, 0, 0, 0, 0, 0, 0, 1,\n",
       "       1, 0, 0, 1, 0, 0, 0, 0, 0, 0, 0, 0, 0, 1, 0, 1, 0, 0, 1, 0, 0, 0,\n",
       "       0, 0, 1, 0, 1, 0, 1, 0, 0, 1, 1, 1, 0, 1, 1, 0, 1, 0, 0, 1, 0, 0,\n",
       "       0, 1, 0, 0, 0, 0, 0, 0, 0, 0, 1, 0, 0, 0, 0, 0, 1, 1, 0, 1, 0, 0,\n",
       "       0, 0, 1, 0, 1, 0, 0, 1, 1, 1, 0, 0, 0, 0, 1, 0, 0, 0, 1, 0, 0, 1,\n",
       "       1, 0, 0, 0, 1, 1, 1, 1, 0, 0, 1, 0, 0], dtype=int64)"
      ]
     },
     "execution_count": 110,
     "metadata": {},
     "output_type": "execute_result"
    }
   ],
   "source": [
    "#predictions\n",
    "y_pred_los = model_los.predict(X_test)\n",
    "y_pred_los"
   ]
  },
  {
   "cell_type": "code",
   "execution_count": 111,
   "id": "723b4e62",
   "metadata": {},
   "outputs": [
    {
     "name": "stdout",
     "output_type": "stream",
     "text": [
      "Model Accuracy:  0.7111913357400722\n",
      "Model F1 score:  0.6321538873869256\n"
     ]
    }
   ],
   "source": [
    "model_los_acc_score = accuracy_score(y_pred_los, y_test) #Model Accuracy\n",
    "f1_score_los = f1_score(y_pred_los, y_test, average=\"weighted\") #precision + recall\n",
    "\n",
    "print(\"Model Accuracy: \", model_los_acc_score)\n",
    "print(\"Model F1 score: \", f1_score_los)"
   ]
  },
  {
   "cell_type": "code",
   "execution_count": 112,
   "id": "d1f1c953",
   "metadata": {},
   "outputs": [
    {
     "data": {
      "image/png": "[encoded data removed]",
      "text/plain": [
       "<Figure size 640x480 with 2 Axes>"
      ]
     },
     "metadata": {},
     "output_type": "display_data"
    }
   ],
   "source": [
    "#confusion matrix\n",
    "labels = ['Late_opening_school_Y', \"Late_opening_school_N\"]\n",
    "cm_los = confusion_matrix(y_test, y_pred_los)\n",
    "display = ConfusionMatrixDisplay(confusion_matrix=cm_los, display_labels=labels)\n",
    "display.plot();"
   ]
  },
  {
   "cell_type": "code",
   "execution_count": 113,
   "id": "8b00c375",
   "metadata": {},
   "outputs": [
    {
     "name": "stdout",
     "output_type": "stream",
     "text": [
      "              precision    recall  f1-score   support\n",
      "\n",
      "           0       0.99      0.70      0.82       262\n",
      "           1       0.15      0.93      0.26        15\n",
      "\n",
      "    accuracy                           0.71       277\n",
      "   macro avg       0.57      0.82      0.54       277\n",
      "weighted avg       0.95      0.71      0.79       277\n",
      "\n"
     ]
    }
   ],
   "source": [
    "print(classification_report(y_test, y_pred_los))"
   ]
  },
  {
   "cell_type": "code",
   "execution_count": 114,
   "id": "d0aa75a4",
   "metadata": {},
   "outputs": [
    {
     "data": {
      "text/plain": [
       "array([0.68468468, 0.63963964, 0.66216216, 0.66515837, 0.69683258])"
      ]
     },
     "execution_count": 114,
     "metadata": {},
     "output_type": "execute_result"
    }
   ],
   "source": [
    "#Cross Validation Accuracy of the data set\n",
    "cross_val_score(GaussianNB(), X_train, y_train, cv=5)"
   ]
  },
  {
   "cell_type": "code",
   "execution_count": 115,
   "id": "4ed4a429",
   "metadata": {},
   "outputs": [
    {
     "data": {
      "text/plain": [
       "array([[1.00000000e+000, 0.00000000e+000],\n",
       "       [1.58532882e-023, 1.00000000e+000],\n",
       "       [1.00000000e+000, 0.00000000e+000],\n",
       "       [1.00000000e+000, 0.00000000e+000],\n",
       "       [1.00000000e+000, 0.00000000e+000],\n",
       "       [1.00000000e+000, 0.00000000e+000],\n",
       "       [1.00000000e+000, 0.00000000e+000],\n",
       "       [5.74754645e-055, 1.00000000e+000],\n",
       "       [1.00000000e+000, 0.00000000e+000],\n",
       "       [1.00000000e+000, 0.00000000e+000],\n",
       "       [1.00000000e+000, 0.00000000e+000],\n",
       "       [1.00000000e+000, 0.00000000e+000],\n",
       "       [3.40640605e-023, 1.00000000e+000],\n",
       "       [1.00000000e+000, 0.00000000e+000],\n",
       "       [1.00000000e+000, 0.00000000e+000],\n",
       "       [4.86969378e-025, 1.00000000e+000],\n",
       "       [1.00000000e+000, 0.00000000e+000],\n",
       "       [1.00000000e+000, 0.00000000e+000],\n",
       "       [1.00000000e+000, 0.00000000e+000],\n",
       "       [5.69774235e-017, 1.00000000e+000],\n",
       "       [1.96131574e-025, 1.00000000e+000],\n",
       "       [1.00000000e+000, 0.00000000e+000],\n",
       "       [1.00000000e+000, 0.00000000e+000],\n",
       "       [1.00000000e+000, 0.00000000e+000],\n",
       "       [7.83053010e-007, 9.99999217e-001],\n",
       "       [4.15631597e-017, 1.00000000e+000],\n",
       "       [1.00000000e+000, 0.00000000e+000],\n",
       "       [1.38756644e-272, 1.00000000e+000],\n",
       "       [3.01710486e-017, 1.00000000e+000],\n",
       "       [5.34820470e-025, 1.00000000e+000],\n",
       "       [1.00000000e+000, 0.00000000e+000],\n",
       "       [1.00000000e+000, 0.00000000e+000],\n",
       "       [1.00000000e+000, 0.00000000e+000],\n",
       "       [1.00000000e+000, 0.00000000e+000],\n",
       "       [1.00000000e+000, 0.00000000e+000],\n",
       "       [9.77390620e-025, 1.00000000e+000],\n",
       "       [1.29820721e-015, 1.00000000e+000],\n",
       "       [1.00000000e+000, 0.00000000e+000],\n",
       "       [1.78538739e-007, 9.99999821e-001],\n",
       "       [1.00000000e+000, 0.00000000e+000],\n",
       "       [1.22999754e-016, 1.00000000e+000],\n",
       "       [1.00000000e+000, 0.00000000e+000],\n",
       "       [1.00000000e+000, 0.00000000e+000],\n",
       "       [8.08421244e-017, 1.00000000e+000],\n",
       "       [1.00000000e+000, 0.00000000e+000],\n",
       "       [1.00000000e+000, 0.00000000e+000],\n",
       "       [1.00000000e+000, 0.00000000e+000],\n",
       "       [1.00000000e+000, 0.00000000e+000],\n",
       "       [1.00000000e+000, 0.00000000e+000],\n",
       "       [1.00000000e+000, 0.00000000e+000],\n",
       "       [1.00000000e+000, 0.00000000e+000],\n",
       "       [1.00000000e+000, 0.00000000e+000],\n",
       "       [1.17048438e-033, 1.00000000e+000],\n",
       "       [1.00000000e+000, 0.00000000e+000],\n",
       "       [1.00000000e+000, 0.00000000e+000],\n",
       "       [4.64751990e-016, 1.00000000e+000],\n",
       "       [1.00000000e+000, 0.00000000e+000],\n",
       "       [1.00000000e+000, 0.00000000e+000],\n",
       "       [1.00000000e+000, 0.00000000e+000],\n",
       "       [1.00000000e+000, 0.00000000e+000],\n",
       "       [1.00000000e+000, 0.00000000e+000],\n",
       "       [1.86858672e-018, 1.00000000e+000],\n",
       "       [1.00000000e+000, 0.00000000e+000],\n",
       "       [1.00000000e+000, 0.00000000e+000],\n",
       "       [6.81507550e-026, 1.00000000e+000],\n",
       "       [1.00000000e+000, 0.00000000e+000],\n",
       "       [1.00000000e+000, 0.00000000e+000],\n",
       "       [1.08455313e-014, 1.00000000e+000],\n",
       "       [1.00000000e+000, 0.00000000e+000],\n",
       "       [1.00000000e+000, 0.00000000e+000],\n",
       "       [1.00000000e+000, 0.00000000e+000],\n",
       "       [9.17632808e-023, 1.00000000e+000],\n",
       "       [1.00000000e+000, 0.00000000e+000],\n",
       "       [1.00000000e+000, 0.00000000e+000],\n",
       "       [1.00000000e+000, 0.00000000e+000],\n",
       "       [1.00000000e+000, 0.00000000e+000],\n",
       "       [1.00000000e+000, 0.00000000e+000],\n",
       "       [7.40199119e-020, 1.00000000e+000],\n",
       "       [1.00000000e+000, 0.00000000e+000],\n",
       "       [1.00000000e+000, 0.00000000e+000],\n",
       "       [1.00000000e+000, 0.00000000e+000],\n",
       "       [2.75683970e-019, 1.00000000e+000],\n",
       "       [1.00000000e+000, 0.00000000e+000],\n",
       "       [1.33564375e-054, 1.00000000e+000],\n",
       "       [1.00000000e+000, 0.00000000e+000],\n",
       "       [1.00000000e+000, 0.00000000e+000],\n",
       "       [1.00000000e+000, 0.00000000e+000],\n",
       "       [1.00000000e+000, 0.00000000e+000],\n",
       "       [1.56955250e-016, 1.00000000e+000],\n",
       "       [5.78817976e-018, 1.00000000e+000],\n",
       "       [2.74094826e-017, 1.00000000e+000],\n",
       "       [1.12231129e-017, 1.00000000e+000],\n",
       "       [1.00000000e+000, 0.00000000e+000],\n",
       "       [1.00000000e+000, 0.00000000e+000],\n",
       "       [1.00000000e+000, 0.00000000e+000],\n",
       "       [3.46084712e-023, 1.00000000e+000],\n",
       "       [1.00000000e+000, 0.00000000e+000],\n",
       "       [1.00000000e+000, 0.00000000e+000],\n",
       "       [1.00000000e+000, 0.00000000e+000],\n",
       "       [1.00000000e+000, 0.00000000e+000],\n",
       "       [6.10604698e-024, 1.00000000e+000],\n",
       "       [1.00000000e+000, 0.00000000e+000],\n",
       "       [1.03670140e-018, 1.00000000e+000],\n",
       "       [4.24095545e-065, 1.00000000e+000],\n",
       "       [1.00000000e+000, 0.00000000e+000],\n",
       "       [1.00000000e+000, 0.00000000e+000],\n",
       "       [1.00000000e+000, 0.00000000e+000],\n",
       "       [1.10460432e-018, 1.00000000e+000],\n",
       "       [2.25931750e-017, 1.00000000e+000],\n",
       "       [1.00000000e+000, 0.00000000e+000],\n",
       "       [0.00000000e+000, 1.00000000e+000],\n",
       "       [1.00000000e+000, 0.00000000e+000],\n",
       "       [0.00000000e+000, 1.00000000e+000],\n",
       "       [1.00000000e+000, 0.00000000e+000],\n",
       "       [1.00000000e+000, 0.00000000e+000],\n",
       "       [1.34957066e-009, 9.99999999e-001],\n",
       "       [1.86076782e-014, 1.00000000e+000],\n",
       "       [1.00000000e+000, 0.00000000e+000],\n",
       "       [5.81575300e-016, 1.00000000e+000],\n",
       "       [1.00000000e+000, 0.00000000e+000],\n",
       "       [1.00000000e+000, 0.00000000e+000],\n",
       "       [1.00000000e+000, 0.00000000e+000],\n",
       "       [1.00000000e+000, 0.00000000e+000],\n",
       "       [1.00000000e+000, 0.00000000e+000],\n",
       "       [1.00000000e+000, 0.00000000e+000],\n",
       "       [1.00000000e+000, 0.00000000e+000],\n",
       "       [3.65158417e-022, 1.00000000e+000],\n",
       "       [1.96915133e-023, 1.00000000e+000],\n",
       "       [1.00000000e+000, 0.00000000e+000],\n",
       "       [1.00000000e+000, 0.00000000e+000],\n",
       "       [4.54460119e-016, 1.00000000e+000],\n",
       "       [6.41964047e-017, 1.00000000e+000],\n",
       "       [1.00000000e+000, 0.00000000e+000],\n",
       "       [1.87621919e-015, 1.00000000e+000],\n",
       "       [2.37306199e-018, 1.00000000e+000],\n",
       "       [1.00000000e+000, 0.00000000e+000],\n",
       "       [2.87891836e-056, 1.00000000e+000],\n",
       "       [1.00000000e+000, 0.00000000e+000],\n",
       "       [1.00000000e+000, 0.00000000e+000],\n",
       "       [1.10898864e-014, 1.00000000e+000],\n",
       "       [1.00000000e+000, 0.00000000e+000],\n",
       "       [1.00000000e+000, 0.00000000e+000],\n",
       "       [1.95494147e-022, 1.00000000e+000],\n",
       "       [2.78342269e-276, 1.00000000e+000],\n",
       "       [1.00000000e+000, 0.00000000e+000],\n",
       "       [1.00000000e+000, 0.00000000e+000],\n",
       "       [1.00000000e+000, 0.00000000e+000],\n",
       "       [1.00000000e+000, 0.00000000e+000],\n",
       "       [1.00000000e+000, 0.00000000e+000],\n",
       "       [2.84667540e-017, 1.00000000e+000],\n",
       "       [8.28139610e-024, 1.00000000e+000],\n",
       "       [1.00000000e+000, 0.00000000e+000],\n",
       "       [1.00000000e+000, 0.00000000e+000],\n",
       "       [1.00000000e+000, 0.00000000e+000],\n",
       "       [1.00000000e+000, 0.00000000e+000],\n",
       "       [1.00000000e+000, 0.00000000e+000],\n",
       "       [1.00000000e+000, 0.00000000e+000],\n",
       "       [3.57477314e-008, 9.99999964e-001],\n",
       "       [1.36090674e-015, 1.00000000e+000],\n",
       "       [2.05967599e-014, 1.00000000e+000],\n",
       "       [1.00000000e+000, 0.00000000e+000],\n",
       "       [1.66011329e-015, 1.00000000e+000],\n",
       "       [3.36303789e-022, 1.00000000e+000],\n",
       "       [1.00000000e+000, 0.00000000e+000],\n",
       "       [2.36410405e-025, 1.00000000e+000],\n",
       "       [1.00000000e+000, 0.00000000e+000],\n",
       "       [1.00000000e+000, 0.00000000e+000],\n",
       "       [1.00000000e+000, 0.00000000e+000],\n",
       "       [1.00000000e+000, 0.00000000e+000],\n",
       "       [1.00000000e+000, 0.00000000e+000],\n",
       "       [1.00000000e+000, 0.00000000e+000],\n",
       "       [1.00000000e+000, 0.00000000e+000],\n",
       "       [1.00000000e+000, 0.00000000e+000],\n",
       "       [1.00000000e+000, 0.00000000e+000],\n",
       "       [1.00000000e+000, 0.00000000e+000],\n",
       "       [1.44094640e-014, 1.00000000e+000],\n",
       "       [3.43133045e-015, 1.00000000e+000],\n",
       "       [1.00000000e+000, 0.00000000e+000],\n",
       "       [1.00000000e+000, 0.00000000e+000],\n",
       "       [4.92154433e-018, 1.00000000e+000],\n",
       "       [1.00000000e+000, 0.00000000e+000],\n",
       "       [1.00000000e+000, 0.00000000e+000],\n",
       "       [1.00000000e+000, 0.00000000e+000],\n",
       "       [1.00000000e+000, 0.00000000e+000],\n",
       "       [1.00000000e+000, 0.00000000e+000],\n",
       "       [1.00000000e+000, 0.00000000e+000],\n",
       "       [1.00000000e+000, 0.00000000e+000],\n",
       "       [1.00000000e+000, 0.00000000e+000],\n",
       "       [1.00000000e+000, 0.00000000e+000],\n",
       "       [8.98790994e-026, 1.00000000e+000],\n",
       "       [1.00000000e+000, 0.00000000e+000],\n",
       "       [4.40515459e-050, 1.00000000e+000],\n",
       "       [1.00000000e+000, 0.00000000e+000],\n",
       "       [1.00000000e+000, 0.00000000e+000],\n",
       "       [3.49635521e-048, 1.00000000e+000],\n",
       "       [1.00000000e+000, 0.00000000e+000],\n",
       "       [1.00000000e+000, 0.00000000e+000],\n",
       "       [1.00000000e+000, 0.00000000e+000],\n",
       "       [1.00000000e+000, 0.00000000e+000],\n",
       "       [1.00000000e+000, 0.00000000e+000],\n",
       "       [7.09810802e-018, 1.00000000e+000],\n",
       "       [1.00000000e+000, 0.00000000e+000],\n",
       "       [5.91203268e-022, 1.00000000e+000],\n",
       "       [1.00000000e+000, 0.00000000e+000],\n",
       "       [2.19788872e-028, 1.00000000e+000],\n",
       "       [1.00000000e+000, 0.00000000e+000],\n",
       "       [1.00000000e+000, 0.00000000e+000],\n",
       "       [4.32370288e-017, 1.00000000e+000],\n",
       "       [8.73094099e-017, 1.00000000e+000],\n",
       "       [2.87945893e-016, 1.00000000e+000],\n",
       "       [1.00000000e+000, 0.00000000e+000],\n",
       "       [1.02244047e-016, 1.00000000e+000],\n",
       "       [1.62677125e-017, 1.00000000e+000],\n",
       "       [1.00000000e+000, 0.00000000e+000],\n",
       "       [1.85468881e-021, 1.00000000e+000],\n",
       "       [1.00000000e+000, 0.00000000e+000],\n",
       "       [1.00000000e+000, 0.00000000e+000],\n",
       "       [8.54451755e-016, 1.00000000e+000],\n",
       "       [1.00000000e+000, 0.00000000e+000],\n",
       "       [1.00000000e+000, 0.00000000e+000],\n",
       "       [1.00000000e+000, 0.00000000e+000],\n",
       "       [1.12372916e-026, 1.00000000e+000],\n",
       "       [1.00000000e+000, 0.00000000e+000],\n",
       "       [1.00000000e+000, 0.00000000e+000],\n",
       "       [1.00000000e+000, 0.00000000e+000],\n",
       "       [1.00000000e+000, 0.00000000e+000],\n",
       "       [1.00000000e+000, 0.00000000e+000],\n",
       "       [1.00000000e+000, 0.00000000e+000],\n",
       "       [1.00000000e+000, 0.00000000e+000],\n",
       "       [1.00000000e+000, 0.00000000e+000],\n",
       "       [5.71719023e-016, 1.00000000e+000],\n",
       "       [1.00000000e+000, 0.00000000e+000],\n",
       "       [1.00000000e+000, 0.00000000e+000],\n",
       "       [1.00000000e+000, 0.00000000e+000],\n",
       "       [1.00000000e+000, 0.00000000e+000],\n",
       "       [1.00000000e+000, 0.00000000e+000],\n",
       "       [0.00000000e+000, 1.00000000e+000],\n",
       "       [1.56867216e-027, 1.00000000e+000],\n",
       "       [1.00000000e+000, 0.00000000e+000],\n",
       "       [2.85849045e-015, 1.00000000e+000],\n",
       "       [1.00000000e+000, 0.00000000e+000],\n",
       "       [1.00000000e+000, 0.00000000e+000],\n",
       "       [1.00000000e+000, 0.00000000e+000],\n",
       "       [1.00000000e+000, 0.00000000e+000],\n",
       "       [3.66508963e-024, 1.00000000e+000],\n",
       "       [1.00000000e+000, 0.00000000e+000],\n",
       "       [3.68806445e-016, 1.00000000e+000],\n",
       "       [1.00000000e+000, 0.00000000e+000],\n",
       "       [1.00000000e+000, 0.00000000e+000],\n",
       "       [0.00000000e+000, 1.00000000e+000],\n",
       "       [8.38469071e-015, 1.00000000e+000],\n",
       "       [2.54585091e-015, 1.00000000e+000],\n",
       "       [1.00000000e+000, 0.00000000e+000],\n",
       "       [1.00000000e+000, 0.00000000e+000],\n",
       "       [1.00000000e+000, 0.00000000e+000],\n",
       "       [1.00000000e+000, 0.00000000e+000],\n",
       "       [4.00149975e-017, 1.00000000e+000],\n",
       "       [1.00000000e+000, 0.00000000e+000],\n",
       "       [1.00000000e+000, 0.00000000e+000],\n",
       "       [1.00000000e+000, 0.00000000e+000],\n",
       "       [9.98415540e-026, 1.00000000e+000],\n",
       "       [1.00000000e+000, 0.00000000e+000],\n",
       "       [1.00000000e+000, 0.00000000e+000],\n",
       "       [6.43906496e-241, 1.00000000e+000],\n",
       "       [3.71335081e-016, 1.00000000e+000],\n",
       "       [1.00000000e+000, 0.00000000e+000],\n",
       "       [1.00000000e+000, 0.00000000e+000],\n",
       "       [1.00000000e+000, 0.00000000e+000],\n",
       "       [3.58760548e-016, 1.00000000e+000],\n",
       "       [1.43733356e-017, 1.00000000e+000],\n",
       "       [1.77767762e-017, 1.00000000e+000],\n",
       "       [7.70074470e-016, 1.00000000e+000],\n",
       "       [1.00000000e+000, 0.00000000e+000],\n",
       "       [1.00000000e+000, 0.00000000e+000],\n",
       "       [1.66736216e-057, 1.00000000e+000],\n",
       "       [1.00000000e+000, 0.00000000e+000],\n",
       "       [1.00000000e+000, 0.00000000e+000]])"
      ]
     },
     "execution_count": 115,
     "metadata": {},
     "output_type": "execute_result"
    }
   ],
   "source": [
    "#ROC Curves\n",
    "y_pred_prob_los = model_los.predict_proba(X_test)\n",
    "y_pred_prob_los"
   ]
  },
  {
   "cell_type": "code",
   "execution_count": 116,
   "id": "86fc8a86",
   "metadata": {},
   "outputs": [
    {
     "data": {
      "text/plain": [
       "array([0.        , 1.        , 0.        , 0.        , 0.        ,\n",
       "       0.        , 0.        , 1.        , 0.        , 0.        ,\n",
       "       0.        , 0.        , 1.        , 0.        , 0.        ,\n",
       "       1.        , 0.        , 0.        , 0.        , 1.        ,\n",
       "       1.        , 0.        , 0.        , 0.        , 0.99999922,\n",
       "       1.        , 0.        , 1.        , 1.        , 1.        ,\n",
       "       0.        , 0.        , 0.        , 0.        , 0.        ,\n",
       "       1.        , 1.        , 0.        , 0.99999982, 0.        ,\n",
       "       1.        , 0.        , 0.        , 1.        , 0.        ,\n",
       "       0.        , 0.        , 0.        , 0.        , 0.        ,\n",
       "       0.        , 0.        , 1.        , 0.        , 0.        ,\n",
       "       1.        , 0.        , 0.        , 0.        , 0.        ,\n",
       "       0.        , 1.        , 0.        , 0.        , 1.        ,\n",
       "       0.        , 0.        , 1.        , 0.        , 0.        ,\n",
       "       0.        , 1.        , 0.        , 0.        , 0.        ,\n",
       "       0.        , 0.        , 1.        , 0.        , 0.        ,\n",
       "       0.        , 1.        , 0.        , 1.        , 0.        ,\n",
       "       0.        , 0.        , 0.        , 1.        , 1.        ,\n",
       "       1.        , 1.        , 0.        , 0.        , 0.        ,\n",
       "       1.        , 0.        , 0.        , 0.        , 0.        ,\n",
       "       1.        , 0.        , 1.        , 1.        , 0.        ,\n",
       "       0.        , 0.        , 1.        , 1.        , 0.        ,\n",
       "       1.        , 0.        , 1.        , 0.        , 0.        ,\n",
       "       1.        , 1.        , 0.        , 1.        , 0.        ,\n",
       "       0.        , 0.        , 0.        , 0.        , 0.        ,\n",
       "       0.        , 1.        , 1.        , 0.        , 0.        ,\n",
       "       1.        , 1.        , 0.        , 1.        , 1.        ,\n",
       "       0.        , 1.        , 0.        , 0.        , 1.        ,\n",
       "       0.        , 0.        , 1.        , 1.        , 0.        ,\n",
       "       0.        , 0.        , 0.        , 0.        , 1.        ,\n",
       "       1.        , 0.        , 0.        , 0.        , 0.        ,\n",
       "       0.        , 0.        , 0.99999996, 1.        , 1.        ,\n",
       "       0.        , 1.        , 1.        , 0.        , 1.        ,\n",
       "       0.        , 0.        , 0.        , 0.        , 0.        ,\n",
       "       0.        , 0.        , 0.        , 0.        , 0.        ,\n",
       "       1.        , 1.        , 0.        , 0.        , 1.        ,\n",
       "       0.        , 0.        , 0.        , 0.        , 0.        ,\n",
       "       0.        , 0.        , 0.        , 0.        , 1.        ,\n",
       "       0.        , 1.        , 0.        , 0.        , 1.        ,\n",
       "       0.        , 0.        , 0.        , 0.        , 0.        ,\n",
       "       1.        , 0.        , 1.        , 0.        , 1.        ,\n",
       "       0.        , 0.        , 1.        , 1.        , 1.        ,\n",
       "       0.        , 1.        , 1.        , 0.        , 1.        ,\n",
       "       0.        , 0.        , 1.        , 0.        , 0.        ,\n",
       "       0.        , 1.        , 0.        , 0.        , 0.        ,\n",
       "       0.        , 0.        , 0.        , 0.        , 0.        ,\n",
       "       1.        , 0.        , 0.        , 0.        , 0.        ,\n",
       "       0.        , 1.        , 1.        , 0.        , 1.        ,\n",
       "       0.        , 0.        , 0.        , 0.        , 1.        ,\n",
       "       0.        , 1.        , 0.        , 0.        , 1.        ,\n",
       "       1.        , 1.        , 0.        , 0.        , 0.        ,\n",
       "       0.        , 1.        , 0.        , 0.        , 0.        ,\n",
       "       1.        , 0.        , 0.        , 1.        , 1.        ,\n",
       "       0.        , 0.        , 0.        , 1.        , 1.        ,\n",
       "       1.        , 1.        , 0.        , 0.        , 1.        ,\n",
       "       0.        , 0.        ])"
      ]
     },
     "execution_count": 116,
     "metadata": {},
     "output_type": "execute_result"
    }
   ],
   "source": [
    "# class 'Y' as the positives\n",
    "probs_los = y_pred_prob_los[:,1] \n",
    "probs_los"
   ]
  },
  {
   "cell_type": "code",
   "execution_count": 117,
   "id": "20a1562e",
   "metadata": {},
   "outputs": [
    {
     "data": {
      "image/png": "[encoded data removed]",
      "text/plain": [
       "<Figure size 600x600 with 1 Axes>"
      ]
     },
     "metadata": {},
     "output_type": "display_data"
    }
   ],
   "source": [
    "# use the roc_curve class to calculate the necessary values\n",
    "fper, tper, thresholds = roc_curve(y_test, probs_los)\n",
    "# the plotting\n",
    "plt.figure(figsize=(6,6))\n",
    "plt.plot(fper, tper)\n",
    "plt.plot([0,1], [0,1], linestyle='--')\n",
    "plt.xlabel('False positive rate')\n",
    "plt.ylabel('True positive rate')\n",
    "plt.title('Receiver Operating Characteristic (ROC) Curve')\n",
    "plt.show()"
   ]
  },
  {
   "cell_type": "markdown",
   "id": "031c5db2",
   "metadata": {},
   "source": [
    "# Preprocessing of 'Pre-school_ind'"
   ]
  },
  {
   "cell_type": "code",
   "execution_count": 118,
   "id": "4fd36076",
   "metadata": {},
   "outputs": [],
   "source": [
    "data_for_preprocessing = new_data[['latest_year_enrolment_FTE', 'Indigenous_pct', 'LBOTE_pct', 'ICSEA_value', 'Level_of_schooling', 'Selective_school', 'School_specialty_type', 'School_subtype', 'Preschool_ind', 'Distance_education', 'Intensive_english_centre', 'School_gender', 'Late_opening_school', 'ASGS_remoteness', 'Latitude', 'Longitude', 'Opportunity_class']].copy()"
   ]
  },
  {
   "cell_type": "code",
   "execution_count": 119,
   "id": "9c070133",
   "metadata": {},
   "outputs": [
    {
     "data": {
      "text/html": [
       "<div>\n",
       "<style scoped>\n",
       "    .dataframe tbody tr th:only-of-type {\n",
       "        vertical-align: middle;\n",
       "    }\n",
       "\n",
       "    .dataframe tbody tr th {\n",
       "        vertical-align: top;\n",
       "    }\n",
       "\n",
       "    .dataframe thead th {\n",
       "        text-align: right;\n",
       "    }\n",
       "</style>\n",
       "<table border=\"1\" class=\"dataframe\">\n",
       "  <thead>\n",
       "    <tr style=\"text-align: right;\">\n",
       "      <th></th>\n",
       "      <th>latest_year_enrolment_FTE</th>\n",
       "      <th>Indigenous_pct</th>\n",
       "      <th>LBOTE_pct</th>\n",
       "      <th>ICSEA_value</th>\n",
       "      <th>Level_of_schooling</th>\n",
       "      <th>Selective_school</th>\n",
       "      <th>School_specialty_type</th>\n",
       "      <th>School_subtype</th>\n",
       "      <th>Preschool_ind</th>\n",
       "      <th>Distance_education</th>\n",
       "      <th>Intensive_english_centre</th>\n",
       "      <th>School_gender</th>\n",
       "      <th>Late_opening_school</th>\n",
       "      <th>ASGS_remoteness</th>\n",
       "      <th>Latitude</th>\n",
       "      <th>Longitude</th>\n",
       "      <th>Opportunity_class</th>\n",
       "    </tr>\n",
       "  </thead>\n",
       "  <tbody>\n",
       "    <tr>\n",
       "      <th>0</th>\n",
       "      <td>295.0</td>\n",
       "      <td>13.0</td>\n",
       "      <td>3.0</td>\n",
       "      <td>948.0</td>\n",
       "      <td>2</td>\n",
       "      <td>1</td>\n",
       "      <td>1</td>\n",
       "      <td>5</td>\n",
       "      <td>0</td>\n",
       "      <td>1</td>\n",
       "      <td>0</td>\n",
       "      <td>1</td>\n",
       "      <td>N</td>\n",
       "      <td>1</td>\n",
       "      <td>-32.933094</td>\n",
       "      <td>151.594552</td>\n",
       "      <td>0</td>\n",
       "    </tr>\n",
       "    <tr>\n",
       "      <th>1</th>\n",
       "      <td>48.0</td>\n",
       "      <td>17.0</td>\n",
       "      <td>0.0</td>\n",
       "      <td>978.0</td>\n",
       "      <td>2</td>\n",
       "      <td>1</td>\n",
       "      <td>1</td>\n",
       "      <td>5</td>\n",
       "      <td>0</td>\n",
       "      <td>1</td>\n",
       "      <td>0</td>\n",
       "      <td>1</td>\n",
       "      <td>N</td>\n",
       "      <td>2</td>\n",
       "      <td>-31.971159</td>\n",
       "      <td>151.911058</td>\n",
       "      <td>0</td>\n",
       "    </tr>\n",
       "    <tr>\n",
       "      <th>2</th>\n",
       "      <td>524.0</td>\n",
       "      <td>28.0</td>\n",
       "      <td>6.0</td>\n",
       "      <td>905.0</td>\n",
       "      <td>2</td>\n",
       "      <td>1</td>\n",
       "      <td>1</td>\n",
       "      <td>5</td>\n",
       "      <td>1</td>\n",
       "      <td>1</td>\n",
       "      <td>0</td>\n",
       "      <td>1</td>\n",
       "      <td>N</td>\n",
       "      <td>0</td>\n",
       "      <td>-35.700051</td>\n",
       "      <td>150.188373</td>\n",
       "      <td>0</td>\n",
       "    </tr>\n",
       "    <tr>\n",
       "      <th>3</th>\n",
       "      <td>477.0</td>\n",
       "      <td>12.0</td>\n",
       "      <td>14.0</td>\n",
       "      <td>999.0</td>\n",
       "      <td>2</td>\n",
       "      <td>1</td>\n",
       "      <td>1</td>\n",
       "      <td>5</td>\n",
       "      <td>0</td>\n",
       "      <td>1</td>\n",
       "      <td>0</td>\n",
       "      <td>1</td>\n",
       "      <td>N</td>\n",
       "      <td>0</td>\n",
       "      <td>-33.420942</td>\n",
       "      <td>149.570615</td>\n",
       "      <td>0</td>\n",
       "    </tr>\n",
       "    <tr>\n",
       "      <th>4</th>\n",
       "      <td>162.0</td>\n",
       "      <td>4.0</td>\n",
       "      <td>29.0</td>\n",
       "      <td>1001.0</td>\n",
       "      <td>2</td>\n",
       "      <td>1</td>\n",
       "      <td>1</td>\n",
       "      <td>5</td>\n",
       "      <td>0</td>\n",
       "      <td>1</td>\n",
       "      <td>0</td>\n",
       "      <td>1</td>\n",
       "      <td>N</td>\n",
       "      <td>2</td>\n",
       "      <td>-34.252836</td>\n",
       "      <td>146.101067</td>\n",
       "      <td>0</td>\n",
       "    </tr>\n",
       "  </tbody>\n",
       "</table>\n",
       "</div>"
      ],
      "text/plain": [
       "   latest_year_enrolment_FTE Indigenous_pct LBOTE_pct  ICSEA_value  \\\n",
       "0                      295.0           13.0       3.0        948.0   \n",
       "1                       48.0           17.0       0.0        978.0   \n",
       "2                      524.0           28.0       6.0        905.0   \n",
       "3                      477.0           12.0      14.0        999.0   \n",
       "4                      162.0            4.0      29.0       1001.0   \n",
       "\n",
       "   Level_of_schooling  Selective_school  School_specialty_type  \\\n",
       "0                   2                 1                      1   \n",
       "1                   2                 1                      1   \n",
       "2                   2                 1                      1   \n",
       "3                   2                 1                      1   \n",
       "4                   2                 1                      1   \n",
       "\n",
       "   School_subtype  Preschool_ind  Distance_education  \\\n",
       "0               5              0                   1   \n",
       "1               5              0                   1   \n",
       "2               5              1                   1   \n",
       "3               5              0                   1   \n",
       "4               5              0                   1   \n",
       "\n",
       "   Intensive_english_centre  School_gender Late_opening_school  \\\n",
       "0                         0              1                   N   \n",
       "1                         0              1                   N   \n",
       "2                         0              1                   N   \n",
       "3                         0              1                   N   \n",
       "4                         0              1                   N   \n",
       "\n",
       "   ASGS_remoteness   Latitude   Longitude  Opportunity_class  \n",
       "0                1 -32.933094  151.594552                  0  \n",
       "1                2 -31.971159  151.911058                  0  \n",
       "2                0 -35.700051  150.188373                  0  \n",
       "3                0 -33.420942  149.570615                  0  \n",
       "4                2 -34.252836  146.101067                  0  "
      ]
     },
     "execution_count": 119,
     "metadata": {},
     "output_type": "execute_result"
    }
   ],
   "source": [
    "data_for_preprocessing.reset_index(drop=True, inplace=True)\n",
    "data_for_preprocessing.head()"
   ]
  },
  {
   "cell_type": "code",
   "execution_count": 120,
   "id": "ee1e631c",
   "metadata": {},
   "outputs": [],
   "source": [
    "data_drop_for_dummies = data_for_preprocessing.drop(['Level_of_schooling', 'Selective_school', 'School_specialty_type', 'School_subtype', 'Preschool_ind', 'Distance_education', 'Intensive_english_centre', 'School_gender', 'Late_opening_school', 'ASGS_remoteness', 'Opportunity_class'], axis=1)"
   ]
  },
  {
   "cell_type": "code",
   "execution_count": 121,
   "id": "9560f4a2",
   "metadata": {},
   "outputs": [],
   "source": [
    "categorical_columns = ['Level_of_schooling', 'Selective_school', 'School_specialty_type', 'School_subtype', 'Late_opening_school' , 'Distance_education', 'Intensive_english_centre', 'School_gender', 'Opportunity_class', 'ASGS_remoteness']"
   ]
  },
  {
   "cell_type": "code",
   "execution_count": 122,
   "id": "ef7c201b",
   "metadata": {},
   "outputs": [],
   "source": [
    "dummies = pd.get_dummies(data_for_preprocessing, columns=categorical_columns)"
   ]
  },
  {
   "cell_type": "code",
   "execution_count": 123,
   "id": "873b305a",
   "metadata": {},
   "outputs": [],
   "source": [
    "dummies = dummies.drop(['latest_year_enrolment_FTE', 'Indigenous_pct', 'LBOTE_pct', 'ICSEA_value', 'Latitude', 'Longitude', 'Preschool_ind'], axis=1)"
   ]
  },
  {
   "cell_type": "code",
   "execution_count": 124,
   "id": "b347c27e",
   "metadata": {},
   "outputs": [],
   "source": [
    "X = pd.concat([data_drop_for_dummies, dummies], axis=1)\n",
    "y = data_for_preprocessing['Preschool_ind']"
   ]
  },
  {
   "cell_type": "code",
   "execution_count": 125,
   "id": "afa2a6cd",
   "metadata": {},
   "outputs": [],
   "source": [
    "y = y.replace({'Y': 1, 'N': 0})"
   ]
  },
  {
   "cell_type": "code",
   "execution_count": 126,
   "id": "1ff02c17",
   "metadata": {},
   "outputs": [],
   "source": [
    "X['Indigenous_pct'] = X['Indigenous_pct'].astype(float)\n",
    "X['LBOTE_pct'] = X['LBOTE_pct'].astype(float)"
   ]
  },
  {
   "cell_type": "markdown",
   "id": "cba8316b",
   "metadata": {},
   "source": [
    "# Naive Bayes for 'Pre-school_ind'"
   ]
  },
  {
   "cell_type": "code",
   "execution_count": 127,
   "id": "aaba7da2",
   "metadata": {},
   "outputs": [],
   "source": [
    "#data splitting: 80% training and 20% testing\n",
    "X_train, X_test, y_train, y_test = train_test_split(X, y, test_size=0.2, random_state=42)"
   ]
  },
  {
   "cell_type": "code",
   "execution_count": 128,
   "id": "60369b79",
   "metadata": {},
   "outputs": [
    {
     "data": {
      "text/plain": [
       "GaussianNB()"
      ]
     },
     "execution_count": 128,
     "metadata": {},
     "output_type": "execute_result"
    }
   ],
   "source": [
    "#Model Building and Training Data\n",
    "model_pi = GaussianNB()\n",
    "model_pi.fit(X_train, y_train)"
   ]
  },
  {
   "cell_type": "code",
   "execution_count": 129,
   "id": "ce4cda25",
   "metadata": {},
   "outputs": [
    {
     "data": {
      "text/plain": [
       "0.3267148014440433"
      ]
     },
     "execution_count": 129,
     "metadata": {},
     "output_type": "execute_result"
    }
   ],
   "source": [
    "#accuracy of the training data\n",
    "model_pi.score(X_train, y_train)"
   ]
  },
  {
   "cell_type": "code",
   "execution_count": 130,
   "id": "c5ae800c",
   "metadata": {},
   "outputs": [
    {
     "data": {
      "text/plain": [
       "0.3249097472924188"
      ]
     },
     "execution_count": 130,
     "metadata": {},
     "output_type": "execute_result"
    }
   ],
   "source": [
    "#accuracy of the test data\n",
    "model_pi.score(X_test, y_test)"
   ]
  },
  {
   "cell_type": "code",
   "execution_count": 131,
   "id": "348fe6be",
   "metadata": {},
   "outputs": [
    {
     "data": {
      "text/plain": [
       "array([0, 1, 1, 1, 1, 1, 1, 1, 1, 1, 1, 1, 0, 1, 1, 1, 1, 1, 0, 1, 1, 1,\n",
       "       0, 1, 1, 1, 1, 0, 0, 1, 0, 1, 1, 0, 1, 0, 0, 1, 1, 1, 1, 0, 1, 1,\n",
       "       0, 0, 1, 1, 1, 1, 1, 0, 1, 0, 1, 1, 1, 1, 0, 1, 1, 1, 1, 1, 1, 0,\n",
       "       1, 0, 1, 1, 1, 0, 1, 0, 1, 1, 1, 1, 0, 0, 1, 1, 1, 1, 0, 1, 0, 1,\n",
       "       1, 1, 1, 1, 0, 1, 0, 0, 0, 0, 0, 1, 0, 0, 1, 1, 1, 1, 0, 1, 0, 0,\n",
       "       1, 1, 1, 1, 0, 1, 0, 0, 1, 0, 1, 1, 0, 1, 1, 1, 0, 1, 1, 0, 0, 1,\n",
       "       1, 0, 1, 0, 1, 1, 1, 0, 0, 1, 1, 0, 0, 1, 1, 1, 1, 1, 0, 1, 1, 1,\n",
       "       1, 0, 1, 1, 1, 0, 1, 0, 1, 1, 1, 1, 0, 1, 0, 1, 1, 1, 0, 1, 0, 0,\n",
       "       1, 1, 1, 0, 1, 1, 0, 0, 1, 1, 1, 1, 1, 0, 1, 1, 0, 1, 1, 0, 0, 1,\n",
       "       1, 1, 1, 1, 1, 0, 1, 0, 1, 0, 1, 1, 1, 1, 1, 0, 1, 0, 1, 1, 1, 0,\n",
       "       1, 1, 1, 1, 1, 0, 0, 0, 1, 1, 1, 1, 1, 1, 1, 1, 1, 0, 1, 1, 1, 1,\n",
       "       1, 1, 0, 1, 1, 1, 1, 1, 1, 1, 1, 0, 1, 1, 1, 1, 1, 1, 0, 1, 0, 0,\n",
       "       1, 1, 1, 1, 1, 1, 1, 0, 1, 1, 1, 1, 1])"
      ]
     },
     "execution_count": 131,
     "metadata": {},
     "output_type": "execute_result"
    }
   ],
   "source": [
    "#predictions\n",
    "y_pred_pi = model_pi.predict(X_test)\n",
    "y_pred_pi"
   ]
  },
  {
   "cell_type": "code",
   "execution_count": 132,
   "id": "63bd2d7d",
   "metadata": {},
   "outputs": [
    {
     "name": "stdout",
     "output_type": "stream",
     "text": [
      "Model Accuracy:  0.3249097472924188\n",
      "Model F1 score:  0.2084015563945179\n"
     ]
    }
   ],
   "source": [
    "model_pi_acc_score = accuracy_score(y_pred_pi, y_test)\n",
    "f1_score_los = f1_score(y_pred_pi, y_test, average=\"weighted\")\n",
    "\n",
    "print(\"Model Accuracy: \", model_pi_acc_score)\n",
    "print(\"Model F1 score: \", f1_score_los)"
   ]
  },
  {
   "cell_type": "code",
   "execution_count": 133,
   "id": "e37c3f5c",
   "metadata": {},
   "outputs": [
    {
     "data": {
      "image/png": "[encoded data removed]",
      "text/plain": [
       "<Figure size 640x480 with 2 Axes>"
      ]
     },
     "metadata": {},
     "output_type": "display_data"
    }
   ],
   "source": [
    "#confusion matrix\n",
    "labels = ['Preschool_ind_Y', \" Preschool_ind_N\"]\n",
    "cm_pi = confusion_matrix(y_test, y_pred_pi)\n",
    "display = ConfusionMatrixDisplay(confusion_matrix=cm_pi, display_labels=labels)\n",
    "display.plot();"
   ]
  },
  {
   "cell_type": "code",
   "execution_count": 134,
   "id": "9d3cc50d",
   "metadata": {},
   "outputs": [
    {
     "name": "stdout",
     "output_type": "stream",
     "text": [
      "              precision    recall  f1-score   support\n",
      "\n",
      "           0       0.98      0.30      0.46       264\n",
      "           1       0.06      0.85      0.11        13\n",
      "\n",
      "    accuracy                           0.32       277\n",
      "   macro avg       0.52      0.57      0.28       277\n",
      "weighted avg       0.93      0.32      0.44       277\n",
      "\n"
     ]
    }
   ],
   "source": [
    "print(classification_report(y_test, y_pred_pi))"
   ]
  },
  {
   "cell_type": "code",
   "execution_count": 135,
   "id": "859d119f",
   "metadata": {},
   "outputs": [
    {
     "data": {
      "text/plain": [
       "array([0.28828829, 0.30630631, 0.33783784, 0.35294118, 0.34841629])"
      ]
     },
     "execution_count": 135,
     "metadata": {},
     "output_type": "execute_result"
    }
   ],
   "source": [
    "#Cross Validation Accuracy of the data set\n",
    "cross_val_score(GaussianNB(), X_train, y_train, cv=5)"
   ]
  },
  {
   "cell_type": "code",
   "execution_count": 136,
   "id": "0c706e84",
   "metadata": {},
   "outputs": [
    {
     "data": {
      "text/plain": [
       "array([[1.00000000e+000, 0.00000000e+000],\n",
       "       [3.19664478e-026, 1.00000000e+000],\n",
       "       [4.69183890e-030, 1.00000000e+000],\n",
       "       [1.06205007e-025, 1.00000000e+000],\n",
       "       [6.95413964e-030, 1.00000000e+000],\n",
       "       [5.79451770e-030, 1.00000000e+000],\n",
       "       [4.13650898e-030, 1.00000000e+000],\n",
       "       [6.13697342e-020, 1.00000000e+000],\n",
       "       [4.70276961e-030, 1.00000000e+000],\n",
       "       [2.57097979e-030, 1.00000000e+000],\n",
       "       [4.01590612e-030, 1.00000000e+000],\n",
       "       [6.05322596e-030, 1.00000000e+000],\n",
       "       [1.00000000e+000, 0.00000000e+000],\n",
       "       [7.55842094e-031, 1.00000000e+000],\n",
       "       [1.80255085e-030, 1.00000000e+000],\n",
       "       [3.41614688e-027, 1.00000000e+000],\n",
       "       [1.74523378e-030, 1.00000000e+000],\n",
       "       [3.38528700e-030, 1.00000000e+000],\n",
       "       [1.00000000e+000, 0.00000000e+000],\n",
       "       [5.05959864e-029, 1.00000000e+000],\n",
       "       [4.82211381e-027, 1.00000000e+000],\n",
       "       [2.10140942e-029, 1.00000000e+000],\n",
       "       [1.00000000e+000, 0.00000000e+000],\n",
       "       [2.09928228e-030, 1.00000000e+000],\n",
       "       [8.13018720e-025, 1.00000000e+000],\n",
       "       [4.07203068e-029, 1.00000000e+000],\n",
       "       [4.10313525e-030, 1.00000000e+000],\n",
       "       [1.00000000e+000, 0.00000000e+000],\n",
       "       [1.00000000e+000, 0.00000000e+000],\n",
       "       [2.36451341e-027, 1.00000000e+000],\n",
       "       [1.00000000e+000, 0.00000000e+000],\n",
       "       [3.14134640e-027, 1.00000000e+000],\n",
       "       [4.79582013e-030, 1.00000000e+000],\n",
       "       [1.00000000e+000, 0.00000000e+000],\n",
       "       [3.51359813e-030, 1.00000000e+000],\n",
       "       [1.00000000e+000, 0.00000000e+000],\n",
       "       [1.00000000e+000, 0.00000000e+000],\n",
       "       [2.83321943e-029, 1.00000000e+000],\n",
       "       [3.48402260e-025, 1.00000000e+000],\n",
       "       [4.04654383e-026, 1.00000000e+000],\n",
       "       [2.80533976e-029, 1.00000000e+000],\n",
       "       [1.00000000e+000, 0.00000000e+000],\n",
       "       [1.20922523e-203, 1.00000000e+000],\n",
       "       [1.57778601e-028, 1.00000000e+000],\n",
       "       [1.00000000e+000, 0.00000000e+000],\n",
       "       [1.00000000e+000, 0.00000000e+000],\n",
       "       [2.81719093e-030, 1.00000000e+000],\n",
       "       [4.27546408e-030, 1.00000000e+000],\n",
       "       [6.59799527e-030, 1.00000000e+000],\n",
       "       [8.02285370e-030, 1.00000000e+000],\n",
       "       [3.37549594e-015, 1.00000000e+000],\n",
       "       [1.00000000e+000, 0.00000000e+000],\n",
       "       [7.54313593e-029, 1.00000000e+000],\n",
       "       [1.00000000e+000, 0.00000000e+000],\n",
       "       [3.37606036e-030, 1.00000000e+000],\n",
       "       [8.61949355e-029, 1.00000000e+000],\n",
       "       [4.90804956e-030, 1.00000000e+000],\n",
       "       [6.41204073e-030, 1.00000000e+000],\n",
       "       [1.00000000e+000, 0.00000000e+000],\n",
       "       [1.71566374e-030, 1.00000000e+000],\n",
       "       [4.59845973e-030, 1.00000000e+000],\n",
       "       [1.69660736e-029, 1.00000000e+000],\n",
       "       [1.77916058e-030, 1.00000000e+000],\n",
       "       [3.73374768e-030, 1.00000000e+000],\n",
       "       [2.58086543e-027, 1.00000000e+000],\n",
       "       [1.00000000e+000, 0.00000000e+000],\n",
       "       [1.11122305e-030, 1.00000000e+000],\n",
       "       [1.00000000e+000, 0.00000000e+000],\n",
       "       [9.86306005e-031, 1.00000000e+000],\n",
       "       [7.79599325e-030, 1.00000000e+000],\n",
       "       [1.27379688e-030, 1.00000000e+000],\n",
       "       [1.00000000e+000, 0.00000000e+000],\n",
       "       [1.02544895e-027, 1.00000000e+000],\n",
       "       [1.00000000e+000, 0.00000000e+000],\n",
       "       [5.74743805e-030, 1.00000000e+000],\n",
       "       [5.25259553e-030, 1.00000000e+000],\n",
       "       [3.87582574e-030, 1.00000000e+000],\n",
       "       [9.03797317e-030, 1.00000000e+000],\n",
       "       [1.00000000e+000, 0.00000000e+000],\n",
       "       [1.00000000e+000, 0.00000000e+000],\n",
       "       [3.18216927e-030, 1.00000000e+000],\n",
       "       [4.70808865e-030, 1.00000000e+000],\n",
       "       [3.97227900e-031, 1.00000000e+000],\n",
       "       [1.76846443e-020, 1.00000000e+000],\n",
       "       [1.00000000e+000, 0.00000000e+000],\n",
       "       [6.72196804e-030, 1.00000000e+000],\n",
       "       [1.00000000e+000, 0.00000000e+000],\n",
       "       [7.88444008e-030, 1.00000000e+000],\n",
       "       [3.76707478e-029, 1.00000000e+000],\n",
       "       [5.59620123e-029, 1.00000000e+000],\n",
       "       [3.88825325e-029, 1.00000000e+000],\n",
       "       [1.82615862e-029, 1.00000000e+000],\n",
       "       [1.00000000e+000, 0.00000000e+000],\n",
       "       [5.36651190e-030, 1.00000000e+000],\n",
       "       [1.00000000e+000, 0.00000000e+000],\n",
       "       [1.00000000e+000, 0.00000000e+000],\n",
       "       [1.00000000e+000, 0.00000000e+000],\n",
       "       [1.00000000e+000, 0.00000000e+000],\n",
       "       [1.00000000e+000, 0.00000000e+000],\n",
       "       [5.46016320e-031, 1.00000000e+000],\n",
       "       [1.00000000e+000, 0.00000000e+000],\n",
       "       [1.00000000e+000, 0.00000000e+000],\n",
       "       [9.69475705e-030, 1.00000000e+000],\n",
       "       [2.94127336e-023, 1.00000000e+000],\n",
       "       [5.42433853e-026, 1.00000000e+000],\n",
       "       [6.91661242e-031, 1.00000000e+000],\n",
       "       [1.00000000e+000, 0.00000000e+000],\n",
       "       [4.60161788e-029, 1.00000000e+000],\n",
       "       [1.00000000e+000, 0.00000000e+000],\n",
       "       [1.00000000e+000, 0.00000000e+000],\n",
       "       [6.97387970e-032, 1.00000000e+000],\n",
       "       [4.66517799e-030, 1.00000000e+000],\n",
       "       [8.69238350e-041, 1.00000000e+000],\n",
       "       [3.49165471e-030, 1.00000000e+000],\n",
       "       [1.00000000e+000, 0.00000000e+000],\n",
       "       [1.58483430e-025, 1.00000000e+000],\n",
       "       [1.00000000e+000, 0.00000000e+000],\n",
       "       [1.00000000e+000, 0.00000000e+000],\n",
       "       [7.80373631e-029, 1.00000000e+000],\n",
       "       [1.00000000e+000, 0.00000000e+000],\n",
       "       [4.72219346e-030, 1.00000000e+000],\n",
       "       [9.10539078e-030, 1.00000000e+000],\n",
       "       [1.00000000e+000, 0.00000000e+000],\n",
       "       [7.86022855e-026, 1.00000000e+000],\n",
       "       [1.07745019e-029, 1.00000000e+000],\n",
       "       [5.54516432e-031, 1.00000000e+000],\n",
       "       [1.00000000e+000, 0.00000000e+000],\n",
       "       [2.30975566e-026, 1.00000000e+000],\n",
       "       [6.95959151e-031, 1.00000000e+000],\n",
       "       [1.00000000e+000, 0.00000000e+000],\n",
       "       [1.00000000e+000, 0.00000000e+000],\n",
       "       [3.77205718e-029, 1.00000000e+000],\n",
       "       [7.50723406e-030, 1.00000000e+000],\n",
       "       [1.00000000e+000, 0.00000000e+000],\n",
       "       [1.73777190e-028, 1.00000000e+000],\n",
       "       [1.00000000e+000, 0.00000000e+000],\n",
       "       [2.40295759e-020, 1.00000000e+000],\n",
       "       [5.43860264e-031, 1.00000000e+000],\n",
       "       [5.96546262e-030, 1.00000000e+000],\n",
       "       [1.00000000e+000, 0.00000000e+000],\n",
       "       [1.00000000e+000, 0.00000000e+000],\n",
       "       [8.26264023e-030, 1.00000000e+000],\n",
       "       [3.55661693e-026, 1.00000000e+000],\n",
       "       [1.00000000e+000, 0.00000000e+000],\n",
       "       [1.00000000e+000, 0.00000000e+000],\n",
       "       [6.18144004e-030, 1.00000000e+000],\n",
       "       [3.64187429e-031, 1.00000000e+000],\n",
       "       [1.47516490e-029, 1.00000000e+000],\n",
       "       [6.58229256e-031, 1.00000000e+000],\n",
       "       [3.92387391e-029, 1.00000000e+000],\n",
       "       [1.00000000e+000, 0.00000000e+000],\n",
       "       [4.17386686e-030, 1.00000000e+000],\n",
       "       [2.74708772e-026, 1.00000000e+000],\n",
       "       [2.23930392e-030, 1.00000000e+000],\n",
       "       [3.60407804e-030, 1.00000000e+000],\n",
       "       [1.00000000e+000, 0.00000000e+000],\n",
       "       [7.70961414e-030, 1.00000000e+000],\n",
       "       [1.51702564e-025, 1.00000000e+000],\n",
       "       [6.32172754e-029, 1.00000000e+000],\n",
       "       [1.00000000e+000, 0.00000000e+000],\n",
       "       [2.53358870e-029, 1.00000000e+000],\n",
       "       [1.00000000e+000, 0.00000000e+000],\n",
       "       [7.16209680e-031, 1.00000000e+000],\n",
       "       [9.15852867e-029, 1.00000000e+000],\n",
       "       [8.50763171e-027, 1.00000000e+000],\n",
       "       [4.40798871e-030, 1.00000000e+000],\n",
       "       [1.00000000e+000, 0.00000000e+000],\n",
       "       [1.68157079e-206, 1.00000000e+000],\n",
       "       [1.00000000e+000, 0.00000000e+000],\n",
       "       [2.80494408e-030, 1.00000000e+000],\n",
       "       [4.29560869e-030, 1.00000000e+000],\n",
       "       [1.32385428e-028, 1.00000000e+000],\n",
       "       [1.00000000e+000, 0.00000000e+000],\n",
       "       [3.31247347e-030, 1.00000000e+000],\n",
       "       [1.00000000e+000, 0.00000000e+000],\n",
       "       [1.00000000e+000, 0.00000000e+000],\n",
       "       [9.83531280e-029, 1.00000000e+000],\n",
       "       [3.20052801e-030, 1.00000000e+000],\n",
       "       [4.72433040e-030, 1.00000000e+000],\n",
       "       [1.00000000e+000, 0.00000000e+000],\n",
       "       [3.04025232e-030, 1.00000000e+000],\n",
       "       [9.83006000e-031, 1.00000000e+000],\n",
       "       [1.00000000e+000, 0.00000000e+000],\n",
       "       [1.00000000e+000, 0.00000000e+000],\n",
       "       [1.45972619e-030, 1.00000000e+000],\n",
       "       [1.85363844e-030, 1.00000000e+000],\n",
       "       [3.81254196e-030, 1.00000000e+000],\n",
       "       [1.83427036e-029, 1.00000000e+000],\n",
       "       [5.48673487e-030, 1.00000000e+000],\n",
       "       [1.00000000e+000, 0.00000000e+000],\n",
       "       [4.98227280e-025, 1.00000000e+000],\n",
       "       [1.23479780e-018, 1.00000000e+000],\n",
       "       [1.00000000e+000, 0.00000000e+000],\n",
       "       [5.51852573e-022, 1.00000000e+000],\n",
       "       [5.24767373e-022, 1.00000000e+000],\n",
       "       [1.00000000e+000, 0.00000000e+000],\n",
       "       [1.00000000e+000, 0.00000000e+000],\n",
       "       [2.79221801e-030, 1.00000000e+000],\n",
       "       [1.42551727e-030, 1.00000000e+000],\n",
       "       [5.80249165e-029, 1.00000000e+000],\n",
       "       [3.30221244e-029, 1.00000000e+000],\n",
       "       [1.75631381e-030, 1.00000000e+000],\n",
       "       [1.66525718e-026, 1.00000000e+000],\n",
       "       [1.00000000e+000, 0.00000000e+000],\n",
       "       [3.41801761e-032, 1.00000000e+000],\n",
       "       [1.00000000e+000, 0.00000000e+000],\n",
       "       [2.77793039e-030, 1.00000000e+000],\n",
       "       [1.00000000e+000, 0.00000000e+000],\n",
       "       [1.89339954e-028, 1.00000000e+000],\n",
       "       [5.94958594e-029, 1.00000000e+000],\n",
       "       [4.71780079e-030, 1.00000000e+000],\n",
       "       [3.46261634e-029, 1.00000000e+000],\n",
       "       [1.42057596e-028, 1.00000000e+000],\n",
       "       [1.00000000e+000, 0.00000000e+000],\n",
       "       [1.28107441e-030, 1.00000000e+000],\n",
       "       [1.00000000e+000, 0.00000000e+000],\n",
       "       [1.38449109e-029, 1.00000000e+000],\n",
       "       [1.04318922e-028, 1.00000000e+000],\n",
       "       [1.72569029e-030, 1.00000000e+000],\n",
       "       [1.00000000e+000, 0.00000000e+000],\n",
       "       [3.80670728e-030, 1.00000000e+000],\n",
       "       [7.19548946e-028, 1.00000000e+000],\n",
       "       [2.79765387e-030, 1.00000000e+000],\n",
       "       [6.13938265e-030, 1.00000000e+000],\n",
       "       [3.85600606e-030, 1.00000000e+000],\n",
       "       [1.00000000e+000, 0.00000000e+000],\n",
       "       [1.00000000e+000, 0.00000000e+000],\n",
       "       [1.00000000e+000, 0.00000000e+000],\n",
       "       [4.98935371e-030, 1.00000000e+000],\n",
       "       [4.39064130e-030, 1.00000000e+000],\n",
       "       [5.82345057e-024, 1.00000000e+000],\n",
       "       [2.08391475e-021, 1.00000000e+000],\n",
       "       [2.16640011e-030, 1.00000000e+000],\n",
       "       [1.27395931e-028, 1.00000000e+000],\n",
       "       [2.89722708e-030, 1.00000000e+000],\n",
       "       [1.54985512e-028, 1.00000000e+000],\n",
       "       [7.70082759e-039, 1.00000000e+000],\n",
       "       [1.00000000e+000, 0.00000000e+000],\n",
       "       [8.80783170e-031, 1.00000000e+000],\n",
       "       [9.73936624e-029, 1.00000000e+000],\n",
       "       [2.68335953e-030, 1.00000000e+000],\n",
       "       [6.94137257e-030, 1.00000000e+000],\n",
       "       [2.12347680e-026, 1.00000000e+000],\n",
       "       [4.12360352e-030, 1.00000000e+000],\n",
       "       [1.00000000e+000, 0.00000000e+000],\n",
       "       [7.51951796e-029, 1.00000000e+000],\n",
       "       [1.03299062e-028, 1.00000000e+000],\n",
       "       [4.98750843e-031, 1.00000000e+000],\n",
       "       [3.44475483e-026, 1.00000000e+000],\n",
       "       [2.43702207e-039, 1.00000000e+000],\n",
       "       [2.01150705e-028, 1.00000000e+000],\n",
       "       [8.71718589e-029, 1.00000000e+000],\n",
       "       [2.68390799e-030, 1.00000000e+000],\n",
       "       [1.00000000e+000, 0.00000000e+000],\n",
       "       [6.80274188e-021, 1.00000000e+000],\n",
       "       [3.88624959e-030, 1.00000000e+000],\n",
       "       [6.51116561e-029, 1.00000000e+000],\n",
       "       [6.46530338e-030, 1.00000000e+000],\n",
       "       [1.29880607e-029, 1.00000000e+000],\n",
       "       [1.67854993e-029, 1.00000000e+000],\n",
       "       [1.00000000e+000, 0.00000000e+000],\n",
       "       [2.52108700e-030, 1.00000000e+000],\n",
       "       [1.00000000e+000, 0.00000000e+000],\n",
       "       [1.00000000e+000, 0.00000000e+000],\n",
       "       [5.88354275e-029, 1.00000000e+000],\n",
       "       [3.85760886e-030, 1.00000000e+000],\n",
       "       [3.78254095e-030, 1.00000000e+000],\n",
       "       [6.47995314e-031, 1.00000000e+000],\n",
       "       [6.33879960e-029, 1.00000000e+000],\n",
       "       [2.55267543e-029, 1.00000000e+000],\n",
       "       [3.96605333e-029, 1.00000000e+000],\n",
       "       [1.00000000e+000, 0.00000000e+000],\n",
       "       [2.39495884e-030, 1.00000000e+000],\n",
       "       [5.27753725e-030, 1.00000000e+000],\n",
       "       [1.54247659e-021, 1.00000000e+000],\n",
       "       [1.86474072e-030, 1.00000000e+000],\n",
       "       [1.95067018e-028, 1.00000000e+000]])"
      ]
     },
     "execution_count": 136,
     "metadata": {},
     "output_type": "execute_result"
    }
   ],
   "source": [
    "#ROC Curves\n",
    "y_pred_prob_pi = model_pi.predict_proba(X_test)\n",
    "y_pred_prob_pi"
   ]
  },
  {
   "cell_type": "code",
   "execution_count": 137,
   "id": "e76e94cf",
   "metadata": {},
   "outputs": [
    {
     "data": {
      "text/plain": [
       "array([0., 1., 1., 1., 1., 1., 1., 1., 1., 1., 1., 1., 0., 1., 1., 1., 1.,\n",
       "       1., 0., 1., 1., 1., 0., 1., 1., 1., 1., 0., 0., 1., 0., 1., 1., 0.,\n",
       "       1., 0., 0., 1., 1., 1., 1., 0., 1., 1., 0., 0., 1., 1., 1., 1., 1.,\n",
       "       0., 1., 0., 1., 1., 1., 1., 0., 1., 1., 1., 1., 1., 1., 0., 1., 0.,\n",
       "       1., 1., 1., 0., 1., 0., 1., 1., 1., 1., 0., 0., 1., 1., 1., 1., 0.,\n",
       "       1., 0., 1., 1., 1., 1., 1., 0., 1., 0., 0., 0., 0., 0., 1., 0., 0.,\n",
       "       1., 1., 1., 1., 0., 1., 0., 0., 1., 1., 1., 1., 0., 1., 0., 0., 1.,\n",
       "       0., 1., 1., 0., 1., 1., 1., 0., 1., 1., 0., 0., 1., 1., 0., 1., 0.,\n",
       "       1., 1., 1., 0., 0., 1., 1., 0., 0., 1., 1., 1., 1., 1., 0., 1., 1.,\n",
       "       1., 1., 0., 1., 1., 1., 0., 1., 0., 1., 1., 1., 1., 0., 1., 0., 1.,\n",
       "       1., 1., 0., 1., 0., 0., 1., 1., 1., 0., 1., 1., 0., 0., 1., 1., 1.,\n",
       "       1., 1., 0., 1., 1., 0., 1., 1., 0., 0., 1., 1., 1., 1., 1., 1., 0.,\n",
       "       1., 0., 1., 0., 1., 1., 1., 1., 1., 0., 1., 0., 1., 1., 1., 0., 1.,\n",
       "       1., 1., 1., 1., 0., 0., 0., 1., 1., 1., 1., 1., 1., 1., 1., 1., 0.,\n",
       "       1., 1., 1., 1., 1., 1., 0., 1., 1., 1., 1., 1., 1., 1., 1., 0., 1.,\n",
       "       1., 1., 1., 1., 1., 0., 1., 0., 0., 1., 1., 1., 1., 1., 1., 1., 0.,\n",
       "       1., 1., 1., 1., 1.])"
      ]
     },
     "execution_count": 137,
     "metadata": {},
     "output_type": "execute_result"
    }
   ],
   "source": [
    "# class 'Y' as the positives\n",
    "probs_pi = y_pred_prob_pi[:,1] \n",
    "probs_pi"
   ]
  },
  {
   "cell_type": "code",
   "execution_count": 138,
   "id": "3da33f5f",
   "metadata": {},
   "outputs": [
    {
     "data": {
      "image/png": "[encoded data removed]",
      "text/plain": [
       "<Figure size 600x600 with 1 Axes>"
      ]
     },
     "metadata": {},
     "output_type": "display_data"
    }
   ],
   "source": [
    "# use the roc_curve class to calculate the necessary values\n",
    "fper, tper, thresholds = roc_curve(y_test, probs_pi)\n",
    "# the plotting\n",
    "plt.figure(figsize=(6,6))\n",
    "plt.plot(fper, tper)\n",
    "plt.plot([0,1], [0,1], linestyle='--')\n",
    "plt.xlabel('False positive rate')\n",
    "plt.ylabel('True positive rate')\n",
    "plt.title('Receiver Operating Characteristic (ROC) Curve')\n",
    "plt.show()"
   ]
  },
  {
   "cell_type": "code",
   "execution_count": 139,
   "id": "5e702f3c",
   "metadata": {},
   "outputs": [
    {
     "data": {
      "text/plain": [
       "0.5726981351981352"
      ]
     },
     "execution_count": 139,
     "metadata": {},
     "output_type": "execute_result"
    }
   ],
   "source": [
    "# area under the curve\n",
    "roc_auc_score(y_test, probs_pi)"
   ]
  },
  {
   "cell_type": "markdown",
   "id": "bcaf5bf4",
   "metadata": {},
   "source": [
    "# 'Intensive_english_centre' preprocessing "
   ]
  },
  {
   "cell_type": "code",
   "execution_count": 140,
   "id": "4542a373",
   "metadata": {},
   "outputs": [],
   "source": [
    "data_for_preprocessing = new_data[['latest_year_enrolment_FTE', 'Indigenous_pct', 'LBOTE_pct', 'ICSEA_value', 'Level_of_schooling', 'Selective_school', 'School_specialty_type', 'School_subtype', 'Preschool_ind', 'Distance_education', 'Intensive_english_centre', 'School_gender', 'Late_opening_school', 'ASGS_remoteness', 'Latitude', 'Longitude', 'Opportunity_class']].copy()"
   ]
  },
  {
   "cell_type": "code",
   "execution_count": 141,
   "id": "8a32bdfd",
   "metadata": {},
   "outputs": [
    {
     "data": {
      "text/html": [
       "<div>\n",
       "<style scoped>\n",
       "    .dataframe tbody tr th:only-of-type {\n",
       "        vertical-align: middle;\n",
       "    }\n",
       "\n",
       "    .dataframe tbody tr th {\n",
       "        vertical-align: top;\n",
       "    }\n",
       "\n",
       "    .dataframe thead th {\n",
       "        text-align: right;\n",
       "    }\n",
       "</style>\n",
       "<table border=\"1\" class=\"dataframe\">\n",
       "  <thead>\n",
       "    <tr style=\"text-align: right;\">\n",
       "      <th></th>\n",
       "      <th>latest_year_enrolment_FTE</th>\n",
       "      <th>Indigenous_pct</th>\n",
       "      <th>LBOTE_pct</th>\n",
       "      <th>ICSEA_value</th>\n",
       "      <th>Level_of_schooling</th>\n",
       "      <th>Selective_school</th>\n",
       "      <th>School_specialty_type</th>\n",
       "      <th>School_subtype</th>\n",
       "      <th>Preschool_ind</th>\n",
       "      <th>Distance_education</th>\n",
       "      <th>Intensive_english_centre</th>\n",
       "      <th>School_gender</th>\n",
       "      <th>Late_opening_school</th>\n",
       "      <th>ASGS_remoteness</th>\n",
       "      <th>Latitude</th>\n",
       "      <th>Longitude</th>\n",
       "      <th>Opportunity_class</th>\n",
       "    </tr>\n",
       "  </thead>\n",
       "  <tbody>\n",
       "    <tr>\n",
       "      <th>0</th>\n",
       "      <td>295.0</td>\n",
       "      <td>13.0</td>\n",
       "      <td>3.0</td>\n",
       "      <td>948.0</td>\n",
       "      <td>2</td>\n",
       "      <td>1</td>\n",
       "      <td>1</td>\n",
       "      <td>5</td>\n",
       "      <td>0</td>\n",
       "      <td>1</td>\n",
       "      <td>0</td>\n",
       "      <td>1</td>\n",
       "      <td>N</td>\n",
       "      <td>1</td>\n",
       "      <td>-32.933094</td>\n",
       "      <td>151.594552</td>\n",
       "      <td>0</td>\n",
       "    </tr>\n",
       "    <tr>\n",
       "      <th>1</th>\n",
       "      <td>48.0</td>\n",
       "      <td>17.0</td>\n",
       "      <td>0.0</td>\n",
       "      <td>978.0</td>\n",
       "      <td>2</td>\n",
       "      <td>1</td>\n",
       "      <td>1</td>\n",
       "      <td>5</td>\n",
       "      <td>0</td>\n",
       "      <td>1</td>\n",
       "      <td>0</td>\n",
       "      <td>1</td>\n",
       "      <td>N</td>\n",
       "      <td>2</td>\n",
       "      <td>-31.971159</td>\n",
       "      <td>151.911058</td>\n",
       "      <td>0</td>\n",
       "    </tr>\n",
       "    <tr>\n",
       "      <th>2</th>\n",
       "      <td>524.0</td>\n",
       "      <td>28.0</td>\n",
       "      <td>6.0</td>\n",
       "      <td>905.0</td>\n",
       "      <td>2</td>\n",
       "      <td>1</td>\n",
       "      <td>1</td>\n",
       "      <td>5</td>\n",
       "      <td>1</td>\n",
       "      <td>1</td>\n",
       "      <td>0</td>\n",
       "      <td>1</td>\n",
       "      <td>N</td>\n",
       "      <td>0</td>\n",
       "      <td>-35.700051</td>\n",
       "      <td>150.188373</td>\n",
       "      <td>0</td>\n",
       "    </tr>\n",
       "    <tr>\n",
       "      <th>3</th>\n",
       "      <td>477.0</td>\n",
       "      <td>12.0</td>\n",
       "      <td>14.0</td>\n",
       "      <td>999.0</td>\n",
       "      <td>2</td>\n",
       "      <td>1</td>\n",
       "      <td>1</td>\n",
       "      <td>5</td>\n",
       "      <td>0</td>\n",
       "      <td>1</td>\n",
       "      <td>0</td>\n",
       "      <td>1</td>\n",
       "      <td>N</td>\n",
       "      <td>0</td>\n",
       "      <td>-33.420942</td>\n",
       "      <td>149.570615</td>\n",
       "      <td>0</td>\n",
       "    </tr>\n",
       "    <tr>\n",
       "      <th>4</th>\n",
       "      <td>162.0</td>\n",
       "      <td>4.0</td>\n",
       "      <td>29.0</td>\n",
       "      <td>1001.0</td>\n",
       "      <td>2</td>\n",
       "      <td>1</td>\n",
       "      <td>1</td>\n",
       "      <td>5</td>\n",
       "      <td>0</td>\n",
       "      <td>1</td>\n",
       "      <td>0</td>\n",
       "      <td>1</td>\n",
       "      <td>N</td>\n",
       "      <td>2</td>\n",
       "      <td>-34.252836</td>\n",
       "      <td>146.101067</td>\n",
       "      <td>0</td>\n",
       "    </tr>\n",
       "  </tbody>\n",
       "</table>\n",
       "</div>"
      ],
      "text/plain": [
       "   latest_year_enrolment_FTE Indigenous_pct LBOTE_pct  ICSEA_value  \\\n",
       "0                      295.0           13.0       3.0        948.0   \n",
       "1                       48.0           17.0       0.0        978.0   \n",
       "2                      524.0           28.0       6.0        905.0   \n",
       "3                      477.0           12.0      14.0        999.0   \n",
       "4                      162.0            4.0      29.0       1001.0   \n",
       "\n",
       "   Level_of_schooling  Selective_school  School_specialty_type  \\\n",
       "0                   2                 1                      1   \n",
       "1                   2                 1                      1   \n",
       "2                   2                 1                      1   \n",
       "3                   2                 1                      1   \n",
       "4                   2                 1                      1   \n",
       "\n",
       "   School_subtype  Preschool_ind  Distance_education  \\\n",
       "0               5              0                   1   \n",
       "1               5              0                   1   \n",
       "2               5              1                   1   \n",
       "3               5              0                   1   \n",
       "4               5              0                   1   \n",
       "\n",
       "   Intensive_english_centre  School_gender Late_opening_school  \\\n",
       "0                         0              1                   N   \n",
       "1                         0              1                   N   \n",
       "2                         0              1                   N   \n",
       "3                         0              1                   N   \n",
       "4                         0              1                   N   \n",
       "\n",
       "   ASGS_remoteness   Latitude   Longitude  Opportunity_class  \n",
       "0                1 -32.933094  151.594552                  0  \n",
       "1                2 -31.971159  151.911058                  0  \n",
       "2                0 -35.700051  150.188373                  0  \n",
       "3                0 -33.420942  149.570615                  0  \n",
       "4                2 -34.252836  146.101067                  0  "
      ]
     },
     "execution_count": 141,
     "metadata": {},
     "output_type": "execute_result"
    }
   ],
   "source": [
    "data_for_preprocessing.reset_index(drop=True, inplace=True)\n",
    "data_for_preprocessing.head()"
   ]
  },
  {
   "cell_type": "code",
   "execution_count": 142,
   "id": "85c1e5b9",
   "metadata": {},
   "outputs": [],
   "source": [
    "#create data frame for dummies\n",
    "data_drop_for_dummies = data_for_preprocessing.drop(['Level_of_schooling', 'Selective_school', 'School_specialty_type', 'School_subtype', 'Preschool_ind', 'Distance_education', 'Intensive_english_centre', 'School_gender', 'Late_opening_school', 'ASGS_remoteness', 'Opportunity_class'], axis=1)"
   ]
  },
  {
   "cell_type": "code",
   "execution_count": 143,
   "id": "08ef1220",
   "metadata": {},
   "outputs": [],
   "source": [
    "categorical_columns = ['Level_of_schooling', 'Selective_school', 'School_specialty_type', 'School_subtype', 'Preschool_ind', 'Opportunity_class' , 'Distance_education' , 'School_gender', 'Late_opening_school', 'ASGS_remoteness']"
   ]
  },
  {
   "cell_type": "code",
   "execution_count": 144,
   "id": "3905c433",
   "metadata": {},
   "outputs": [],
   "source": [
    "dummies = pd.get_dummies(data_for_preprocessing, columns=categorical_columns)"
   ]
  },
  {
   "cell_type": "code",
   "execution_count": 145,
   "id": "eafc3cf2",
   "metadata": {},
   "outputs": [],
   "source": [
    "dummies = dummies.drop(['latest_year_enrolment_FTE', 'Indigenous_pct', 'LBOTE_pct', 'ICSEA_value', 'Latitude', 'Longitude', 'Intensive_english_centre'], axis=1)"
   ]
  },
  {
   "cell_type": "code",
   "execution_count": 146,
   "id": "fc88b737",
   "metadata": {},
   "outputs": [],
   "source": [
    "X = pd.concat([data_drop_for_dummies, dummies], axis=1)\n",
    "y = data_for_preprocessing['Intensive_english_centre']"
   ]
  },
  {
   "cell_type": "code",
   "execution_count": 147,
   "id": "83b3f3fd",
   "metadata": {},
   "outputs": [],
   "source": [
    "y = y.replace({'Y': 1, 'N': 0})"
   ]
  },
  {
   "cell_type": "code",
   "execution_count": 148,
   "id": "0629603a",
   "metadata": {},
   "outputs": [],
   "source": [
    "X['Indigenous_pct'] = X['Indigenous_pct'].astype(float)\n",
    "X['LBOTE_pct'] = X['LBOTE_pct'].astype(float)"
   ]
  },
  {
   "cell_type": "markdown",
   "id": "11a7dacb",
   "metadata": {},
   "source": [
    "# Naive Bayes for 'Intensive_english_centre' "
   ]
  },
  {
   "cell_type": "code",
   "execution_count": 149,
   "id": "a58b4280",
   "metadata": {},
   "outputs": [],
   "source": [
    "#data splitting: 80% training and 20% testing\n",
    "X_train, X_test, y_train, y_test = train_test_split(X, y, test_size=0.2, random_state=42)"
   ]
  },
  {
   "cell_type": "code",
   "execution_count": 150,
   "id": "28df9fe1",
   "metadata": {},
   "outputs": [
    {
     "data": {
      "text/plain": [
       "GaussianNB()"
      ]
     },
     "execution_count": 150,
     "metadata": {},
     "output_type": "execute_result"
    }
   ],
   "source": [
    "#Model Building and Training Data\n",
    "model_iec = GaussianNB()\n",
    "model_iec.fit(X_train, y_train)"
   ]
  },
  {
   "cell_type": "code",
   "execution_count": 151,
   "id": "04f719d6",
   "metadata": {},
   "outputs": [
    {
     "data": {
      "text/plain": [
       "0.9106498194945848"
      ]
     },
     "execution_count": 151,
     "metadata": {},
     "output_type": "execute_result"
    }
   ],
   "source": [
    "#accuracy of the training data\n",
    "model_iec.score(X_train, y_train)"
   ]
  },
  {
   "cell_type": "code",
   "execution_count": 152,
   "id": "b1bd6e42",
   "metadata": {},
   "outputs": [
    {
     "data": {
      "text/plain": [
       "0.8916967509025271"
      ]
     },
     "execution_count": 152,
     "metadata": {},
     "output_type": "execute_result"
    }
   ],
   "source": [
    "#accuracy of the test data\n",
    "model_iec.score(X_test, y_test)"
   ]
  },
  {
   "cell_type": "code",
   "execution_count": 153,
   "id": "712820e3",
   "metadata": {},
   "outputs": [
    {
     "data": {
      "text/plain": [
       "array([1, 0, 0, 0, 0, 0, 0, 0, 0, 0, 0, 0, 0, 0, 0, 0, 0, 0, 0, 0, 0, 0,\n",
       "       0, 0, 0, 0, 0, 0, 0, 0, 0, 0, 0, 1, 0, 0, 0, 0, 0, 0, 0, 1, 0, 0,\n",
       "       1, 1, 0, 0, 0, 0, 0, 1, 0, 1, 0, 0, 0, 0, 1, 0, 0, 0, 0, 0, 0, 1,\n",
       "       0, 0, 0, 0, 0, 0, 0, 0, 0, 0, 0, 0, 1, 1, 0, 0, 0, 0, 0, 0, 1, 0,\n",
       "       0, 0, 0, 0, 1, 0, 1, 0, 0, 1, 1, 0, 0, 0, 0, 0, 0, 0, 0, 0, 0, 1,\n",
       "       0, 0, 0, 0, 1, 0, 0, 0, 0, 0, 0, 0, 1, 0, 0, 0, 0, 0, 0, 1, 0, 0,\n",
       "       0, 0, 0, 0, 0, 0, 0, 0, 0, 0, 0, 0, 1, 0, 0, 0, 0, 0, 0, 0, 0, 0,\n",
       "       0, 1, 0, 0, 0, 0, 0, 0, 0, 0, 0, 0, 1, 0, 0, 0, 0, 0, 0, 0, 1, 0,\n",
       "       0, 0, 0, 0, 0, 0, 1, 1, 0, 0, 0, 0, 0, 0, 0, 0, 0, 0, 0, 0, 1, 0,\n",
       "       0, 0, 0, 0, 0, 1, 0, 1, 0, 0, 0, 0, 0, 0, 0, 0, 0, 1, 0, 0, 0, 0,\n",
       "       0, 0, 0, 0, 0, 1, 1, 0, 0, 0, 0, 0, 0, 0, 0, 0, 0, 0, 0, 0, 0, 0,\n",
       "       0, 0, 0, 0, 0, 0, 0, 0, 0, 0, 0, 0, 0, 0, 0, 0, 0, 0, 0, 0, 0, 0,\n",
       "       0, 0, 0, 0, 0, 0, 0, 0, 0, 0, 0, 0, 0])"
      ]
     },
     "execution_count": 153,
     "metadata": {},
     "output_type": "execute_result"
    }
   ],
   "source": [
    "#predictions\n",
    "y_pred_iec = model_iec.predict(X_test)\n",
    "y_pred_iec"
   ]
  },
  {
   "cell_type": "code",
   "execution_count": 154,
   "id": "7a62a790",
   "metadata": {},
   "outputs": [
    {
     "name": "stdout",
     "output_type": "stream",
     "text": [
      "Model Accuracy:  0.6570397111913358\n",
      "Model F1 score:  0.8470400378979694\n"
     ]
    }
   ],
   "source": [
    "model_iec_acc_score = accuracy_score(y_pred_los, y_test)\n",
    "f1_score_iec = f1_score(y_pred_iec, y_test, average=\"weighted\")\n",
    "\n",
    "print(\"Model Accuracy: \", model_iec_acc_score)\n",
    "print(\"Model F1 score: \", f1_score_iec)"
   ]
  },
  {
   "cell_type": "code",
   "execution_count": 155,
   "id": "5c03fe7d",
   "metadata": {},
   "outputs": [
    {
     "data": {
      "image/png": "[encoded data removed]",
      "text/plain": [
       "<Figure size 640x480 with 2 Axes>"
      ]
     },
     "metadata": {},
     "output_type": "display_data"
    }
   ],
   "source": [
    "#confusion matrix\n",
    "labels = ['Intensive_english_centre_Y', 'Intensive_english_centre_N']\n",
    "cm_iec = confusion_matrix(y_test, y_pred_iec)\n",
    "display = ConfusionMatrixDisplay(confusion_matrix=cm_iec, display_labels=labels)\n",
    "display.plot();"
   ]
  },
  {
   "cell_type": "code",
   "execution_count": 156,
   "id": "0cc20299",
   "metadata": {},
   "outputs": [
    {
     "name": "stdout",
     "output_type": "stream",
     "text": [
      "              precision    recall  f1-score   support\n",
      "\n",
      "           0       1.00      0.89      0.94       275\n",
      "           1       0.06      1.00      0.12         2\n",
      "\n",
      "    accuracy                           0.89       277\n",
      "   macro avg       0.53      0.95      0.53       277\n",
      "weighted avg       0.99      0.89      0.94       277\n",
      "\n"
     ]
    }
   ],
   "source": [
    "print(classification_report(y_test, y_pred_iec))"
   ]
  },
  {
   "cell_type": "code",
   "execution_count": 157,
   "id": "b6ce25bb",
   "metadata": {},
   "outputs": [
    {
     "data": {
      "text/plain": [
       "array([0.91441441, 0.91891892, 0.9009009 , 0.93665158, 0.90045249])"
      ]
     },
     "execution_count": 157,
     "metadata": {},
     "output_type": "execute_result"
    }
   ],
   "source": [
    "#Cross Validation Accuracy of the data set\n",
    "cross_val_score(GaussianNB(), X_train, y_train, cv=5)"
   ]
  },
  {
   "cell_type": "code",
   "execution_count": 158,
   "id": "524adad4",
   "metadata": {},
   "outputs": [
    {
     "data": {
      "text/plain": [
       "array([[9.03217244e-045, 1.00000000e+000],\n",
       "       [1.00000000e+000, 0.00000000e+000],\n",
       "       [1.00000000e+000, 0.00000000e+000],\n",
       "       [1.00000000e+000, 0.00000000e+000],\n",
       "       [1.00000000e+000, 0.00000000e+000],\n",
       "       [1.00000000e+000, 0.00000000e+000],\n",
       "       [1.00000000e+000, 0.00000000e+000],\n",
       "       [1.00000000e+000, 0.00000000e+000],\n",
       "       [1.00000000e+000, 0.00000000e+000],\n",
       "       [1.00000000e+000, 0.00000000e+000],\n",
       "       [1.00000000e+000, 0.00000000e+000],\n",
       "       [1.00000000e+000, 0.00000000e+000],\n",
       "       [1.00000000e+000, 0.00000000e+000],\n",
       "       [1.00000000e+000, 0.00000000e+000],\n",
       "       [1.00000000e+000, 0.00000000e+000],\n",
       "       [1.00000000e+000, 0.00000000e+000],\n",
       "       [1.00000000e+000, 0.00000000e+000],\n",
       "       [1.00000000e+000, 0.00000000e+000],\n",
       "       [1.00000000e+000, 0.00000000e+000],\n",
       "       [1.00000000e+000, 0.00000000e+000],\n",
       "       [1.00000000e+000, 0.00000000e+000],\n",
       "       [1.00000000e+000, 0.00000000e+000],\n",
       "       [1.00000000e+000, 0.00000000e+000],\n",
       "       [1.00000000e+000, 0.00000000e+000],\n",
       "       [1.00000000e+000, 0.00000000e+000],\n",
       "       [1.00000000e+000, 0.00000000e+000],\n",
       "       [1.00000000e+000, 0.00000000e+000],\n",
       "       [1.00000000e+000, 0.00000000e+000],\n",
       "       [1.00000000e+000, 0.00000000e+000],\n",
       "       [1.00000000e+000, 0.00000000e+000],\n",
       "       [1.00000000e+000, 0.00000000e+000],\n",
       "       [1.00000000e+000, 0.00000000e+000],\n",
       "       [1.00000000e+000, 0.00000000e+000],\n",
       "       [2.15109151e-045, 1.00000000e+000],\n",
       "       [1.00000000e+000, 0.00000000e+000],\n",
       "       [1.00000000e+000, 0.00000000e+000],\n",
       "       [1.00000000e+000, 0.00000000e+000],\n",
       "       [1.00000000e+000, 0.00000000e+000],\n",
       "       [1.00000000e+000, 0.00000000e+000],\n",
       "       [1.00000000e+000, 0.00000000e+000],\n",
       "       [1.00000000e+000, 0.00000000e+000],\n",
       "       [1.18272343e-043, 1.00000000e+000],\n",
       "       [1.00000000e+000, 0.00000000e+000],\n",
       "       [1.00000000e+000, 0.00000000e+000],\n",
       "       [2.10732823e-040, 1.00000000e+000],\n",
       "       [9.58004936e-025, 1.00000000e+000],\n",
       "       [1.00000000e+000, 0.00000000e+000],\n",
       "       [1.00000000e+000, 0.00000000e+000],\n",
       "       [1.00000000e+000, 0.00000000e+000],\n",
       "       [1.00000000e+000, 0.00000000e+000],\n",
       "       [1.00000000e+000, 0.00000000e+000],\n",
       "       [1.66484806e-045, 1.00000000e+000],\n",
       "       [1.00000000e+000, 0.00000000e+000],\n",
       "       [8.20395806e-034, 1.00000000e+000],\n",
       "       [1.00000000e+000, 0.00000000e+000],\n",
       "       [1.00000000e+000, 0.00000000e+000],\n",
       "       [1.00000000e+000, 0.00000000e+000],\n",
       "       [1.00000000e+000, 0.00000000e+000],\n",
       "       [1.42225279e-026, 1.00000000e+000],\n",
       "       [1.00000000e+000, 0.00000000e+000],\n",
       "       [1.00000000e+000, 0.00000000e+000],\n",
       "       [1.00000000e+000, 0.00000000e+000],\n",
       "       [1.00000000e+000, 0.00000000e+000],\n",
       "       [1.00000000e+000, 0.00000000e+000],\n",
       "       [1.00000000e+000, 0.00000000e+000],\n",
       "       [6.57966420e-026, 1.00000000e+000],\n",
       "       [1.00000000e+000, 0.00000000e+000],\n",
       "       [1.00000000e+000, 0.00000000e+000],\n",
       "       [1.00000000e+000, 0.00000000e+000],\n",
       "       [1.00000000e+000, 0.00000000e+000],\n",
       "       [1.00000000e+000, 0.00000000e+000],\n",
       "       [1.00000000e+000, 0.00000000e+000],\n",
       "       [1.00000000e+000, 0.00000000e+000],\n",
       "       [1.00000000e+000, 0.00000000e+000],\n",
       "       [1.00000000e+000, 0.00000000e+000],\n",
       "       [1.00000000e+000, 0.00000000e+000],\n",
       "       [1.00000000e+000, 0.00000000e+000],\n",
       "       [1.00000000e+000, 0.00000000e+000],\n",
       "       [5.82615273e-044, 1.00000000e+000],\n",
       "       [3.67492599e-045, 1.00000000e+000],\n",
       "       [1.00000000e+000, 0.00000000e+000],\n",
       "       [1.00000000e+000, 0.00000000e+000],\n",
       "       [1.00000000e+000, 0.00000000e+000],\n",
       "       [1.00000000e+000, 0.00000000e+000],\n",
       "       [1.00000000e+000, 0.00000000e+000],\n",
       "       [1.00000000e+000, 0.00000000e+000],\n",
       "       [1.71552951e-041, 1.00000000e+000],\n",
       "       [1.00000000e+000, 0.00000000e+000],\n",
       "       [1.00000000e+000, 0.00000000e+000],\n",
       "       [1.00000000e+000, 0.00000000e+000],\n",
       "       [1.00000000e+000, 0.00000000e+000],\n",
       "       [1.00000000e+000, 0.00000000e+000],\n",
       "       [3.78529904e-046, 1.00000000e+000],\n",
       "       [1.00000000e+000, 0.00000000e+000],\n",
       "       [2.65076252e-073, 1.00000000e+000],\n",
       "       [1.00000000e+000, 0.00000000e+000],\n",
       "       [1.00000000e+000, 0.00000000e+000],\n",
       "       [1.25437339e-046, 1.00000000e+000],\n",
       "       [1.61104192e-042, 1.00000000e+000],\n",
       "       [1.00000000e+000, 0.00000000e+000],\n",
       "       [1.00000000e+000, 0.00000000e+000],\n",
       "       [1.00000000e+000, 0.00000000e+000],\n",
       "       [1.00000000e+000, 0.00000000e+000],\n",
       "       [1.00000000e+000, 0.00000000e+000],\n",
       "       [1.00000000e+000, 0.00000000e+000],\n",
       "       [1.00000000e+000, 0.00000000e+000],\n",
       "       [1.00000000e+000, 1.91239504e-288],\n",
       "       [1.00000000e+000, 0.00000000e+000],\n",
       "       [1.00000000e+000, 0.00000000e+000],\n",
       "       [1.05194271e-040, 1.00000000e+000],\n",
       "       [1.00000000e+000, 0.00000000e+000],\n",
       "       [1.00000000e+000, 0.00000000e+000],\n",
       "       [1.00000000e+000, 0.00000000e+000],\n",
       "       [1.00000000e+000, 0.00000000e+000],\n",
       "       [2.78363775e-038, 1.00000000e+000],\n",
       "       [1.00000000e+000, 0.00000000e+000],\n",
       "       [1.00000000e+000, 0.00000000e+000],\n",
       "       [1.00000000e+000, 0.00000000e+000],\n",
       "       [1.00000000e+000, 0.00000000e+000],\n",
       "       [1.00000000e+000, 0.00000000e+000],\n",
       "       [1.00000000e+000, 0.00000000e+000],\n",
       "       [1.00000000e+000, 0.00000000e+000],\n",
       "       [1.42444197e-040, 1.00000000e+000],\n",
       "       [1.00000000e+000, 0.00000000e+000],\n",
       "       [1.00000000e+000, 0.00000000e+000],\n",
       "       [1.00000000e+000, 0.00000000e+000],\n",
       "       [1.00000000e+000, 0.00000000e+000],\n",
       "       [1.00000000e+000, 0.00000000e+000],\n",
       "       [1.00000000e+000, 0.00000000e+000],\n",
       "       [1.14468825e-026, 1.00000000e+000],\n",
       "       [1.00000000e+000, 0.00000000e+000],\n",
       "       [1.00000000e+000, 0.00000000e+000],\n",
       "       [1.00000000e+000, 0.00000000e+000],\n",
       "       [1.00000000e+000, 0.00000000e+000],\n",
       "       [1.00000000e+000, 0.00000000e+000],\n",
       "       [1.00000000e+000, 0.00000000e+000],\n",
       "       [1.00000000e+000, 0.00000000e+000],\n",
       "       [1.00000000e+000, 0.00000000e+000],\n",
       "       [1.00000000e+000, 0.00000000e+000],\n",
       "       [1.00000000e+000, 0.00000000e+000],\n",
       "       [1.00000000e+000, 0.00000000e+000],\n",
       "       [1.00000000e+000, 0.00000000e+000],\n",
       "       [1.00000000e+000, 0.00000000e+000],\n",
       "       [1.00000000e+000, 0.00000000e+000],\n",
       "       [2.81877405e-043, 1.00000000e+000],\n",
       "       [1.00000000e+000, 0.00000000e+000],\n",
       "       [1.00000000e+000, 0.00000000e+000],\n",
       "       [1.00000000e+000, 0.00000000e+000],\n",
       "       [1.00000000e+000, 0.00000000e+000],\n",
       "       [1.00000000e+000, 0.00000000e+000],\n",
       "       [1.00000000e+000, 0.00000000e+000],\n",
       "       [1.00000000e+000, 0.00000000e+000],\n",
       "       [1.00000000e+000, 0.00000000e+000],\n",
       "       [1.00000000e+000, 0.00000000e+000],\n",
       "       [1.00000000e+000, 0.00000000e+000],\n",
       "       [1.28720789e-041, 1.00000000e+000],\n",
       "       [1.00000000e+000, 0.00000000e+000],\n",
       "       [1.00000000e+000, 0.00000000e+000],\n",
       "       [1.00000000e+000, 0.00000000e+000],\n",
       "       [1.00000000e+000, 0.00000000e+000],\n",
       "       [1.00000000e+000, 0.00000000e+000],\n",
       "       [1.00000000e+000, 0.00000000e+000],\n",
       "       [1.00000000e+000, 0.00000000e+000],\n",
       "       [1.00000000e+000, 0.00000000e+000],\n",
       "       [1.00000000e+000, 0.00000000e+000],\n",
       "       [1.00000000e+000, 0.00000000e+000],\n",
       "       [2.96599044e-039, 1.00000000e+000],\n",
       "       [1.00000000e+000, 0.00000000e+000],\n",
       "       [1.00000000e+000, 0.00000000e+000],\n",
       "       [1.00000000e+000, 0.00000000e+000],\n",
       "       [1.00000000e+000, 0.00000000e+000],\n",
       "       [1.00000000e+000, 0.00000000e+000],\n",
       "       [1.00000000e+000, 0.00000000e+000],\n",
       "       [1.00000000e+000, 0.00000000e+000],\n",
       "       [1.75023821e-034, 1.00000000e+000],\n",
       "       [1.00000000e+000, 0.00000000e+000],\n",
       "       [1.00000000e+000, 0.00000000e+000],\n",
       "       [1.00000000e+000, 0.00000000e+000],\n",
       "       [1.00000000e+000, 0.00000000e+000],\n",
       "       [1.00000000e+000, 0.00000000e+000],\n",
       "       [1.00000000e+000, 0.00000000e+000],\n",
       "       [1.00000000e+000, 0.00000000e+000],\n",
       "       [4.86628180e-027, 1.00000000e+000],\n",
       "       [1.16792380e-040, 1.00000000e+000],\n",
       "       [1.00000000e+000, 0.00000000e+000],\n",
       "       [1.00000000e+000, 0.00000000e+000],\n",
       "       [1.00000000e+000, 0.00000000e+000],\n",
       "       [1.00000000e+000, 0.00000000e+000],\n",
       "       [1.00000000e+000, 0.00000000e+000],\n",
       "       [1.00000000e+000, 0.00000000e+000],\n",
       "       [1.00000000e+000, 0.00000000e+000],\n",
       "       [1.00000000e+000, 0.00000000e+000],\n",
       "       [1.00000000e+000, 0.00000000e+000],\n",
       "       [1.00000000e+000, 0.00000000e+000],\n",
       "       [1.00000000e+000, 0.00000000e+000],\n",
       "       [1.00000000e+000, 0.00000000e+000],\n",
       "       [2.19068319e-041, 1.00000000e+000],\n",
       "       [1.00000000e+000, 0.00000000e+000],\n",
       "       [1.00000000e+000, 0.00000000e+000],\n",
       "       [1.00000000e+000, 0.00000000e+000],\n",
       "       [1.00000000e+000, 0.00000000e+000],\n",
       "       [1.00000000e+000, 0.00000000e+000],\n",
       "       [1.00000000e+000, 0.00000000e+000],\n",
       "       [7.05833437e-043, 1.00000000e+000],\n",
       "       [1.00000000e+000, 0.00000000e+000],\n",
       "       [4.13973551e-024, 1.00000000e+000],\n",
       "       [1.00000000e+000, 0.00000000e+000],\n",
       "       [1.00000000e+000, 0.00000000e+000],\n",
       "       [1.00000000e+000, 0.00000000e+000],\n",
       "       [1.00000000e+000, 0.00000000e+000],\n",
       "       [1.00000000e+000, 0.00000000e+000],\n",
       "       [1.00000000e+000, 0.00000000e+000],\n",
       "       [1.00000000e+000, 0.00000000e+000],\n",
       "       [1.00000000e+000, 0.00000000e+000],\n",
       "       [1.00000000e+000, 0.00000000e+000],\n",
       "       [1.35571982e-029, 1.00000000e+000],\n",
       "       [1.00000000e+000, 0.00000000e+000],\n",
       "       [1.00000000e+000, 0.00000000e+000],\n",
       "       [1.00000000e+000, 0.00000000e+000],\n",
       "       [1.00000000e+000, 0.00000000e+000],\n",
       "       [1.00000000e+000, 0.00000000e+000],\n",
       "       [1.00000000e+000, 0.00000000e+000],\n",
       "       [1.00000000e+000, 0.00000000e+000],\n",
       "       [1.00000000e+000, 0.00000000e+000],\n",
       "       [1.00000000e+000, 0.00000000e+000],\n",
       "       [1.23353230e-042, 1.00000000e+000],\n",
       "       [1.65252182e-043, 1.00000000e+000],\n",
       "       [1.00000000e+000, 0.00000000e+000],\n",
       "       [1.00000000e+000, 0.00000000e+000],\n",
       "       [1.00000000e+000, 0.00000000e+000],\n",
       "       [1.00000000e+000, 0.00000000e+000],\n",
       "       [1.00000000e+000, 0.00000000e+000],\n",
       "       [1.00000000e+000, 0.00000000e+000],\n",
       "       [1.00000000e+000, 0.00000000e+000],\n",
       "       [1.00000000e+000, 0.00000000e+000],\n",
       "       [1.00000000e+000, 0.00000000e+000],\n",
       "       [1.00000000e+000, 0.00000000e+000],\n",
       "       [1.00000000e+000, 0.00000000e+000],\n",
       "       [1.00000000e+000, 0.00000000e+000],\n",
       "       [1.00000000e+000, 0.00000000e+000],\n",
       "       [1.00000000e+000, 0.00000000e+000],\n",
       "       [1.00000000e+000, 0.00000000e+000],\n",
       "       [1.00000000e+000, 0.00000000e+000],\n",
       "       [1.00000000e+000, 0.00000000e+000],\n",
       "       [1.00000000e+000, 0.00000000e+000],\n",
       "       [1.00000000e+000, 0.00000000e+000],\n",
       "       [1.00000000e+000, 0.00000000e+000],\n",
       "       [1.00000000e+000, 0.00000000e+000],\n",
       "       [1.00000000e+000, 0.00000000e+000],\n",
       "       [1.00000000e+000, 0.00000000e+000],\n",
       "       [1.00000000e+000, 0.00000000e+000],\n",
       "       [1.00000000e+000, 0.00000000e+000],\n",
       "       [1.00000000e+000, 0.00000000e+000],\n",
       "       [1.00000000e+000, 0.00000000e+000],\n",
       "       [1.00000000e+000, 0.00000000e+000],\n",
       "       [1.00000000e+000, 0.00000000e+000],\n",
       "       [1.00000000e+000, 0.00000000e+000],\n",
       "       [1.00000000e+000, 0.00000000e+000],\n",
       "       [1.00000000e+000, 0.00000000e+000],\n",
       "       [1.00000000e+000, 0.00000000e+000],\n",
       "       [1.00000000e+000, 0.00000000e+000],\n",
       "       [1.00000000e+000, 0.00000000e+000],\n",
       "       [1.00000000e+000, 0.00000000e+000],\n",
       "       [1.00000000e+000, 0.00000000e+000],\n",
       "       [1.00000000e+000, 0.00000000e+000],\n",
       "       [1.00000000e+000, 0.00000000e+000],\n",
       "       [1.00000000e+000, 0.00000000e+000],\n",
       "       [1.00000000e+000, 0.00000000e+000],\n",
       "       [1.00000000e+000, 0.00000000e+000],\n",
       "       [1.00000000e+000, 0.00000000e+000],\n",
       "       [1.00000000e+000, 0.00000000e+000],\n",
       "       [1.00000000e+000, 0.00000000e+000],\n",
       "       [1.00000000e+000, 0.00000000e+000],\n",
       "       [1.00000000e+000, 0.00000000e+000],\n",
       "       [1.00000000e+000, 0.00000000e+000],\n",
       "       [1.00000000e+000, 0.00000000e+000],\n",
       "       [1.00000000e+000, 0.00000000e+000]])"
      ]
     },
     "execution_count": 158,
     "metadata": {},
     "output_type": "execute_result"
    }
   ],
   "source": [
    "#ROC Curves\n",
    "y_pred_prob_iec = model_iec.predict_proba(X_test)\n",
    "y_pred_prob_iec"
   ]
  },
  {
   "cell_type": "code",
   "execution_count": 159,
   "id": "c0216bf1",
   "metadata": {},
   "outputs": [
    {
     "data": {
      "text/plain": [
       "array([1.00000000e+000, 0.00000000e+000, 0.00000000e+000, 0.00000000e+000,\n",
       "       0.00000000e+000, 0.00000000e+000, 0.00000000e+000, 0.00000000e+000,\n",
       "       0.00000000e+000, 0.00000000e+000, 0.00000000e+000, 0.00000000e+000,\n",
       "       0.00000000e+000, 0.00000000e+000, 0.00000000e+000, 0.00000000e+000,\n",
       "       0.00000000e+000, 0.00000000e+000, 0.00000000e+000, 0.00000000e+000,\n",
       "       0.00000000e+000, 0.00000000e+000, 0.00000000e+000, 0.00000000e+000,\n",
       "       0.00000000e+000, 0.00000000e+000, 0.00000000e+000, 0.00000000e+000,\n",
       "       0.00000000e+000, 0.00000000e+000, 0.00000000e+000, 0.00000000e+000,\n",
       "       0.00000000e+000, 1.00000000e+000, 0.00000000e+000, 0.00000000e+000,\n",
       "       0.00000000e+000, 0.00000000e+000, 0.00000000e+000, 0.00000000e+000,\n",
       "       0.00000000e+000, 1.00000000e+000, 0.00000000e+000, 0.00000000e+000,\n",
       "       1.00000000e+000, 1.00000000e+000, 0.00000000e+000, 0.00000000e+000,\n",
       "       0.00000000e+000, 0.00000000e+000, 0.00000000e+000, 1.00000000e+000,\n",
       "       0.00000000e+000, 1.00000000e+000, 0.00000000e+000, 0.00000000e+000,\n",
       "       0.00000000e+000, 0.00000000e+000, 1.00000000e+000, 0.00000000e+000,\n",
       "       0.00000000e+000, 0.00000000e+000, 0.00000000e+000, 0.00000000e+000,\n",
       "       0.00000000e+000, 1.00000000e+000, 0.00000000e+000, 0.00000000e+000,\n",
       "       0.00000000e+000, 0.00000000e+000, 0.00000000e+000, 0.00000000e+000,\n",
       "       0.00000000e+000, 0.00000000e+000, 0.00000000e+000, 0.00000000e+000,\n",
       "       0.00000000e+000, 0.00000000e+000, 1.00000000e+000, 1.00000000e+000,\n",
       "       0.00000000e+000, 0.00000000e+000, 0.00000000e+000, 0.00000000e+000,\n",
       "       0.00000000e+000, 0.00000000e+000, 1.00000000e+000, 0.00000000e+000,\n",
       "       0.00000000e+000, 0.00000000e+000, 0.00000000e+000, 0.00000000e+000,\n",
       "       1.00000000e+000, 0.00000000e+000, 1.00000000e+000, 0.00000000e+000,\n",
       "       0.00000000e+000, 1.00000000e+000, 1.00000000e+000, 0.00000000e+000,\n",
       "       0.00000000e+000, 0.00000000e+000, 0.00000000e+000, 0.00000000e+000,\n",
       "       0.00000000e+000, 0.00000000e+000, 1.91239504e-288, 0.00000000e+000,\n",
       "       0.00000000e+000, 1.00000000e+000, 0.00000000e+000, 0.00000000e+000,\n",
       "       0.00000000e+000, 0.00000000e+000, 1.00000000e+000, 0.00000000e+000,\n",
       "       0.00000000e+000, 0.00000000e+000, 0.00000000e+000, 0.00000000e+000,\n",
       "       0.00000000e+000, 0.00000000e+000, 1.00000000e+000, 0.00000000e+000,\n",
       "       0.00000000e+000, 0.00000000e+000, 0.00000000e+000, 0.00000000e+000,\n",
       "       0.00000000e+000, 1.00000000e+000, 0.00000000e+000, 0.00000000e+000,\n",
       "       0.00000000e+000, 0.00000000e+000, 0.00000000e+000, 0.00000000e+000,\n",
       "       0.00000000e+000, 0.00000000e+000, 0.00000000e+000, 0.00000000e+000,\n",
       "       0.00000000e+000, 0.00000000e+000, 0.00000000e+000, 0.00000000e+000,\n",
       "       1.00000000e+000, 0.00000000e+000, 0.00000000e+000, 0.00000000e+000,\n",
       "       0.00000000e+000, 0.00000000e+000, 0.00000000e+000, 0.00000000e+000,\n",
       "       0.00000000e+000, 0.00000000e+000, 0.00000000e+000, 1.00000000e+000,\n",
       "       0.00000000e+000, 0.00000000e+000, 0.00000000e+000, 0.00000000e+000,\n",
       "       0.00000000e+000, 0.00000000e+000, 0.00000000e+000, 0.00000000e+000,\n",
       "       0.00000000e+000, 0.00000000e+000, 1.00000000e+000, 0.00000000e+000,\n",
       "       0.00000000e+000, 0.00000000e+000, 0.00000000e+000, 0.00000000e+000,\n",
       "       0.00000000e+000, 0.00000000e+000, 1.00000000e+000, 0.00000000e+000,\n",
       "       0.00000000e+000, 0.00000000e+000, 0.00000000e+000, 0.00000000e+000,\n",
       "       0.00000000e+000, 0.00000000e+000, 1.00000000e+000, 1.00000000e+000,\n",
       "       0.00000000e+000, 0.00000000e+000, 0.00000000e+000, 0.00000000e+000,\n",
       "       0.00000000e+000, 0.00000000e+000, 0.00000000e+000, 0.00000000e+000,\n",
       "       0.00000000e+000, 0.00000000e+000, 0.00000000e+000, 0.00000000e+000,\n",
       "       1.00000000e+000, 0.00000000e+000, 0.00000000e+000, 0.00000000e+000,\n",
       "       0.00000000e+000, 0.00000000e+000, 0.00000000e+000, 1.00000000e+000,\n",
       "       0.00000000e+000, 1.00000000e+000, 0.00000000e+000, 0.00000000e+000,\n",
       "       0.00000000e+000, 0.00000000e+000, 0.00000000e+000, 0.00000000e+000,\n",
       "       0.00000000e+000, 0.00000000e+000, 0.00000000e+000, 1.00000000e+000,\n",
       "       0.00000000e+000, 0.00000000e+000, 0.00000000e+000, 0.00000000e+000,\n",
       "       0.00000000e+000, 0.00000000e+000, 0.00000000e+000, 0.00000000e+000,\n",
       "       0.00000000e+000, 1.00000000e+000, 1.00000000e+000, 0.00000000e+000,\n",
       "       0.00000000e+000, 0.00000000e+000, 0.00000000e+000, 0.00000000e+000,\n",
       "       0.00000000e+000, 0.00000000e+000, 0.00000000e+000, 0.00000000e+000,\n",
       "       0.00000000e+000, 0.00000000e+000, 0.00000000e+000, 0.00000000e+000,\n",
       "       0.00000000e+000, 0.00000000e+000, 0.00000000e+000, 0.00000000e+000,\n",
       "       0.00000000e+000, 0.00000000e+000, 0.00000000e+000, 0.00000000e+000,\n",
       "       0.00000000e+000, 0.00000000e+000, 0.00000000e+000, 0.00000000e+000,\n",
       "       0.00000000e+000, 0.00000000e+000, 0.00000000e+000, 0.00000000e+000,\n",
       "       0.00000000e+000, 0.00000000e+000, 0.00000000e+000, 0.00000000e+000,\n",
       "       0.00000000e+000, 0.00000000e+000, 0.00000000e+000, 0.00000000e+000,\n",
       "       0.00000000e+000, 0.00000000e+000, 0.00000000e+000, 0.00000000e+000,\n",
       "       0.00000000e+000, 0.00000000e+000, 0.00000000e+000, 0.00000000e+000,\n",
       "       0.00000000e+000, 0.00000000e+000, 0.00000000e+000, 0.00000000e+000,\n",
       "       0.00000000e+000])"
      ]
     },
     "execution_count": 159,
     "metadata": {},
     "output_type": "execute_result"
    }
   ],
   "source": [
    "# class 'Y' as the positives\n",
    "probs_iec = y_pred_prob_iec[:,1] \n",
    "probs_iec"
   ]
  },
  {
   "cell_type": "code",
   "execution_count": 160,
   "id": "11371aa1",
   "metadata": {},
   "outputs": [
    {
     "data": {
      "image/png": "[encoded data removed]",
      "text/plain": [
       "<Figure size 600x600 with 1 Axes>"
      ]
     },
     "metadata": {},
     "output_type": "display_data"
    }
   ],
   "source": [
    "#roc_curve class to calculate the necessary values\n",
    "fper, tper, thresholds = roc_curve(y_test, probs_iec)\n",
    "# the plotting\n",
    "plt.figure(figsize=(6,6))\n",
    "plt.plot(fper, tper)\n",
    "plt.plot([0,1], [0,1], linestyle='--')\n",
    "plt.xlabel('False positive rate')\n",
    "plt.ylabel('True positive rate')\n",
    "plt.title('Receiver Operating Characteristic (ROC) Curve')\n",
    "plt.show()"
   ]
  },
  {
   "cell_type": "code",
   "execution_count": 161,
   "id": "5d3d59cd",
   "metadata": {},
   "outputs": [
    {
     "data": {
      "text/plain": [
       "0.9454545454545454"
      ]
     },
     "execution_count": 161,
     "metadata": {},
     "output_type": "execute_result"
    }
   ],
   "source": [
    "# area under the curve\n",
    "roc_auc_score(y_test, probs_iec)"
   ]
  }
 ],
 "metadata": {
  "kernelspec": {
   "display_name": "Python 3 (ipykernel)",
   "language": "python",
   "name": "python3"
  },
  "language_info": {
   "codemirror_mode": {
    "name": "ipython",
    "version": 3
   },
   "file_extension": ".py",
   "mimetype": "text/x-python",
   "name": "python",
   "nbconvert_exporter": "python",
   "pygments_lexer": "ipython3",
   "version": "3.9.13"
  }
 },
 "nbformat": 4,
 "nbformat_minor": 5
}
